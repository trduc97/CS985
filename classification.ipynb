{
 "cells": [
  {
   "cell_type": "markdown",
   "metadata": {
    "id": "ySEm_93YnMVd"
   },
   "source": [
    "# Spotify Classification: predict the top genre that a song belongs to.  \n",
    "\n",
    "This dataset includes these features:  \n",
    "**Id**: unique track identifier.  \n",
    "**title**: track title.  \n",
    "**artist**: singer or band.  \n",
    "**year**:  year of release (or re-release).  \n",
    "**bpm**:  beats per minute.  \n",
    "**nrgy**:  energy: higher, more energetic.  \n",
    "**dnce**: danceability: higher, the easier to dance to.  \n",
    "**dB**:  loudness (dB): the higher the value, the louder the song.  \n",
    "**live**: liveness: higher, more likely it's a live recording.  \n",
    "**val**: valence: higher, more positive mood.  \n",
    "**dur**: duration: song length.  \n",
    "**acous**: acousticness: higher, more acoustic.  \n",
    "**spch**: speechiness: higher, more spoken word.  \n",
    "**pop**:  popularity: higher is more popular.  \n",
    "**top genre**:  genre of the track (class label).  \n"
   ]
  },
  {
   "cell_type": "markdown",
   "source": [
    "# 1. Importing dataset and libraries"
   ],
   "metadata": {
    "collapsed": false
   }
  },
  {
   "cell_type": "code",
   "execution_count": 1,
   "metadata": {
    "id": "8hQw2A2VnMVe",
    "ExecuteTime": {
     "end_time": "2024-01-30T06:43:05.192851900Z",
     "start_time": "2024-01-30T06:43:05.180341200Z"
    }
   },
   "outputs": [],
   "source": [
    "import pandas as pd\n",
    "import numpy as np\n",
    "\n",
    "\n",
    "# plotting\n",
    "%matplotlib inline\n",
    "import matplotlib.pyplot as plt\n",
    "import seaborn as sns\n",
    "\n"
   ]
  },
  {
   "cell_type": "code",
   "execution_count": 2,
   "metadata": {
    "colab": {
     "base_uri": "https://localhost:8080/",
     "height": 34
    },
    "id": "SonjvcHsnMVf",
    "outputId": "ba84ff07-7ca1-472f-b860-9fa50c751900",
    "ExecuteTime": {
     "end_time": "2024-01-30T06:43:05.194850200Z",
     "start_time": "2024-01-30T06:43:05.189381600Z"
    }
   },
   "outputs": [
    {
     "data": {
      "application/javascript": "IPython.notebook.set_autosave_interval(60000)"
     },
     "metadata": {},
     "output_type": "display_data"
    },
    {
     "name": "stdout",
     "output_type": "stream",
     "text": [
      "Autosaving every 60 seconds\n"
     ]
    }
   ],
   "source": [
    "# default is 120 seconds\n",
    "%autosave 60  "
   ]
  },
  {
   "cell_type": "markdown",
   "metadata": {
    "id": "ug0ffwifnMVf"
   },
   "source": [
    "## 1.1.Load the data\n",
    "Load the train and test data:\n",
    "the train data will be split into train and validation sets for hyperparameter tuning and to select the best model. \n",
    "The best model will be trained on the entire training set\n",
    "and the trained model will make prediction on the test set."
   ]
  },
  {
   "cell_type": "code",
   "execution_count": 3,
   "metadata": {
    "execution": {
     "iopub.execute_input": "2023-02-18T21:57:13.047780Z",
     "iopub.status.busy": "2023-02-18T21:57:13.047288Z",
     "iopub.status.idle": "2023-02-18T21:57:13.061887Z",
     "shell.execute_reply": "2023-02-18T21:57:13.060828Z",
     "shell.execute_reply.started": "2023-02-18T21:57:13.047734Z"
    },
    "id": "TlaV7OO5nMVh",
    "ExecuteTime": {
     "end_time": "2024-01-30T06:43:05.211715600Z",
     "start_time": "2024-01-30T06:43:05.195847300Z"
    }
   },
   "outputs": [],
   "source": [
    "train_set=pd.read_csv(\"CS98XClassificationTrain.csv\")\n",
    "test_set=pd.read_csv(\"CS98XClassificationTest.csv\")"
   ]
  },
  {
   "cell_type": "markdown",
   "source": [
    "Removing ID and song titles"
   ],
   "metadata": {
    "collapsed": false
   }
  },
  {
   "cell_type": "code",
   "execution_count": 4,
   "outputs": [],
   "source": [
    "train_set = train_set.drop(columns=['Id','title', 'artist'])\n",
    "test_set = test_set.drop(columns=['Id','title', 'artist'])"
   ],
   "metadata": {
    "collapsed": false,
    "ExecuteTime": {
     "end_time": "2024-01-30T06:43:05.214706800Z",
     "start_time": "2024-01-30T06:43:05.206936700Z"
    }
   }
  },
  {
   "cell_type": "code",
   "execution_count": 5,
   "metadata": {
    "execution": {
     "iopub.execute_input": "2023-02-18T21:57:13.064624Z",
     "iopub.status.busy": "2023-02-18T21:57:13.063580Z",
     "iopub.status.idle": "2023-02-18T21:57:13.069603Z",
     "shell.execute_reply": "2023-02-18T21:57:13.068344Z",
     "shell.execute_reply.started": "2023-02-18T21:57:13.064582Z"
    },
    "id": "QGZp4N-8w1YO",
    "ExecuteTime": {
     "end_time": "2024-01-30T06:43:05.261868600Z",
     "start_time": "2024-01-30T06:43:05.213708700Z"
    }
   },
   "outputs": [],
   "source": [
    "#set to True for data visualization and verbose text output \n",
    "verbose=True  "
   ]
  },
  {
   "cell_type": "code",
   "execution_count": 6,
   "outputs": [
    {
     "data": {
      "text/plain": "   year  bpm  nrgy  dnce  dB  live  val  dur  acous  spch  pop  \\\n0  1996  107    31    45  -8    13   28  150     75     3   44   \n1  2011  114    44    53  -8    13   47  139     49     3   37   \n2  1979  105    36    63  -9    13   67  245     11     3   77   \n3  1980  170    28    47 -16    13   33  232     25     3   67   \n4  1973  121    47    56  -8    15   40  193     45     3   63   \n\n         top genre  \n0  adult standards  \n1              NaN  \n2  adult standards  \n3  adult standards  \n4        glam rock  ",
      "text/html": "<div>\n<style scoped>\n    .dataframe tbody tr th:only-of-type {\n        vertical-align: middle;\n    }\n\n    .dataframe tbody tr th {\n        vertical-align: top;\n    }\n\n    .dataframe thead th {\n        text-align: right;\n    }\n</style>\n<table border=\"1\" class=\"dataframe\">\n  <thead>\n    <tr style=\"text-align: right;\">\n      <th></th>\n      <th>year</th>\n      <th>bpm</th>\n      <th>nrgy</th>\n      <th>dnce</th>\n      <th>dB</th>\n      <th>live</th>\n      <th>val</th>\n      <th>dur</th>\n      <th>acous</th>\n      <th>spch</th>\n      <th>pop</th>\n      <th>top genre</th>\n    </tr>\n  </thead>\n  <tbody>\n    <tr>\n      <th>0</th>\n      <td>1996</td>\n      <td>107</td>\n      <td>31</td>\n      <td>45</td>\n      <td>-8</td>\n      <td>13</td>\n      <td>28</td>\n      <td>150</td>\n      <td>75</td>\n      <td>3</td>\n      <td>44</td>\n      <td>adult standards</td>\n    </tr>\n    <tr>\n      <th>1</th>\n      <td>2011</td>\n      <td>114</td>\n      <td>44</td>\n      <td>53</td>\n      <td>-8</td>\n      <td>13</td>\n      <td>47</td>\n      <td>139</td>\n      <td>49</td>\n      <td>3</td>\n      <td>37</td>\n      <td>NaN</td>\n    </tr>\n    <tr>\n      <th>2</th>\n      <td>1979</td>\n      <td>105</td>\n      <td>36</td>\n      <td>63</td>\n      <td>-9</td>\n      <td>13</td>\n      <td>67</td>\n      <td>245</td>\n      <td>11</td>\n      <td>3</td>\n      <td>77</td>\n      <td>adult standards</td>\n    </tr>\n    <tr>\n      <th>3</th>\n      <td>1980</td>\n      <td>170</td>\n      <td>28</td>\n      <td>47</td>\n      <td>-16</td>\n      <td>13</td>\n      <td>33</td>\n      <td>232</td>\n      <td>25</td>\n      <td>3</td>\n      <td>67</td>\n      <td>adult standards</td>\n    </tr>\n    <tr>\n      <th>4</th>\n      <td>1973</td>\n      <td>121</td>\n      <td>47</td>\n      <td>56</td>\n      <td>-8</td>\n      <td>15</td>\n      <td>40</td>\n      <td>193</td>\n      <td>45</td>\n      <td>3</td>\n      <td>63</td>\n      <td>glam rock</td>\n    </tr>\n  </tbody>\n</table>\n</div>"
     },
     "execution_count": 6,
     "metadata": {},
     "output_type": "execute_result"
    }
   ],
   "source": [
    "train_set.head()"
   ],
   "metadata": {
    "collapsed": false,
    "ExecuteTime": {
     "end_time": "2024-01-30T06:43:05.271182900Z",
     "start_time": "2024-01-30T06:43:05.221284500Z"
    }
   }
  },
  {
   "cell_type": "code",
   "execution_count": 7,
   "metadata": {
    "colab": {
     "base_uri": "https://localhost:8080/",
     "height": 300
    },
    "id": "upOTw1t7nMVm",
    "outputId": "708272ac-8ee0-427a-de27-5c015509d976",
    "ExecuteTime": {
     "end_time": "2024-01-30T06:43:05.273178500Z",
     "start_time": "2024-01-30T06:43:05.239200400Z"
    }
   },
   "outputs": [
    {
     "data": {
      "text/plain": "              year         bpm        nrgy        dnce          dB  \\\ncount   453.000000  453.000000  453.000000  453.000000  453.000000   \nmean   1991.443709  118.399558   60.070640   59.565121   -8.836645   \nstd      16.776103   25.238713   22.205284   15.484458    3.577187   \nmin    1948.000000   62.000000    7.000000   18.000000  -24.000000   \n25%    1976.000000  100.000000   43.000000   49.000000  -11.000000   \n50%    1994.000000  119.000000   63.000000   61.000000   -8.000000   \n75%    2007.000000  133.000000   78.000000   70.000000   -6.000000   \nmax    2019.000000  199.000000  100.000000   96.000000   -1.000000   \n\n             live         val         dur       acous        spch         pop  \ncount  453.000000  453.000000  453.000000  453.000000  453.000000  453.000000  \nmean    17.757174   59.465784  226.278146   32.982340    5.660044   60.743929  \nstd     13.830300   24.539868   63.770380   29.530015    5.550581   13.470083  \nmin      2.000000    6.000000   98.000000    0.000000    2.000000   26.000000  \n25%      9.000000   42.000000  181.000000    7.000000    3.000000   53.000000  \n50%     13.000000   61.000000  223.000000   24.000000    4.000000   63.000000  \n75%     23.000000   80.000000  262.000000   58.000000    6.000000   71.000000  \nmax     93.000000   99.000000  511.000000  100.000000   47.000000   84.000000  ",
      "text/html": "<div>\n<style scoped>\n    .dataframe tbody tr th:only-of-type {\n        vertical-align: middle;\n    }\n\n    .dataframe tbody tr th {\n        vertical-align: top;\n    }\n\n    .dataframe thead th {\n        text-align: right;\n    }\n</style>\n<table border=\"1\" class=\"dataframe\">\n  <thead>\n    <tr style=\"text-align: right;\">\n      <th></th>\n      <th>year</th>\n      <th>bpm</th>\n      <th>nrgy</th>\n      <th>dnce</th>\n      <th>dB</th>\n      <th>live</th>\n      <th>val</th>\n      <th>dur</th>\n      <th>acous</th>\n      <th>spch</th>\n      <th>pop</th>\n    </tr>\n  </thead>\n  <tbody>\n    <tr>\n      <th>count</th>\n      <td>453.000000</td>\n      <td>453.000000</td>\n      <td>453.000000</td>\n      <td>453.000000</td>\n      <td>453.000000</td>\n      <td>453.000000</td>\n      <td>453.000000</td>\n      <td>453.000000</td>\n      <td>453.000000</td>\n      <td>453.000000</td>\n      <td>453.000000</td>\n    </tr>\n    <tr>\n      <th>mean</th>\n      <td>1991.443709</td>\n      <td>118.399558</td>\n      <td>60.070640</td>\n      <td>59.565121</td>\n      <td>-8.836645</td>\n      <td>17.757174</td>\n      <td>59.465784</td>\n      <td>226.278146</td>\n      <td>32.982340</td>\n      <td>5.660044</td>\n      <td>60.743929</td>\n    </tr>\n    <tr>\n      <th>std</th>\n      <td>16.776103</td>\n      <td>25.238713</td>\n      <td>22.205284</td>\n      <td>15.484458</td>\n      <td>3.577187</td>\n      <td>13.830300</td>\n      <td>24.539868</td>\n      <td>63.770380</td>\n      <td>29.530015</td>\n      <td>5.550581</td>\n      <td>13.470083</td>\n    </tr>\n    <tr>\n      <th>min</th>\n      <td>1948.000000</td>\n      <td>62.000000</td>\n      <td>7.000000</td>\n      <td>18.000000</td>\n      <td>-24.000000</td>\n      <td>2.000000</td>\n      <td>6.000000</td>\n      <td>98.000000</td>\n      <td>0.000000</td>\n      <td>2.000000</td>\n      <td>26.000000</td>\n    </tr>\n    <tr>\n      <th>25%</th>\n      <td>1976.000000</td>\n      <td>100.000000</td>\n      <td>43.000000</td>\n      <td>49.000000</td>\n      <td>-11.000000</td>\n      <td>9.000000</td>\n      <td>42.000000</td>\n      <td>181.000000</td>\n      <td>7.000000</td>\n      <td>3.000000</td>\n      <td>53.000000</td>\n    </tr>\n    <tr>\n      <th>50%</th>\n      <td>1994.000000</td>\n      <td>119.000000</td>\n      <td>63.000000</td>\n      <td>61.000000</td>\n      <td>-8.000000</td>\n      <td>13.000000</td>\n      <td>61.000000</td>\n      <td>223.000000</td>\n      <td>24.000000</td>\n      <td>4.000000</td>\n      <td>63.000000</td>\n    </tr>\n    <tr>\n      <th>75%</th>\n      <td>2007.000000</td>\n      <td>133.000000</td>\n      <td>78.000000</td>\n      <td>70.000000</td>\n      <td>-6.000000</td>\n      <td>23.000000</td>\n      <td>80.000000</td>\n      <td>262.000000</td>\n      <td>58.000000</td>\n      <td>6.000000</td>\n      <td>71.000000</td>\n    </tr>\n    <tr>\n      <th>max</th>\n      <td>2019.000000</td>\n      <td>199.000000</td>\n      <td>100.000000</td>\n      <td>96.000000</td>\n      <td>-1.000000</td>\n      <td>93.000000</td>\n      <td>99.000000</td>\n      <td>511.000000</td>\n      <td>100.000000</td>\n      <td>47.000000</td>\n      <td>84.000000</td>\n    </tr>\n  </tbody>\n</table>\n</div>"
     },
     "execution_count": 7,
     "metadata": {},
     "output_type": "execute_result"
    }
   ],
   "source": [
    "# summary of numerical features\n",
    "train_set.describe()"
   ]
  },
  {
   "cell_type": "code",
   "execution_count": 8,
   "metadata": {
    "colab": {
     "base_uri": "https://localhost:8080/"
    },
    "id": "ckwaXQGZnMVn",
    "outputId": "672a23b9-e1f9-4e60-af95-aebebb9eb849",
    "ExecuteTime": {
     "end_time": "2024-01-30T06:43:05.275272500Z",
     "start_time": "2024-01-30T06:43:05.261868600Z"
    }
   },
   "outputs": [
    {
     "name": "stdout",
     "output_type": "stream",
     "text": [
      "<class 'pandas.core.frame.DataFrame'>\n",
      "RangeIndex: 453 entries, 0 to 452\n",
      "Data columns (total 12 columns):\n",
      " #   Column     Non-Null Count  Dtype \n",
      "---  ------     --------------  ----- \n",
      " 0   year       453 non-null    int64 \n",
      " 1   bpm        453 non-null    int64 \n",
      " 2   nrgy       453 non-null    int64 \n",
      " 3   dnce       453 non-null    int64 \n",
      " 4   dB         453 non-null    int64 \n",
      " 5   live       453 non-null    int64 \n",
      " 6   val        453 non-null    int64 \n",
      " 7   dur        453 non-null    int64 \n",
      " 8   acous      453 non-null    int64 \n",
      " 9   spch       453 non-null    int64 \n",
      " 10  pop        453 non-null    int64 \n",
      " 11  top genre  438 non-null    object\n",
      "dtypes: int64(11), object(1)\n",
      "memory usage: 42.6+ KB\n"
     ]
    }
   ],
   "source": [
    "# feature names and their counts, Non-Null counts should be equal.\n",
    "# top genre is the target (class) and has missing values (453-438)\n",
    "train_set.info()"
   ]
  },
  {
   "cell_type": "markdown",
   "source": [
    "# 2. Data cleaning and exploration"
   ],
   "metadata": {
    "collapsed": false
   }
  },
  {
   "cell_type": "markdown",
   "source": [
    "## 2.1. Remove duplicate"
   ],
   "metadata": {
    "collapsed": false
   }
  },
  {
   "cell_type": "code",
   "execution_count": 9,
   "outputs": [
    {
     "data": {
      "text/plain": "452"
     },
     "execution_count": 9,
     "metadata": {},
     "output_type": "execute_result"
    }
   ],
   "source": [
    "train_set = train_set.drop_duplicates()\n",
    "len(train_set)"
   ],
   "metadata": {
    "collapsed": false,
    "ExecuteTime": {
     "end_time": "2024-01-30T06:43:05.296573900Z",
     "start_time": "2024-01-30T06:43:05.269188200Z"
    }
   }
  },
  {
   "cell_type": "markdown",
   "source": [
    "## 2.2. Checking outliers"
   ],
   "metadata": {
    "collapsed": false
   }
  },
  {
   "cell_type": "code",
   "execution_count": 10,
   "metadata": {
    "scrolled": true,
    "colab": {
     "base_uri": "https://localhost:8080/",
     "height": 301
    },
    "id": "soyDosIgnMVx",
    "outputId": "090c9028-ce17-4ef8-f7a8-903c1d82019d",
    "ExecuteTime": {
     "end_time": "2024-01-30T06:43:05.989026600Z",
     "start_time": "2024-01-30T06:43:05.283539200Z"
    }
   },
   "outputs": [
    {
     "name": "stderr",
     "output_type": "stream",
     "text": [
      "C:\\Users\\Newowner\\AppData\\Local\\Programs\\Python\\Python311\\Lib\\site-packages\\seaborn\\categorical.py:640: FutureWarning: SeriesGroupBy.grouper is deprecated and will be removed in a future version of pandas.\n",
      "  positions = grouped.grouper.result_index.to_numpy(dtype=float)\n",
      "C:\\Users\\Newowner\\AppData\\Local\\Programs\\Python\\Python311\\Lib\\site-packages\\seaborn\\categorical.py:640: FutureWarning: SeriesGroupBy.grouper is deprecated and will be removed in a future version of pandas.\n",
      "  positions = grouped.grouper.result_index.to_numpy(dtype=float)\n",
      "C:\\Users\\Newowner\\AppData\\Local\\Programs\\Python\\Python311\\Lib\\site-packages\\seaborn\\categorical.py:640: FutureWarning: SeriesGroupBy.grouper is deprecated and will be removed in a future version of pandas.\n",
      "  positions = grouped.grouper.result_index.to_numpy(dtype=float)\n",
      "C:\\Users\\Newowner\\AppData\\Local\\Programs\\Python\\Python311\\Lib\\site-packages\\seaborn\\categorical.py:640: FutureWarning: SeriesGroupBy.grouper is deprecated and will be removed in a future version of pandas.\n",
      "  positions = grouped.grouper.result_index.to_numpy(dtype=float)\n",
      "C:\\Users\\Newowner\\AppData\\Local\\Programs\\Python\\Python311\\Lib\\site-packages\\seaborn\\categorical.py:640: FutureWarning: SeriesGroupBy.grouper is deprecated and will be removed in a future version of pandas.\n",
      "  positions = grouped.grouper.result_index.to_numpy(dtype=float)\n",
      "C:\\Users\\Newowner\\AppData\\Local\\Programs\\Python\\Python311\\Lib\\site-packages\\seaborn\\categorical.py:640: FutureWarning: SeriesGroupBy.grouper is deprecated and will be removed in a future version of pandas.\n",
      "  positions = grouped.grouper.result_index.to_numpy(dtype=float)\n",
      "C:\\Users\\Newowner\\AppData\\Local\\Programs\\Python\\Python311\\Lib\\site-packages\\seaborn\\categorical.py:640: FutureWarning: SeriesGroupBy.grouper is deprecated and will be removed in a future version of pandas.\n",
      "  positions = grouped.grouper.result_index.to_numpy(dtype=float)\n"
     ]
    },
    {
     "data": {
      "text/plain": "<Figure size 700x500 with 7 Axes>",
      "image/png": "[encoded data removed]"
     },
     "metadata": {},
     "output_type": "display_data"
    }
   ],
   "source": [
    "# boxplots: visualize data distributions and outliers\n",
    "if verbose:\n",
    "  plt.figure(figsize=(7,5));\n",
    "  df=train_set.drop(\"top genre\", axis=1, inplace=False)\n",
    "  attributes=df.columns.values.tolist()\n",
    "  idx=4\n",
    "  for attribute in attributes[idx:]:\n",
    "    plt.subplot(5,3,idx)\n",
    "    sns.boxplot(x=train_set[attribute])\n",
    "    idx=idx+1\n",
    "  plt.tight_layout(pad=1)\n",
    "  plt.show()"
   ]
  },
  {
   "cell_type": "markdown",
   "source": [
    "We see that quite a few outliers are presented in multiple features like \"spch\", \"dur\", \"live\". As we are working with a relatively small dataset, dropping all these rows can cause us precious data, so instead we will change the numeric value of the features into its equivalent percentile "
   ],
   "metadata": {
    "collapsed": false
   }
  },
  {
   "cell_type": "code",
   "execution_count": 11,
   "outputs": [
    {
     "data": {
      "text/plain": "   year  bpm  nrgy  dnce  dB  live  val  dur  acous  spch  pop  \\\n0  1996  107    31    45  -8    13   28  150     75     3   44   \n1  2011  114    44    53  -8    13   47  139     49     3   37   \n2  1979  105    36    63  -9    13   67  245     11     3   77   \n3  1980  170    28    47 -16    13   33  232     25     3   67   \n4  1973  121    47    56  -8    15   40  193     45     3   63   \n\n         top_genre  \n0  adult standards  \n1              NaN  \n2  adult standards  \n3  adult standards  \n4        glam rock  ",
      "text/html": "<div>\n<style scoped>\n    .dataframe tbody tr th:only-of-type {\n        vertical-align: middle;\n    }\n\n    .dataframe tbody tr th {\n        vertical-align: top;\n    }\n\n    .dataframe thead th {\n        text-align: right;\n    }\n</style>\n<table border=\"1\" class=\"dataframe\">\n  <thead>\n    <tr style=\"text-align: right;\">\n      <th></th>\n      <th>year</th>\n      <th>bpm</th>\n      <th>nrgy</th>\n      <th>dnce</th>\n      <th>dB</th>\n      <th>live</th>\n      <th>val</th>\n      <th>dur</th>\n      <th>acous</th>\n      <th>spch</th>\n      <th>pop</th>\n      <th>top_genre</th>\n    </tr>\n  </thead>\n  <tbody>\n    <tr>\n      <th>0</th>\n      <td>1996</td>\n      <td>107</td>\n      <td>31</td>\n      <td>45</td>\n      <td>-8</td>\n      <td>13</td>\n      <td>28</td>\n      <td>150</td>\n      <td>75</td>\n      <td>3</td>\n      <td>44</td>\n      <td>adult standards</td>\n    </tr>\n    <tr>\n      <th>1</th>\n      <td>2011</td>\n      <td>114</td>\n      <td>44</td>\n      <td>53</td>\n      <td>-8</td>\n      <td>13</td>\n      <td>47</td>\n      <td>139</td>\n      <td>49</td>\n      <td>3</td>\n      <td>37</td>\n      <td>NaN</td>\n    </tr>\n    <tr>\n      <th>2</th>\n      <td>1979</td>\n      <td>105</td>\n      <td>36</td>\n      <td>63</td>\n      <td>-9</td>\n      <td>13</td>\n      <td>67</td>\n      <td>245</td>\n      <td>11</td>\n      <td>3</td>\n      <td>77</td>\n      <td>adult standards</td>\n    </tr>\n    <tr>\n      <th>3</th>\n      <td>1980</td>\n      <td>170</td>\n      <td>28</td>\n      <td>47</td>\n      <td>-16</td>\n      <td>13</td>\n      <td>33</td>\n      <td>232</td>\n      <td>25</td>\n      <td>3</td>\n      <td>67</td>\n      <td>adult standards</td>\n    </tr>\n    <tr>\n      <th>4</th>\n      <td>1973</td>\n      <td>121</td>\n      <td>47</td>\n      <td>56</td>\n      <td>-8</td>\n      <td>15</td>\n      <td>40</td>\n      <td>193</td>\n      <td>45</td>\n      <td>3</td>\n      <td>63</td>\n      <td>glam rock</td>\n    </tr>\n  </tbody>\n</table>\n</div>"
     },
     "execution_count": 11,
     "metadata": {},
     "output_type": "execute_result"
    }
   ],
   "source": [
    "train_set.rename(columns={'top genre': 'top_genre'}, inplace=True)\n",
    "train_set.head()"
   ],
   "metadata": {
    "collapsed": false,
    "ExecuteTime": {
     "end_time": "2024-01-30T06:43:06.007206600Z",
     "start_time": "2024-01-30T06:43:05.989026600Z"
    }
   }
  },
  {
   "cell_type": "code",
   "execution_count": 12,
   "outputs": [],
   "source": [
    "test_set['top_genre'] = 'testing'\n",
    "\n",
    "# Concatenate the train and test dataset into 1 for outliers conversion\n",
    "\n",
    "df_concat = pd.concat([train_set, test_set], ignore_index=True)"
   ],
   "metadata": {
    "collapsed": false,
    "ExecuteTime": {
     "end_time": "2024-01-30T06:43:06.011702900Z",
     "start_time": "2024-01-30T06:43:05.998267100Z"
    }
   }
  },
  {
   "cell_type": "code",
   "execution_count": 13,
   "outputs": [],
   "source": [
    "# Function to calculate percentile values\n",
    "def calculate_percentiles(df, col_list):\n",
    "    for col in col_list:\n",
    "        df[col] = df[col].rank(pct=True)\n",
    "    return df\n",
    "# Calculate percentiles for the column\n",
    "outliers_col = ['live','dur', 'spch']\n",
    "df_concat = calculate_percentiles(df_concat, outliers_col)"
   ],
   "metadata": {
    "collapsed": false,
    "ExecuteTime": {
     "end_time": "2024-01-30T06:43:06.024466600Z",
     "start_time": "2024-01-30T06:43:06.010705Z"
    }
   }
  },
  {
   "cell_type": "code",
   "execution_count": 14,
   "outputs": [
    {
     "data": {
      "text/plain": "              year         bpm        nrgy        dnce          dB  \\\ncount   565.000000  565.000000  565.000000  565.000000  565.000000   \nmean   1991.249558  119.339823   60.290265   59.465487   -8.846018   \nstd      16.725878   25.408114   22.357365   15.400365    3.648473   \nmin    1945.000000   62.000000    6.000000   18.000000  -24.000000   \n25%    1976.000000  102.000000   43.000000   50.000000  -11.000000   \n50%    1993.000000  120.000000   63.000000   60.000000   -8.000000   \n75%    2007.000000  134.000000   79.000000   70.000000   -6.000000   \nmax    2019.000000  199.000000  100.000000   96.000000   -1.000000   \n\n             live         val         dur       acous        spch         pop  \ncount  565.000000  565.000000  565.000000  565.000000  565.000000  565.000000  \nmean     0.500885   59.286726    0.500885   32.557522    0.500885   61.111504  \nstd      0.288644   24.480255    0.288921   29.605964    0.277469   13.200310  \nmin      0.002655    6.000000    0.001770    0.000000    0.008850   26.000000  \n25%      0.233628   40.000000    0.252212    6.000000    0.216814   54.000000  \n50%      0.500000   61.000000    0.498230   23.000000    0.533628   64.000000  \n75%      0.760177   80.000000    0.754867   57.000000    0.769027   71.000000  \nmax      1.000000   99.000000    1.000000  100.000000    0.999115   84.000000  ",
      "text/html": "<div>\n<style scoped>\n    .dataframe tbody tr th:only-of-type {\n        vertical-align: middle;\n    }\n\n    .dataframe tbody tr th {\n        vertical-align: top;\n    }\n\n    .dataframe thead th {\n        text-align: right;\n    }\n</style>\n<table border=\"1\" class=\"dataframe\">\n  <thead>\n    <tr style=\"text-align: right;\">\n      <th></th>\n      <th>year</th>\n      <th>bpm</th>\n      <th>nrgy</th>\n      <th>dnce</th>\n      <th>dB</th>\n      <th>live</th>\n      <th>val</th>\n      <th>dur</th>\n      <th>acous</th>\n      <th>spch</th>\n      <th>pop</th>\n    </tr>\n  </thead>\n  <tbody>\n    <tr>\n      <th>count</th>\n      <td>565.000000</td>\n      <td>565.000000</td>\n      <td>565.000000</td>\n      <td>565.000000</td>\n      <td>565.000000</td>\n      <td>565.000000</td>\n      <td>565.000000</td>\n      <td>565.000000</td>\n      <td>565.000000</td>\n      <td>565.000000</td>\n      <td>565.000000</td>\n    </tr>\n    <tr>\n      <th>mean</th>\n      <td>1991.249558</td>\n      <td>119.339823</td>\n      <td>60.290265</td>\n      <td>59.465487</td>\n      <td>-8.846018</td>\n      <td>0.500885</td>\n      <td>59.286726</td>\n      <td>0.500885</td>\n      <td>32.557522</td>\n      <td>0.500885</td>\n      <td>61.111504</td>\n    </tr>\n    <tr>\n      <th>std</th>\n      <td>16.725878</td>\n      <td>25.408114</td>\n      <td>22.357365</td>\n      <td>15.400365</td>\n      <td>3.648473</td>\n      <td>0.288644</td>\n      <td>24.480255</td>\n      <td>0.288921</td>\n      <td>29.605964</td>\n      <td>0.277469</td>\n      <td>13.200310</td>\n    </tr>\n    <tr>\n      <th>min</th>\n      <td>1945.000000</td>\n      <td>62.000000</td>\n      <td>6.000000</td>\n      <td>18.000000</td>\n      <td>-24.000000</td>\n      <td>0.002655</td>\n      <td>6.000000</td>\n      <td>0.001770</td>\n      <td>0.000000</td>\n      <td>0.008850</td>\n      <td>26.000000</td>\n    </tr>\n    <tr>\n      <th>25%</th>\n      <td>1976.000000</td>\n      <td>102.000000</td>\n      <td>43.000000</td>\n      <td>50.000000</td>\n      <td>-11.000000</td>\n      <td>0.233628</td>\n      <td>40.000000</td>\n      <td>0.252212</td>\n      <td>6.000000</td>\n      <td>0.216814</td>\n      <td>54.000000</td>\n    </tr>\n    <tr>\n      <th>50%</th>\n      <td>1993.000000</td>\n      <td>120.000000</td>\n      <td>63.000000</td>\n      <td>60.000000</td>\n      <td>-8.000000</td>\n      <td>0.500000</td>\n      <td>61.000000</td>\n      <td>0.498230</td>\n      <td>23.000000</td>\n      <td>0.533628</td>\n      <td>64.000000</td>\n    </tr>\n    <tr>\n      <th>75%</th>\n      <td>2007.000000</td>\n      <td>134.000000</td>\n      <td>79.000000</td>\n      <td>70.000000</td>\n      <td>-6.000000</td>\n      <td>0.760177</td>\n      <td>80.000000</td>\n      <td>0.754867</td>\n      <td>57.000000</td>\n      <td>0.769027</td>\n      <td>71.000000</td>\n    </tr>\n    <tr>\n      <th>max</th>\n      <td>2019.000000</td>\n      <td>199.000000</td>\n      <td>100.000000</td>\n      <td>96.000000</td>\n      <td>-1.000000</td>\n      <td>1.000000</td>\n      <td>99.000000</td>\n      <td>1.000000</td>\n      <td>100.000000</td>\n      <td>0.999115</td>\n      <td>84.000000</td>\n    </tr>\n  </tbody>\n</table>\n</div>"
     },
     "execution_count": 14,
     "metadata": {},
     "output_type": "execute_result"
    }
   ],
   "source": [
    "df_concat.describe()"
   ],
   "metadata": {
    "collapsed": false,
    "ExecuteTime": {
     "end_time": "2024-01-30T06:43:06.064290300Z",
     "start_time": "2024-01-30T06:43:06.018482900Z"
    }
   }
  },
  {
   "cell_type": "markdown",
   "source": [
    "## 2.3. Features engineering"
   ],
   "metadata": {
    "collapsed": false
   }
  },
  {
   "cell_type": "code",
   "execution_count": 15,
   "outputs": [],
   "source": [
    "# With the year range so long, ranging from 1948 to 2019, we can group the years into group of 5:\n",
    "\n",
    "def assign_group(year):\n",
    "    if 1948 <= year <= 1954:\n",
    "        return 1\n",
    "    else: \n",
    "        return ((year - 1954)//5)+2\n",
    "    \n",
    "# Apply the calculation\n",
    "\n",
    "df_concat['year'] = df_concat['year'].apply(assign_group)"
   ],
   "metadata": {
    "collapsed": false,
    "ExecuteTime": {
     "end_time": "2024-01-30T06:43:06.064290300Z",
     "start_time": "2024-01-30T06:43:06.044859700Z"
    }
   }
  },
  {
   "cell_type": "code",
   "execution_count": 16,
   "outputs": [
    {
     "data": {
      "text/plain": "     year  bpm  nrgy  dnce  dB      live  val       dur  acous      spch  pop  \\\n0      10  107    31    45  -8  0.500000   28  0.117699     75  0.216814   44   \n1      13  114    44    53  -8  0.500000   47  0.059292     49  0.216814   37   \n2       7  105    36    63  -9  0.500000   67  0.651327     11  0.216814   77   \n3       7  170    28    47 -16  0.500000   33  0.576991     25  0.216814   67   \n4       5  121    47    56  -8  0.585841   40  0.302655     45  0.216814   63   \n..    ...  ...   ...   ...  ..       ...  ...       ...    ...       ...  ...   \n560    12  125    57    61  -8  0.923894   76  0.396460      3  0.999115   78   \n561    13  130    89    67  -6  0.303540   80  0.451327      4  0.216814   44   \n562    10   84    58    78  -7  0.551327   76  0.702655     43  0.978761   74   \n563     6  127    97    72  -5  0.439823   73  0.852212      6  0.935398   71   \n564     8  123    89    53  -4  0.835398   80  0.673451      8  0.216814   83   \n\n           top_genre  \n0    adult standards  \n1                NaN  \n2    adult standards  \n3    adult standards  \n4          glam rock  \n..               ...  \n560          testing  \n561          testing  \n562          testing  \n563          testing  \n564          testing  \n\n[565 rows x 12 columns]",
      "text/html": "<div>\n<style scoped>\n    .dataframe tbody tr th:only-of-type {\n        vertical-align: middle;\n    }\n\n    .dataframe tbody tr th {\n        vertical-align: top;\n    }\n\n    .dataframe thead th {\n        text-align: right;\n    }\n</style>\n<table border=\"1\" class=\"dataframe\">\n  <thead>\n    <tr style=\"text-align: right;\">\n      <th></th>\n      <th>year</th>\n      <th>bpm</th>\n      <th>nrgy</th>\n      <th>dnce</th>\n      <th>dB</th>\n      <th>live</th>\n      <th>val</th>\n      <th>dur</th>\n      <th>acous</th>\n      <th>spch</th>\n      <th>pop</th>\n      <th>top_genre</th>\n    </tr>\n  </thead>\n  <tbody>\n    <tr>\n      <th>0</th>\n      <td>10</td>\n      <td>107</td>\n      <td>31</td>\n      <td>45</td>\n      <td>-8</td>\n      <td>0.500000</td>\n      <td>28</td>\n      <td>0.117699</td>\n      <td>75</td>\n      <td>0.216814</td>\n      <td>44</td>\n      <td>adult standards</td>\n    </tr>\n    <tr>\n      <th>1</th>\n      <td>13</td>\n      <td>114</td>\n      <td>44</td>\n      <td>53</td>\n      <td>-8</td>\n      <td>0.500000</td>\n      <td>47</td>\n      <td>0.059292</td>\n      <td>49</td>\n      <td>0.216814</td>\n      <td>37</td>\n      <td>NaN</td>\n    </tr>\n    <tr>\n      <th>2</th>\n      <td>7</td>\n      <td>105</td>\n      <td>36</td>\n      <td>63</td>\n      <td>-9</td>\n      <td>0.500000</td>\n      <td>67</td>\n      <td>0.651327</td>\n      <td>11</td>\n      <td>0.216814</td>\n      <td>77</td>\n      <td>adult standards</td>\n    </tr>\n    <tr>\n      <th>3</th>\n      <td>7</td>\n      <td>170</td>\n      <td>28</td>\n      <td>47</td>\n      <td>-16</td>\n      <td>0.500000</td>\n      <td>33</td>\n      <td>0.576991</td>\n      <td>25</td>\n      <td>0.216814</td>\n      <td>67</td>\n      <td>adult standards</td>\n    </tr>\n    <tr>\n      <th>4</th>\n      <td>5</td>\n      <td>121</td>\n      <td>47</td>\n      <td>56</td>\n      <td>-8</td>\n      <td>0.585841</td>\n      <td>40</td>\n      <td>0.302655</td>\n      <td>45</td>\n      <td>0.216814</td>\n      <td>63</td>\n      <td>glam rock</td>\n    </tr>\n    <tr>\n      <th>...</th>\n      <td>...</td>\n      <td>...</td>\n      <td>...</td>\n      <td>...</td>\n      <td>...</td>\n      <td>...</td>\n      <td>...</td>\n      <td>...</td>\n      <td>...</td>\n      <td>...</td>\n      <td>...</td>\n      <td>...</td>\n    </tr>\n    <tr>\n      <th>560</th>\n      <td>12</td>\n      <td>125</td>\n      <td>57</td>\n      <td>61</td>\n      <td>-8</td>\n      <td>0.923894</td>\n      <td>76</td>\n      <td>0.396460</td>\n      <td>3</td>\n      <td>0.999115</td>\n      <td>78</td>\n      <td>testing</td>\n    </tr>\n    <tr>\n      <th>561</th>\n      <td>13</td>\n      <td>130</td>\n      <td>89</td>\n      <td>67</td>\n      <td>-6</td>\n      <td>0.303540</td>\n      <td>80</td>\n      <td>0.451327</td>\n      <td>4</td>\n      <td>0.216814</td>\n      <td>44</td>\n      <td>testing</td>\n    </tr>\n    <tr>\n      <th>562</th>\n      <td>10</td>\n      <td>84</td>\n      <td>58</td>\n      <td>78</td>\n      <td>-7</td>\n      <td>0.551327</td>\n      <td>76</td>\n      <td>0.702655</td>\n      <td>43</td>\n      <td>0.978761</td>\n      <td>74</td>\n      <td>testing</td>\n    </tr>\n    <tr>\n      <th>563</th>\n      <td>6</td>\n      <td>127</td>\n      <td>97</td>\n      <td>72</td>\n      <td>-5</td>\n      <td>0.439823</td>\n      <td>73</td>\n      <td>0.852212</td>\n      <td>6</td>\n      <td>0.935398</td>\n      <td>71</td>\n      <td>testing</td>\n    </tr>\n    <tr>\n      <th>564</th>\n      <td>8</td>\n      <td>123</td>\n      <td>89</td>\n      <td>53</td>\n      <td>-4</td>\n      <td>0.835398</td>\n      <td>80</td>\n      <td>0.673451</td>\n      <td>8</td>\n      <td>0.216814</td>\n      <td>83</td>\n      <td>testing</td>\n    </tr>\n  </tbody>\n</table>\n<p>565 rows × 12 columns</p>\n</div>"
     },
     "execution_count": 16,
     "metadata": {},
     "output_type": "execute_result"
    }
   ],
   "source": [
    "df_concat"
   ],
   "metadata": {
    "collapsed": false,
    "ExecuteTime": {
     "end_time": "2024-01-30T06:43:06.071862300Z",
     "start_time": "2024-01-30T06:43:06.045364800Z"
    }
   }
  },
  {
   "cell_type": "code",
   "execution_count": 17,
   "outputs": [],
   "source": [
    "testing = df_concat[df_concat['top_genre'] == 'testing']\n",
    "training = df_concat[df_concat['top_genre'] != 'testing']"
   ],
   "metadata": {
    "collapsed": false,
    "ExecuteTime": {
     "end_time": "2024-01-30T06:43:06.102633600Z",
     "start_time": "2024-01-30T06:43:06.059532400Z"
    }
   }
  },
  {
   "cell_type": "markdown",
   "source": [
    "# 4 Preparing the data to train with the model"
   ],
   "metadata": {
    "collapsed": false
   }
  },
  {
   "cell_type": "code",
   "execution_count": 18,
   "outputs": [],
   "source": [
    "# Apply SMOTE to avoid imbalance dataset"
   ],
   "metadata": {
    "collapsed": false,
    "ExecuteTime": {
     "end_time": "2024-01-30T06:43:06.143979700Z",
     "start_time": "2024-01-30T06:43:06.064290300Z"
    }
   }
  },
  {
   "cell_type": "code",
   "execution_count": 19,
   "outputs": [
    {
     "name": "stdout",
     "output_type": "stream",
     "text": [
      "Requirement already satisfied: imblearn in c:\\users\\newowner\\appdata\\local\\programs\\python\\python311\\lib\\site-packages (0.0)\n",
      "Requirement already satisfied: imbalanced-learn in c:\\users\\newowner\\appdata\\local\\programs\\python\\python311\\lib\\site-packages (from imblearn) (0.12.0)\n",
      "Requirement already satisfied: numpy>=1.17.3 in c:\\users\\newowner\\appdata\\local\\programs\\python\\python311\\lib\\site-packages (from imbalanced-learn->imblearn) (1.26.3)\n",
      "Requirement already satisfied: scipy>=1.5.0 in c:\\users\\newowner\\appdata\\local\\programs\\python\\python311\\lib\\site-packages (from imbalanced-learn->imblearn) (1.12.0)\n",
      "Requirement already satisfied: scikit-learn>=1.0.2 in c:\\users\\newowner\\appdata\\local\\programs\\python\\python311\\lib\\site-packages (from imbalanced-learn->imblearn) (1.4.0)\n",
      "Requirement already satisfied: joblib>=1.1.1 in c:\\users\\newowner\\appdata\\local\\programs\\python\\python311\\lib\\site-packages (from imbalanced-learn->imblearn) (1.3.2)\n",
      "Requirement already satisfied: threadpoolctl>=2.0.0 in c:\\users\\newowner\\appdata\\local\\programs\\python\\python311\\lib\\site-packages (from imbalanced-learn->imblearn) (3.2.0)\n",
      "Note: you may need to restart the kernel to use updated packages.\n"
     ]
    }
   ],
   "source": [
    "pip install imblearn"
   ],
   "metadata": {
    "collapsed": false,
    "ExecuteTime": {
     "end_time": "2024-01-30T06:43:07.753032400Z",
     "start_time": "2024-01-30T06:43:06.071862300Z"
    }
   }
  },
  {
   "cell_type": "code",
   "execution_count": 36,
   "outputs": [],
   "source": [],
   "metadata": {
    "collapsed": false,
    "ExecuteTime": {
     "end_time": "2024-01-30T07:01:00.819256500Z",
     "start_time": "2024-01-30T07:01:00.807362200Z"
    }
   }
  },
  {
   "cell_type": "code",
   "execution_count": 59,
   "outputs": [],
   "source": [
    "# Dropping genre with only 1 single sample\n",
    "value_counts=training[\"top_genre\"].value_counts()\n",
    "\n",
    "drop_genre = value_counts[value_counts == 1].index.tolist()\n",
    "training = training[~training['top_genre'].isin(drop_genre)]"
   ],
   "metadata": {
    "collapsed": false,
    "ExecuteTime": {
     "end_time": "2024-01-30T07:06:48.879149300Z",
     "start_time": "2024-01-30T07:06:48.857673700Z"
    }
   }
  },
  {
   "cell_type": "code",
   "execution_count": 60,
   "outputs": [],
   "source": [
    "X = training.drop('top_genre', axis = 1)\n",
    "y = training['top_genre']"
   ],
   "metadata": {
    "collapsed": false,
    "ExecuteTime": {
     "start_time": "2024-01-30T07:07:35.847836300Z"
    }
   }
  },
  {
   "cell_type": "code",
   "execution_count": 61,
   "outputs": [],
   "source": [
    "from sklearn.preprocessing import LabelEncoder\n",
    "\n",
    "label_encoder = LabelEncoder()\n",
    "y_encoded = label_encoder.fit_transform(y)\n"
   ],
   "metadata": {
    "collapsed": false,
    "ExecuteTime": {
     "start_time": "2024-01-30T07:07:37.150618300Z"
    }
   }
  },
  {
   "cell_type": "code",
   "execution_count": 65,
   "outputs": [
    {
     "ename": "ValueError",
     "evalue": "Expected n_neighbors <= n_samples_fit, but n_neighbors = 3, n_samples_fit = 2, n_samples = 2",
     "output_type": "error",
     "traceback": [
      "\u001B[1;31m---------------------------------------------------------------------------\u001B[0m",
      "\u001B[1;31mValueError\u001B[0m                                Traceback (most recent call last)",
      "Cell \u001B[1;32mIn[65], line 3\u001B[0m\n\u001B[0;32m      1\u001B[0m \u001B[38;5;28;01mfrom\u001B[39;00m \u001B[38;5;21;01mimblearn\u001B[39;00m\u001B[38;5;21;01m.\u001B[39;00m\u001B[38;5;21;01mover_sampling\u001B[39;00m \u001B[38;5;28;01mimport\u001B[39;00m SMOTE\n\u001B[0;32m      2\u001B[0m smote\u001B[38;5;241m=\u001B[39mSMOTE(sampling_strategy\u001B[38;5;241m=\u001B[39m\u001B[38;5;124m'\u001B[39m\u001B[38;5;124mauto\u001B[39m\u001B[38;5;124m'\u001B[39m, random_state\u001B[38;5;241m=\u001B[39m\u001B[38;5;241m42\u001B[39m,k_neighbors\u001B[38;5;241m=\u001B[39m\u001B[38;5;241m2\u001B[39m)\n\u001B[1;32m----> 3\u001B[0m X_resampled, y_resampled \u001B[38;5;241m=\u001B[39m \u001B[43msmote\u001B[49m\u001B[38;5;241;43m.\u001B[39;49m\u001B[43mfit_resample\u001B[49m\u001B[43m(\u001B[49m\u001B[43mX\u001B[49m\u001B[43m,\u001B[49m\u001B[43m \u001B[49m\u001B[43my_encoded\u001B[49m\u001B[43m)\u001B[49m\n",
      "File \u001B[1;32m~\\AppData\\Local\\Programs\\Python\\Python311\\Lib\\site-packages\\imblearn\\base.py:208\u001B[0m, in \u001B[0;36mBaseSampler.fit_resample\u001B[1;34m(self, X, y)\u001B[0m\n\u001B[0;32m    187\u001B[0m \u001B[38;5;250m\u001B[39m\u001B[38;5;124;03m\"\"\"Resample the dataset.\u001B[39;00m\n\u001B[0;32m    188\u001B[0m \n\u001B[0;32m    189\u001B[0m \u001B[38;5;124;03mParameters\u001B[39;00m\n\u001B[1;32m   (...)\u001B[0m\n\u001B[0;32m    205\u001B[0m \u001B[38;5;124;03m    The corresponding label of `X_resampled`.\u001B[39;00m\n\u001B[0;32m    206\u001B[0m \u001B[38;5;124;03m\"\"\"\u001B[39;00m\n\u001B[0;32m    207\u001B[0m \u001B[38;5;28mself\u001B[39m\u001B[38;5;241m.\u001B[39m_validate_params()\n\u001B[1;32m--> 208\u001B[0m \u001B[38;5;28;01mreturn\u001B[39;00m \u001B[38;5;28;43msuper\u001B[39;49m\u001B[43m(\u001B[49m\u001B[43m)\u001B[49m\u001B[38;5;241;43m.\u001B[39;49m\u001B[43mfit_resample\u001B[49m\u001B[43m(\u001B[49m\u001B[43mX\u001B[49m\u001B[43m,\u001B[49m\u001B[43m \u001B[49m\u001B[43my\u001B[49m\u001B[43m)\u001B[49m\n",
      "File \u001B[1;32m~\\AppData\\Local\\Programs\\Python\\Python311\\Lib\\site-packages\\imblearn\\base.py:112\u001B[0m, in \u001B[0;36mSamplerMixin.fit_resample\u001B[1;34m(self, X, y)\u001B[0m\n\u001B[0;32m    106\u001B[0m X, y, binarize_y \u001B[38;5;241m=\u001B[39m \u001B[38;5;28mself\u001B[39m\u001B[38;5;241m.\u001B[39m_check_X_y(X, y)\n\u001B[0;32m    108\u001B[0m \u001B[38;5;28mself\u001B[39m\u001B[38;5;241m.\u001B[39msampling_strategy_ \u001B[38;5;241m=\u001B[39m check_sampling_strategy(\n\u001B[0;32m    109\u001B[0m     \u001B[38;5;28mself\u001B[39m\u001B[38;5;241m.\u001B[39msampling_strategy, y, \u001B[38;5;28mself\u001B[39m\u001B[38;5;241m.\u001B[39m_sampling_type\n\u001B[0;32m    110\u001B[0m )\n\u001B[1;32m--> 112\u001B[0m output \u001B[38;5;241m=\u001B[39m \u001B[38;5;28;43mself\u001B[39;49m\u001B[38;5;241;43m.\u001B[39;49m\u001B[43m_fit_resample\u001B[49m\u001B[43m(\u001B[49m\u001B[43mX\u001B[49m\u001B[43m,\u001B[49m\u001B[43m \u001B[49m\u001B[43my\u001B[49m\u001B[43m)\u001B[49m\n\u001B[0;32m    114\u001B[0m y_ \u001B[38;5;241m=\u001B[39m (\n\u001B[0;32m    115\u001B[0m     label_binarize(output[\u001B[38;5;241m1\u001B[39m], classes\u001B[38;5;241m=\u001B[39mnp\u001B[38;5;241m.\u001B[39munique(y)) \u001B[38;5;28;01mif\u001B[39;00m binarize_y \u001B[38;5;28;01melse\u001B[39;00m output[\u001B[38;5;241m1\u001B[39m]\n\u001B[0;32m    116\u001B[0m )\n\u001B[0;32m    118\u001B[0m X_, y_ \u001B[38;5;241m=\u001B[39m arrays_transformer\u001B[38;5;241m.\u001B[39mtransform(output[\u001B[38;5;241m0\u001B[39m], y_)\n",
      "File \u001B[1;32m~\\AppData\\Local\\Programs\\Python\\Python311\\Lib\\site-packages\\imblearn\\over_sampling\\_smote\\base.py:382\u001B[0m, in \u001B[0;36mSMOTE._fit_resample\u001B[1;34m(self, X, y)\u001B[0m\n\u001B[0;32m    379\u001B[0m X_class \u001B[38;5;241m=\u001B[39m _safe_indexing(X, target_class_indices)\n\u001B[0;32m    381\u001B[0m \u001B[38;5;28mself\u001B[39m\u001B[38;5;241m.\u001B[39mnn_k_\u001B[38;5;241m.\u001B[39mfit(X_class)\n\u001B[1;32m--> 382\u001B[0m nns \u001B[38;5;241m=\u001B[39m \u001B[38;5;28;43mself\u001B[39;49m\u001B[38;5;241;43m.\u001B[39;49m\u001B[43mnn_k_\u001B[49m\u001B[38;5;241;43m.\u001B[39;49m\u001B[43mkneighbors\u001B[49m\u001B[43m(\u001B[49m\u001B[43mX_class\u001B[49m\u001B[43m,\u001B[49m\u001B[43m \u001B[49m\u001B[43mreturn_distance\u001B[49m\u001B[38;5;241;43m=\u001B[39;49m\u001B[38;5;28;43;01mFalse\u001B[39;49;00m\u001B[43m)\u001B[49m[:, \u001B[38;5;241m1\u001B[39m:]\n\u001B[0;32m    383\u001B[0m X_new, y_new \u001B[38;5;241m=\u001B[39m \u001B[38;5;28mself\u001B[39m\u001B[38;5;241m.\u001B[39m_make_samples(\n\u001B[0;32m    384\u001B[0m     X_class, y\u001B[38;5;241m.\u001B[39mdtype, class_sample, X_class, nns, n_samples, \u001B[38;5;241m1.0\u001B[39m\n\u001B[0;32m    385\u001B[0m )\n\u001B[0;32m    386\u001B[0m X_resampled\u001B[38;5;241m.\u001B[39mappend(X_new)\n",
      "File \u001B[1;32m~\\AppData\\Local\\Programs\\Python\\Python311\\Lib\\site-packages\\sklearn\\neighbors\\_base.py:835\u001B[0m, in \u001B[0;36mKNeighborsMixin.kneighbors\u001B[1;34m(self, X, n_neighbors, return_distance)\u001B[0m\n\u001B[0;32m    833\u001B[0m     \u001B[38;5;28;01melse\u001B[39;00m:\n\u001B[0;32m    834\u001B[0m         inequality_str \u001B[38;5;241m=\u001B[39m \u001B[38;5;124m\"\u001B[39m\u001B[38;5;124mn_neighbors <= n_samples_fit\u001B[39m\u001B[38;5;124m\"\u001B[39m\n\u001B[1;32m--> 835\u001B[0m     \u001B[38;5;28;01mraise\u001B[39;00m \u001B[38;5;167;01mValueError\u001B[39;00m(\n\u001B[0;32m    836\u001B[0m         \u001B[38;5;124mf\u001B[39m\u001B[38;5;124m\"\u001B[39m\u001B[38;5;124mExpected \u001B[39m\u001B[38;5;132;01m{\u001B[39;00minequality_str\u001B[38;5;132;01m}\u001B[39;00m\u001B[38;5;124m, but \u001B[39m\u001B[38;5;124m\"\u001B[39m\n\u001B[0;32m    837\u001B[0m         \u001B[38;5;124mf\u001B[39m\u001B[38;5;124m\"\u001B[39m\u001B[38;5;124mn_neighbors = \u001B[39m\u001B[38;5;132;01m{\u001B[39;00mn_neighbors\u001B[38;5;132;01m}\u001B[39;00m\u001B[38;5;124m, n_samples_fit = \u001B[39m\u001B[38;5;132;01m{\u001B[39;00mn_samples_fit\u001B[38;5;132;01m}\u001B[39;00m\u001B[38;5;124m, \u001B[39m\u001B[38;5;124m\"\u001B[39m\n\u001B[0;32m    838\u001B[0m         \u001B[38;5;124mf\u001B[39m\u001B[38;5;124m\"\u001B[39m\u001B[38;5;124mn_samples = \u001B[39m\u001B[38;5;132;01m{\u001B[39;00mX\u001B[38;5;241m.\u001B[39mshape[\u001B[38;5;241m0\u001B[39m]\u001B[38;5;132;01m}\u001B[39;00m\u001B[38;5;124m\"\u001B[39m  \u001B[38;5;66;03m# include n_samples for common tests\u001B[39;00m\n\u001B[0;32m    839\u001B[0m     )\n\u001B[0;32m    841\u001B[0m n_jobs \u001B[38;5;241m=\u001B[39m effective_n_jobs(\u001B[38;5;28mself\u001B[39m\u001B[38;5;241m.\u001B[39mn_jobs)\n\u001B[0;32m    842\u001B[0m chunked_results \u001B[38;5;241m=\u001B[39m \u001B[38;5;28;01mNone\u001B[39;00m\n",
      "\u001B[1;31mValueError\u001B[0m: Expected n_neighbors <= n_samples_fit, but n_neighbors = 3, n_samples_fit = 2, n_samples = 2"
     ]
    }
   ],
   "source": [
    "'''\n",
    "from imblearn.over_sampling import SMOTE\n",
    "smote=SMOTE(sampling_strategy='auto', random_state=42,k_neighbors=2)\n",
    "X_resampled, y_resampled = smote.fit_resample(X, y_encoded)\n",
    "\n",
    "'''"
   ],
   "metadata": {
    "collapsed": false,
    "ExecuteTime": {
     "end_time": "2024-01-30T07:13:43.984119100Z",
     "start_time": "2024-01-30T07:13:43.935631500Z"
    }
   }
  },
  {
   "cell_type": "code",
   "execution_count": 69,
   "outputs": [],
   "source": [
    "# Scale the dataset\n",
    "from sklearn.preprocessing import RobustScaler\n",
    "robust_scaler = RobustScaler()\n",
    "X_scaled = robust_scaler.fit_transform(X)"
   ],
   "metadata": {
    "collapsed": false,
    "ExecuteTime": {
     "end_time": "2024-01-30T07:40:48.578936300Z",
     "start_time": "2024-01-30T07:40:48.568373500Z"
    }
   }
  },
  {
   "cell_type": "markdown",
   "source": [
    "# 5. Try multiple model for prediction"
   ],
   "metadata": {
    "collapsed": false
   }
  },
  {
   "cell_type": "markdown",
   "source": [
    "## XGBoost"
   ],
   "metadata": {
    "collapsed": false
   }
  },
  {
   "cell_type": "code",
   "execution_count": 67,
   "outputs": [
    {
     "name": "stdout",
     "output_type": "stream",
     "text": [
      "Collecting xgboost\n",
      "  Downloading xgboost-2.0.3-py3-none-win_amd64.whl.metadata (2.0 kB)\n",
      "Requirement already satisfied: numpy in c:\\users\\newowner\\appdata\\local\\programs\\python\\python311\\lib\\site-packages (from xgboost) (1.26.3)\n",
      "Requirement already satisfied: scipy in c:\\users\\newowner\\appdata\\local\\programs\\python\\python311\\lib\\site-packages (from xgboost) (1.12.0)\n",
      "Downloading xgboost-2.0.3-py3-none-win_amd64.whl (99.8 MB)\n",
      "   ---------------------------------------- 0.0/99.8 MB ? eta -:--:--\n",
      "   ---------------------------------------- 0.0/99.8 MB 330.3 kB/s eta 0:05:02\n",
      "   ---------------------------------------- 0.1/99.8 MB 1.8 MB/s eta 0:00:56\n",
      "   ---------------------------------------- 0.5/99.8 MB 4.4 MB/s eta 0:00:23\n",
      "   ---------------------------------------- 1.1/99.8 MB 7.2 MB/s eta 0:00:14\n",
      "    --------------------------------------- 1.9/99.8 MB 9.9 MB/s eta 0:00:10\n",
      "   - -------------------------------------- 2.6/99.8 MB 11.2 MB/s eta 0:00:09\n",
      "   - -------------------------------------- 3.5/99.8 MB 13.0 MB/s eta 0:00:08\n",
      "   - -------------------------------------- 4.3/99.8 MB 13.8 MB/s eta 0:00:07\n",
      "   -- ------------------------------------- 5.2/99.8 MB 14.3 MB/s eta 0:00:07\n",
      "   -- ------------------------------------- 6.0/99.8 MB 14.8 MB/s eta 0:00:07\n",
      "   -- ------------------------------------- 6.8/99.8 MB 15.5 MB/s eta 0:00:06\n",
      "   --- ------------------------------------ 7.7/99.8 MB 16.4 MB/s eta 0:00:06\n",
      "   --- ------------------------------------ 8.0/99.8 MB 15.9 MB/s eta 0:00:06\n",
      "   --- ------------------------------------ 8.5/99.8 MB 15.1 MB/s eta 0:00:07\n",
      "   --- ------------------------------------ 9.2/99.8 MB 15.4 MB/s eta 0:00:06\n",
      "   --- ------------------------------------ 9.8/99.8 MB 15.3 MB/s eta 0:00:06\n",
      "   ---- ----------------------------------- 10.4/99.8 MB 17.2 MB/s eta 0:00:06\n",
      "   ---- ----------------------------------- 11.1/99.8 MB 17.7 MB/s eta 0:00:06\n",
      "   ---- ----------------------------------- 11.6/99.8 MB 17.2 MB/s eta 0:00:06\n",
      "   ---- ----------------------------------- 12.1/99.8 MB 16.8 MB/s eta 0:00:06\n",
      "   ----- ---------------------------------- 12.7/99.8 MB 16.4 MB/s eta 0:00:06\n",
      "   ----- ---------------------------------- 13.3/99.8 MB 16.0 MB/s eta 0:00:06\n",
      "   ----- ---------------------------------- 13.9/99.8 MB 16.0 MB/s eta 0:00:06\n",
      "   ----- ---------------------------------- 14.4/99.8 MB 15.6 MB/s eta 0:00:06\n",
      "   ------ --------------------------------- 15.1/99.8 MB 15.6 MB/s eta 0:00:06\n",
      "   ------ --------------------------------- 15.5/99.8 MB 15.2 MB/s eta 0:00:06\n",
      "   ------ --------------------------------- 16.2/99.8 MB 14.6 MB/s eta 0:00:06\n",
      "   ------ --------------------------------- 16.7/99.8 MB 14.2 MB/s eta 0:00:06\n",
      "   ------ --------------------------------- 17.2/99.8 MB 13.6 MB/s eta 0:00:07\n",
      "   ------- -------------------------------- 17.8/99.8 MB 13.4 MB/s eta 0:00:07\n",
      "   ------- -------------------------------- 18.3/99.8 MB 13.9 MB/s eta 0:00:06\n",
      "   ------- -------------------------------- 18.8/99.8 MB 13.9 MB/s eta 0:00:06\n",
      "   ------- -------------------------------- 19.3/99.8 MB 13.6 MB/s eta 0:00:06\n",
      "   ------- -------------------------------- 19.7/99.8 MB 13.4 MB/s eta 0:00:06\n",
      "   -------- ------------------------------- 20.2/99.8 MB 13.4 MB/s eta 0:00:06\n",
      "   -------- ------------------------------- 20.7/99.8 MB 13.1 MB/s eta 0:00:07\n",
      "   -------- ------------------------------- 21.2/99.8 MB 13.1 MB/s eta 0:00:06\n",
      "   -------- ------------------------------- 21.7/99.8 MB 13.4 MB/s eta 0:00:06\n",
      "   -------- ------------------------------- 22.1/99.8 MB 13.4 MB/s eta 0:00:06\n",
      "   --------- ------------------------------ 22.5/99.8 MB 13.1 MB/s eta 0:00:06\n",
      "   --------- ------------------------------ 23.2/99.8 MB 13.1 MB/s eta 0:00:06\n",
      "   --------- ------------------------------ 23.8/99.8 MB 13.4 MB/s eta 0:00:06\n",
      "   --------- ------------------------------ 24.4/99.8 MB 13.4 MB/s eta 0:00:06\n",
      "   ---------- ----------------------------- 25.2/99.8 MB 13.4 MB/s eta 0:00:06\n",
      "   ---------- ----------------------------- 25.8/99.8 MB 13.9 MB/s eta 0:00:06\n",
      "   ---------- ----------------------------- 26.4/99.8 MB 14.2 MB/s eta 0:00:06\n",
      "   ---------- ----------------------------- 27.2/99.8 MB 14.2 MB/s eta 0:00:06\n",
      "   ----------- ---------------------------- 28.1/99.8 MB 14.9 MB/s eta 0:00:05\n",
      "   ----------- ---------------------------- 29.0/99.8 MB 15.2 MB/s eta 0:00:05\n",
      "   ------------ --------------------------- 30.0/99.8 MB 16.0 MB/s eta 0:00:05\n",
      "   ------------ --------------------------- 30.9/99.8 MB 16.8 MB/s eta 0:00:05\n",
      "   ------------ --------------------------- 31.8/99.8 MB 16.8 MB/s eta 0:00:05\n",
      "   ------------- -------------------------- 32.7/99.8 MB 18.7 MB/s eta 0:00:04\n",
      "   ------------- -------------------------- 33.4/99.8 MB 18.7 MB/s eta 0:00:04\n",
      "   ------------- -------------------------- 34.2/99.8 MB 18.2 MB/s eta 0:00:04\n",
      "   ------------- -------------------------- 34.9/99.8 MB 18.7 MB/s eta 0:00:04\n",
      "   -------------- ------------------------- 35.8/99.8 MB 18.7 MB/s eta 0:00:04\n",
      "   -------------- ------------------------- 36.7/99.8 MB 18.7 MB/s eta 0:00:04\n",
      "   --------------- ------------------------ 37.7/99.8 MB 18.2 MB/s eta 0:00:04\n",
      "   --------------- ------------------------ 38.7/99.8 MB 19.2 MB/s eta 0:00:04\n",
      "   --------------- ------------------------ 39.7/99.8 MB 19.3 MB/s eta 0:00:04\n",
      "   ---------------- ----------------------- 40.6/99.8 MB 19.9 MB/s eta 0:00:03\n",
      "   ---------------- ----------------------- 41.5/99.8 MB 20.5 MB/s eta 0:00:03\n",
      "   ----------------- ---------------------- 42.5/99.8 MB 20.5 MB/s eta 0:00:03\n",
      "   ----------------- ---------------------- 43.5/99.8 MB 19.3 MB/s eta 0:00:03\n",
      "   ----------------- ---------------------- 44.6/99.8 MB 19.8 MB/s eta 0:00:03\n",
      "   ------------------ --------------------- 45.2/99.8 MB 19.8 MB/s eta 0:00:03\n",
      "   ------------------ --------------------- 46.1/99.8 MB 20.5 MB/s eta 0:00:03\n",
      "   ------------------ --------------------- 46.9/99.8 MB 20.5 MB/s eta 0:00:03\n",
      "   ------------------- -------------------- 47.8/99.8 MB 20.5 MB/s eta 0:00:03\n",
      "   ------------------- -------------------- 48.6/99.8 MB 21.1 MB/s eta 0:00:03\n",
      "   ------------------- -------------------- 49.3/99.8 MB 21.1 MB/s eta 0:00:03\n",
      "   -------------------- ------------------- 50.3/99.8 MB 20.5 MB/s eta 0:00:03\n",
      "   -------------------- ------------------- 51.3/99.8 MB 20.5 MB/s eta 0:00:03\n",
      "   -------------------- ------------------- 52.3/99.8 MB 19.9 MB/s eta 0:00:03\n",
      "   --------------------- ------------------ 53.0/99.8 MB 20.5 MB/s eta 0:00:03\n",
      "   --------------------- ------------------ 53.8/99.8 MB 20.5 MB/s eta 0:00:03\n",
      "   --------------------- ------------------ 54.6/99.8 MB 19.8 MB/s eta 0:00:03\n",
      "   ---------------------- ----------------- 55.6/99.8 MB 19.8 MB/s eta 0:00:03\n",
      "   ---------------------- ----------------- 56.7/99.8 MB 20.5 MB/s eta 0:00:03\n",
      "   ---------------------- ----------------- 57.3/99.8 MB 19.9 MB/s eta 0:00:03\n",
      "   ----------------------- ---------------- 58.3/99.8 MB 20.5 MB/s eta 0:00:03\n",
      "   ----------------------- ---------------- 59.3/99.8 MB 19.9 MB/s eta 0:00:03\n",
      "   ------------------------ --------------- 60.3/99.8 MB 19.8 MB/s eta 0:00:02\n",
      "   ------------------------ --------------- 61.1/99.8 MB 20.5 MB/s eta 0:00:02\n",
      "   ------------------------ --------------- 61.9/99.8 MB 20.5 MB/s eta 0:00:02\n",
      "   ------------------------- -------------- 62.9/99.8 MB 20.5 MB/s eta 0:00:02\n",
      "   ------------------------- -------------- 63.9/99.8 MB 20.5 MB/s eta 0:00:02\n",
      "   ------------------------- -------------- 64.7/99.8 MB 20.5 MB/s eta 0:00:02\n",
      "   -------------------------- ------------- 65.5/99.8 MB 20.5 MB/s eta 0:00:02\n",
      "   -------------------------- ------------- 66.4/99.8 MB 20.5 MB/s eta 0:00:02\n",
      "   -------------------------- ------------- 67.2/99.8 MB 20.5 MB/s eta 0:00:02\n",
      "   --------------------------- ------------ 68.0/99.8 MB 20.5 MB/s eta 0:00:02\n",
      "   --------------------------- ------------ 68.7/99.8 MB 19.8 MB/s eta 0:00:02\n",
      "   ---------------------------- ----------- 69.8/99.8 MB 19.3 MB/s eta 0:00:02\n",
      "   ---------------------------- ----------- 70.5/99.8 MB 19.3 MB/s eta 0:00:02\n",
      "   ---------------------------- ----------- 71.1/99.8 MB 18.7 MB/s eta 0:00:02\n",
      "   ---------------------------- ----------- 71.9/99.8 MB 18.7 MB/s eta 0:00:02\n",
      "   ----------------------------- ---------- 72.8/99.8 MB 19.8 MB/s eta 0:00:02\n",
      "   ----------------------------- ---------- 73.9/99.8 MB 19.3 MB/s eta 0:00:02\n",
      "   ------------------------------ --------- 74.9/99.8 MB 19.3 MB/s eta 0:00:02\n",
      "   ------------------------------ --------- 75.9/99.8 MB 19.3 MB/s eta 0:00:02\n",
      "   ------------------------------ --------- 76.6/99.8 MB 19.3 MB/s eta 0:00:02\n",
      "   ------------------------------- -------- 77.6/99.8 MB 19.2 MB/s eta 0:00:02\n",
      "   ------------------------------- -------- 78.6/99.8 MB 19.2 MB/s eta 0:00:02\n",
      "   ------------------------------- -------- 79.6/99.8 MB 19.9 MB/s eta 0:00:02\n",
      "   -------------------------------- ------- 80.5/99.8 MB 20.5 MB/s eta 0:00:01\n",
      "   -------------------------------- ------- 81.3/99.8 MB 20.5 MB/s eta 0:00:01\n",
      "   -------------------------------- ------- 82.2/99.8 MB 21.1 MB/s eta 0:00:01\n",
      "   --------------------------------- ------ 83.0/99.8 MB 20.5 MB/s eta 0:00:01\n",
      "   --------------------------------- ------ 83.8/99.8 MB 20.5 MB/s eta 0:00:01\n",
      "   --------------------------------- ------ 84.6/99.8 MB 20.5 MB/s eta 0:00:01\n",
      "   ---------------------------------- ----- 85.5/99.8 MB 20.5 MB/s eta 0:00:01\n",
      "   ---------------------------------- ----- 86.2/99.8 MB 21.1 MB/s eta 0:00:01\n",
      "   ---------------------------------- ----- 87.1/99.8 MB 21.1 MB/s eta 0:00:01\n",
      "   ----------------------------------- ---- 87.9/99.8 MB 21.1 MB/s eta 0:00:01\n",
      "   ----------------------------------- ---- 88.8/99.8 MB 21.1 MB/s eta 0:00:01\n",
      "   ----------------------------------- ---- 89.5/99.8 MB 20.5 MB/s eta 0:00:01\n",
      "   ------------------------------------ --- 90.4/99.8 MB 20.5 MB/s eta 0:00:01\n",
      "   ------------------------------------ --- 91.1/99.8 MB 20.5 MB/s eta 0:00:01\n",
      "   ------------------------------------ --- 91.9/99.8 MB 19.8 MB/s eta 0:00:01\n",
      "   ------------------------------------- -- 92.7/99.8 MB 20.5 MB/s eta 0:00:01\n",
      "   ------------------------------------- -- 93.4/99.8 MB 20.5 MB/s eta 0:00:01\n",
      "   ------------------------------------- -- 94.4/99.8 MB 20.5 MB/s eta 0:00:01\n",
      "   -------------------------------------- - 95.2/99.8 MB 20.5 MB/s eta 0:00:01\n",
      "   -------------------------------------- - 96.1/99.8 MB 20.5 MB/s eta 0:00:01\n",
      "   -------------------------------------- - 96.8/99.8 MB 20.5 MB/s eta 0:00:01\n",
      "   ---------------------------------------  97.7/99.8 MB 20.5 MB/s eta 0:00:01\n",
      "   ---------------------------------------  98.5/99.8 MB 19.8 MB/s eta 0:00:01\n",
      "   ---------------------------------------  99.2/99.8 MB 19.9 MB/s eta 0:00:01\n",
      "   ---------------------------------------  99.7/99.8 MB 19.9 MB/s eta 0:00:01\n",
      "   ---------------------------------------  99.7/99.8 MB 19.9 MB/s eta 0:00:01\n",
      "   ---------------------------------------  99.7/99.8 MB 19.9 MB/s eta 0:00:01\n",
      "   ---------------------------------------  99.7/99.8 MB 19.9 MB/s eta 0:00:01\n",
      "   ---------------------------------------  99.7/99.8 MB 19.9 MB/s eta 0:00:01\n",
      "   ---------------------------------------  99.7/99.8 MB 19.9 MB/s eta 0:00:01\n",
      "   ---------------------------------------  99.7/99.8 MB 19.9 MB/s eta 0:00:01\n",
      "   ---------------------------------------  99.7/99.8 MB 19.9 MB/s eta 0:00:01\n",
      "   ---------------------------------------  99.7/99.8 MB 19.9 MB/s eta 0:00:01\n",
      "   ---------------------------------------  99.7/99.8 MB 19.9 MB/s eta 0:00:01\n",
      "   ---------------------------------------  99.7/99.8 MB 19.9 MB/s eta 0:00:01\n",
      "   ---------------------------------------  99.7/99.8 MB 19.9 MB/s eta 0:00:01\n",
      "   ---------------------------------------  99.7/99.8 MB 19.9 MB/s eta 0:00:01\n",
      "   ---------------------------------------  99.7/99.8 MB 19.9 MB/s eta 0:00:01\n",
      "   ---------------------------------------  99.7/99.8 MB 19.9 MB/s eta 0:00:01\n",
      "   ---------------------------------------  99.7/99.8 MB 19.9 MB/s eta 0:00:01\n",
      "   ---------------------------------------  99.7/99.8 MB 19.9 MB/s eta 0:00:01\n",
      "   ---------------------------------------  99.7/99.8 MB 19.9 MB/s eta 0:00:01\n",
      "   ---------------------------------------  99.7/99.8 MB 19.9 MB/s eta 0:00:01\n",
      "   ---------------------------------------  99.7/99.8 MB 19.9 MB/s eta 0:00:01\n",
      "   ---------------------------------------  99.7/99.8 MB 19.9 MB/s eta 0:00:01\n",
      "   ---------------------------------------  99.7/99.8 MB 19.9 MB/s eta 0:00:01\n",
      "   ---------------------------------------  99.7/99.8 MB 19.9 MB/s eta 0:00:01\n",
      "   ---------------------------------------  99.7/99.8 MB 19.9 MB/s eta 0:00:01\n",
      "   ---------------------------------------  99.7/99.8 MB 19.9 MB/s eta 0:00:01\n",
      "   ---------------------------------------  99.7/99.8 MB 19.9 MB/s eta 0:00:01\n",
      "   ---------------------------------------  99.7/99.8 MB 19.9 MB/s eta 0:00:01\n",
      "   ---------------------------------------  99.7/99.8 MB 19.9 MB/s eta 0:00:01\n",
      "   ---------------------------------------  99.7/99.8 MB 19.9 MB/s eta 0:00:01\n",
      "   ---------------------------------------  99.7/99.8 MB 19.9 MB/s eta 0:00:01\n",
      "   ---------------------------------------  99.7/99.8 MB 19.9 MB/s eta 0:00:01\n",
      "   ---------------------------------------  99.7/99.8 MB 19.9 MB/s eta 0:00:01\n",
      "   ---------------------------------------  99.7/99.8 MB 19.9 MB/s eta 0:00:01\n",
      "   ---------------------------------------  99.7/99.8 MB 19.9 MB/s eta 0:00:01\n",
      "   ---------------------------------------  99.7/99.8 MB 19.9 MB/s eta 0:00:01\n",
      "   ---------------------------------------  99.7/99.8 MB 19.9 MB/s eta 0:00:01\n",
      "   ---------------------------------------  99.7/99.8 MB 19.9 MB/s eta 0:00:01\n",
      "   ---------------------------------------  99.7/99.8 MB 19.9 MB/s eta 0:00:01\n",
      "   ---------------------------------------  99.7/99.8 MB 19.9 MB/s eta 0:00:01\n",
      "   ---------------------------------------  99.7/99.8 MB 19.9 MB/s eta 0:00:01\n",
      "   ---------------------------------------  99.7/99.8 MB 19.9 MB/s eta 0:00:01\n",
      "   ---------------------------------------  99.7/99.8 MB 19.9 MB/s eta 0:00:01\n",
      "   ---------------------------------------  99.7/99.8 MB 19.9 MB/s eta 0:00:01\n",
      "   ---------------------------------------  99.7/99.8 MB 19.9 MB/s eta 0:00:01\n",
      "   ---------------------------------------  99.7/99.8 MB 19.9 MB/s eta 0:00:01\n",
      "   ---------------------------------------  99.7/99.8 MB 19.9 MB/s eta 0:00:01\n",
      "   ---------------------------------------  99.7/99.8 MB 19.9 MB/s eta 0:00:01\n",
      "   ---------------------------------------  99.7/99.8 MB 19.9 MB/s eta 0:00:01\n",
      "   ---------------------------------------  99.7/99.8 MB 19.9 MB/s eta 0:00:01\n",
      "   ---------------------------------------  99.7/99.8 MB 19.9 MB/s eta 0:00:01\n",
      "   ---------------------------------------  99.7/99.8 MB 19.9 MB/s eta 0:00:01\n",
      "   ---------------------------------------  99.7/99.8 MB 19.9 MB/s eta 0:00:01\n",
      "   ---------------------------------------  99.7/99.8 MB 19.9 MB/s eta 0:00:01\n",
      "   ---------------------------------------  99.7/99.8 MB 19.9 MB/s eta 0:00:01\n",
      "   ---------------------------------------  99.7/99.8 MB 19.9 MB/s eta 0:00:01\n",
      "   ---------------------------------------  99.7/99.8 MB 19.9 MB/s eta 0:00:01\n",
      "   ---------------------------------------  99.7/99.8 MB 19.9 MB/s eta 0:00:01\n",
      "   ---------------------------------------  99.7/99.8 MB 19.9 MB/s eta 0:00:01\n",
      "   ---------------------------------------  99.7/99.8 MB 19.9 MB/s eta 0:00:01\n",
      "   ---------------------------------------  99.7/99.8 MB 19.9 MB/s eta 0:00:01\n",
      "   ---------------------------------------  99.7/99.8 MB 19.9 MB/s eta 0:00:01\n",
      "   ---------------------------------------  99.7/99.8 MB 19.9 MB/s eta 0:00:01\n",
      "   ---------------------------------------  99.7/99.8 MB 19.9 MB/s eta 0:00:01\n",
      "   ---------------------------------------  99.7/99.8 MB 19.9 MB/s eta 0:00:01\n",
      "   ---------------------------------------  99.7/99.8 MB 19.9 MB/s eta 0:00:01\n",
      "   ---------------------------------------  99.7/99.8 MB 19.9 MB/s eta 0:00:01\n",
      "   ---------------------------------------  99.7/99.8 MB 19.9 MB/s eta 0:00:01\n",
      "   ---------------------------------------  99.7/99.8 MB 19.9 MB/s eta 0:00:01\n",
      "   ---------------------------------------  99.7/99.8 MB 19.9 MB/s eta 0:00:01\n",
      "   ---------------------------------------- 99.8/99.8 MB 3.0 MB/s eta 0:00:00\n",
      "Installing collected packages: xgboost\n",
      "Successfully installed xgboost-2.0.3\n",
      "Note: you may need to restart the kernel to use updated packages.\n"
     ]
    }
   ],
   "source": [
    "pip install xgboost"
   ],
   "metadata": {
    "collapsed": false,
    "ExecuteTime": {
     "start_time": "2024-01-30T07:34:57.202415100Z"
    }
   }
  },
  {
   "cell_type": "code",
   "execution_count": 70,
   "outputs": [],
   "source": [
    "from sklearn.model_selection import train_test_split\n",
    "\n",
    "X_train, X_test, y_train, y_test = train_test_split(\n",
    "    X_scaled, y_encoded, stratify=y_encoded, random_state=42\n",
    ")"
   ],
   "metadata": {
    "collapsed": false,
    "ExecuteTime": {
     "end_time": "2024-01-30T07:41:45.277473600Z",
     "start_time": "2024-01-30T07:41:45.265179400Z"
    }
   }
  },
  {
   "cell_type": "code",
   "execution_count": 72,
   "outputs": [
    {
     "data": {
      "text/plain": "0.23300970873786409"
     },
     "execution_count": 72,
     "metadata": {},
     "output_type": "execute_result"
    }
   ],
   "source": [
    "import xgboost as xgb\n",
    "from sklearn.metrics import accuracy_score\n",
    "\n",
    "xgb_cl = xgb.XGBClassifier()\n",
    "\n",
    "\n",
    "# Init classifier\n",
    "xgb_cl = xgb.XGBClassifier()\n",
    "\n",
    "# Fit\n",
    "xgb_cl.fit(X_train, y_train)\n",
    "\n",
    "# Predict\n",
    "preds = xgb_cl.predict(X_test)\n",
    "\n",
    "# Score\n",
    "accuracy_score(y_test, preds)"
   ],
   "metadata": {
    "collapsed": false,
    "ExecuteTime": {
     "end_time": "2024-01-30T07:42:44.445782Z",
     "start_time": "2024-01-30T07:42:42.808945800Z"
    }
   }
  },
  {
   "cell_type": "code",
   "execution_count": 76,
   "outputs": [],
   "source": [
    "param_grid = {\n",
    "    \"max_depth\": [3, 4, 5, 7],\n",
    "    \"learning_rate\": [0.1, 0.01, 0.05],\n",
    "    \"gamma\": [0, 0.25, 1],\n",
    "    \"reg_lambda\": [0, 1, 10],\n",
    "    \"scale_pos_weight\": [1, 3, 5],\n",
    "    \"subsample\": [0.8],\n",
    "    \"colsample_bytree\": [0.5],\n",
    "}"
   ],
   "metadata": {
    "collapsed": false,
    "ExecuteTime": {
     "end_time": "2024-01-30T07:48:56.160701800Z",
     "start_time": "2024-01-30T07:48:56.160196900Z"
    }
   }
  },
  {
   "cell_type": "code",
   "execution_count": 77,
   "outputs": [
    {
     "name": "stderr",
     "output_type": "stream",
     "text": [
      "C:\\Users\\Newowner\\AppData\\Local\\Programs\\Python\\Python311\\Lib\\site-packages\\sklearn\\model_selection\\_split.py:737: UserWarning: The least populated class in y has only 2 members, which is less than n_splits=3.\n",
      "  warnings.warn(\n",
      "C:\\Users\\Newowner\\AppData\\Local\\Programs\\Python\\Python311\\Lib\\site-packages\\xgboost\\core.py:160: UserWarning: [07:50:09] WARNING: C:\\buildkite-agent\\builds\\buildkite-windows-cpu-autoscaling-group-i-0b3782d1791676daf-1\\xgboost\\xgboost-ci-windows\\src\\learner.cc:742: \n",
      "Parameters: { \"scale_pos_weight\" } are not used.\n",
      "\n",
      "  warnings.warn(smsg, UserWarning)\n"
     ]
    }
   ],
   "source": [
    "from sklearn.model_selection import GridSearchCV\n",
    "\n",
    "# Init classifier\n",
    "xgb_cl = xgb.XGBClassifier(objective=\"multi:softprob:logistic\")\n",
    "\n",
    "# Init Grid Search\n",
    "grid_cv = GridSearchCV(xgb_cl, param_grid, n_jobs=-1, cv=3, scoring=\"accuracy\")\n",
    "\n",
    "# Fit\n",
    "_ = grid_cv.fit(X_scaled, y_encoded)"
   ],
   "metadata": {
    "collapsed": false,
    "ExecuteTime": {
     "end_time": "2024-01-30T07:50:10.556914200Z",
     "start_time": "2024-01-30T07:48:57.894729900Z"
    }
   }
  },
  {
   "cell_type": "code",
   "execution_count": 79,
   "outputs": [
    {
     "data": {
      "text/plain": "0.38592686625057304"
     },
     "execution_count": 79,
     "metadata": {},
     "output_type": "execute_result"
    }
   ],
   "source": [
    "grid_cv.best_score_"
   ],
   "metadata": {
    "collapsed": false,
    "ExecuteTime": {
     "end_time": "2024-01-30T07:51:31.753938400Z",
     "start_time": "2024-01-30T07:51:31.753433800Z"
    }
   }
  },
  {
   "cell_type": "code",
   "execution_count": 80,
   "outputs": [
    {
     "data": {
      "text/plain": "{'colsample_bytree': 0.5,\n 'gamma': 0,\n 'learning_rate': 0.01,\n 'max_depth': 3,\n 'reg_lambda': 0,\n 'scale_pos_weight': 1,\n 'subsample': 0.8}"
     },
     "execution_count": 80,
     "metadata": {},
     "output_type": "execute_result"
    }
   ],
   "source": [
    "grid_cv.best_params_"
   ],
   "metadata": {
    "collapsed": false,
    "ExecuteTime": {
     "end_time": "2024-01-30T07:51:35.143416500Z",
     "start_time": "2024-01-30T07:51:35.117278700Z"
    }
   }
  },
  {
   "cell_type": "code",
   "execution_count": 81,
   "outputs": [],
   "source": [
    "# Insert the new fixed values to the grid\n",
    "param_grid[\"scale_pos_weight\"] = [3]\n",
    "param_grid[\"subsample\"] = [0.8]\n",
    "param_grid[\"colsample_bytree\"] = [0.5]\n",
    "\n",
    "# Give new value ranges to other params\n",
    "param_grid[\"gamma\"] = [3, 5, 7]\n",
    "param_grid[\"max_depth\"] = [9, 15, 20]\n",
    "param_grid[\"reg_lambda\"] = [10, 30, 50]\n",
    "param_grid[\"learning_rate\"] = [0.3, 0.5, 0.7, 1]"
   ],
   "metadata": {
    "collapsed": false,
    "ExecuteTime": {
     "end_time": "2024-01-30T07:55:05.989368500Z",
     "start_time": "2024-01-30T07:55:05.989368500Z"
    }
   }
  },
  {
   "cell_type": "code",
   "execution_count": 83,
   "outputs": [
    {
     "name": "stderr",
     "output_type": "stream",
     "text": [
      "C:\\Users\\Newowner\\AppData\\Local\\Programs\\Python\\Python311\\Lib\\site-packages\\sklearn\\model_selection\\_split.py:737: UserWarning: The least populated class in y has only 2 members, which is less than n_splits=3.\n",
      "  warnings.warn(\n",
      "C:\\Users\\Newowner\\AppData\\Local\\Programs\\Python\\Python311\\Lib\\site-packages\\xgboost\\core.py:160: UserWarning: [07:55:50] WARNING: C:\\buildkite-agent\\builds\\buildkite-windows-cpu-autoscaling-group-i-0b3782d1791676daf-1\\xgboost\\xgboost-ci-windows\\src\\learner.cc:742: \n",
      "Parameters: { \"scale_pos_weight\" } are not used.\n",
      "\n",
      "  warnings.warn(smsg, UserWarning)\n"
     ]
    }
   ],
   "source": [
    "grid_cv_2 = GridSearchCV(xgb_cl, param_grid, \n",
    "                         cv=3, scoring=\"accuracy\", n_jobs=-1)\n",
    "\n",
    "_ = grid_cv_2.fit(X_scaled, y_encoded)"
   ],
   "metadata": {
    "collapsed": false,
    "ExecuteTime": {
     "end_time": "2024-01-30T07:55:50.553309400Z",
     "start_time": "2024-01-30T07:55:30.205440700Z"
    }
   }
  },
  {
   "cell_type": "code",
   "execution_count": 84,
   "outputs": [
    {
     "data": {
      "text/plain": "0.349483409147008"
     },
     "execution_count": 84,
     "metadata": {},
     "output_type": "execute_result"
    }
   ],
   "source": [
    "grid_cv_2.best_score_"
   ],
   "metadata": {
    "collapsed": false,
    "ExecuteTime": {
     "end_time": "2024-01-30T07:55:50.558976700Z",
     "start_time": "2024-01-30T07:55:50.553309400Z"
    }
   }
  },
  {
   "cell_type": "code",
   "execution_count": 85,
   "outputs": [
    {
     "data": {
      "text/plain": "{'colsample_bytree': 0.5,\n 'gamma': 0,\n 'learning_rate': 0.01,\n 'max_depth': 3,\n 'reg_lambda': 0,\n 'scale_pos_weight': 1,\n 'subsample': 0.8}"
     },
     "execution_count": 85,
     "metadata": {},
     "output_type": "execute_result"
    }
   ],
   "source": [
    "grid_cv.best_params_"
   ],
   "metadata": {
    "collapsed": false,
    "ExecuteTime": {
     "end_time": "2024-01-30T07:55:52.207391300Z",
     "start_time": "2024-01-30T07:55:52.207391300Z"
    }
   }
  },
  {
   "cell_type": "markdown",
   "source": [
    "## Randomforest"
   ],
   "metadata": {
    "collapsed": false
   }
  },
  {
   "cell_type": "code",
   "execution_count": 86,
   "outputs": [
    {
     "name": "stderr",
     "output_type": "stream",
     "text": [
      "C:\\Users\\Newowner\\AppData\\Local\\Programs\\Python\\Python311\\Lib\\site-packages\\sklearn\\model_selection\\_split.py:737: UserWarning: The least populated class in y has only 2 members, which is less than n_splits=5.\n",
      "  warnings.warn(\n"
     ]
    },
    {
     "name": "stdout",
     "output_type": "stream",
     "text": [
      "mean weighted train scores=[0.36953855 0.3822824  0.41201437 0.44538454 0.5315391  0.63955236\n",
      " 0.79305517 0.90653588 0.964189   0.98786037 0.9993921  1.\n",
      " 1.         1.         1.        ]\n",
      "mean weighted validation scores=[0.36159271 0.35915369 0.37123127 0.38098736 0.38104614 0.37375845\n",
      " 0.36893917 0.36641199 0.37126065 0.35915369 0.35674405 0.35924185\n",
      " 0.35674405 0.351866   0.3446077 ]\n",
      "Best max_depth: 5\n",
      "Best validation score: 38.10%\n"
     ]
    }
   ],
   "source": [
    "from sklearn.ensemble import RandomForestClassifier\n",
    "from sklearn.model_selection import GridSearchCV\n",
    "from sklearn.datasets import make_classification\n",
    "from sklearn.model_selection import train_test_split\n",
    "\n",
    "rf_clf = RandomForestClassifier(random_state=42)\n",
    "\n",
    "# define a range of  values to search over\n",
    "#\n",
    "# param_grid = {'n_estimators': [50, 100, 200, 400, 800]}  # 400 best\n",
    "\n",
    "max_depth_vec=np.arange(1,16,1)\n",
    "param_grid = {'max_depth': max_depth_vec}\n",
    "\n",
    "# perform a grid search over the n_estimators values\n",
    "grid_search = GridSearchCV(rf_clf, param_grid, cv=5, return_train_score=True)\n",
    "grid_search.fit(X_scaled, y_encoded)\n",
    "\n",
    "# Get the best hyperparameters\n",
    "best_params = grid_search.best_params_\n",
    "best_score=grid_search.best_score_\n",
    "\n",
    "mean_train = grid_search.cv_results_['mean_train_score']\n",
    "mean_val   = grid_search.cv_results_['mean_test_score']\n",
    "print(\"mean weighted train scores={}\".format(mean_train))\n",
    "print(\"mean weighted validation scores={}\".format(mean_val))\n",
    "\n",
    "# print the best n_estimators value and corresponding score\n",
    "print(\"Best max_depth: {}\".format(best_params['max_depth']))\n",
    "print(\"Best validation score: {:.2f}%\".format(best_score*100))\n"
   ],
   "metadata": {
    "collapsed": false,
    "ExecuteTime": {
     "end_time": "2024-01-30T07:59:41.749342900Z",
     "start_time": "2024-01-30T07:59:30.460740800Z"
    }
   }
  },
  {
   "cell_type": "code",
   "execution_count": 88,
   "outputs": [
    {
     "data": {
      "text/plain": "RandomForestClassifier(max_depth=14, n_estimators=400, random_state=42)",
      "text/html": "<style>#sk-container-id-1 {\n  /* Definition of color scheme common for light and dark mode */\n  --sklearn-color-text: black;\n  --sklearn-color-line: gray;\n  /* Definition of color scheme for unfitted estimators */\n  --sklearn-color-unfitted-level-0: #fff5e6;\n  --sklearn-color-unfitted-level-1: #f6e4d2;\n  --sklearn-color-unfitted-level-2: #ffe0b3;\n  --sklearn-color-unfitted-level-3: chocolate;\n  /* Definition of color scheme for fitted estimators */\n  --sklearn-color-fitted-level-0: #f0f8ff;\n  --sklearn-color-fitted-level-1: #d4ebff;\n  --sklearn-color-fitted-level-2: #b3dbfd;\n  --sklearn-color-fitted-level-3: cornflowerblue;\n\n  /* Specific color for light theme */\n  --sklearn-color-text-on-default-background: var(--sg-text-color, var(--theme-code-foreground, var(--jp-content-font-color1, black)));\n  --sklearn-color-background: var(--sg-background-color, var(--theme-background, var(--jp-layout-color0, white)));\n  --sklearn-color-border-box: var(--sg-text-color, var(--theme-code-foreground, var(--jp-content-font-color1, black)));\n  --sklearn-color-icon: #696969;\n\n  @media (prefers-color-scheme: dark) {\n    /* Redefinition of color scheme for dark theme */\n    --sklearn-color-text-on-default-background: var(--sg-text-color, var(--theme-code-foreground, var(--jp-content-font-color1, white)));\n    --sklearn-color-background: var(--sg-background-color, var(--theme-background, var(--jp-layout-color0, #111)));\n    --sklearn-color-border-box: var(--sg-text-color, var(--theme-code-foreground, var(--jp-content-font-color1, white)));\n    --sklearn-color-icon: #878787;\n  }\n}\n\n#sk-container-id-1 {\n  color: var(--sklearn-color-text);\n}\n\n#sk-container-id-1 pre {\n  padding: 0;\n}\n\n#sk-container-id-1 input.sk-hidden--visually {\n  border: 0;\n  clip: rect(1px 1px 1px 1px);\n  clip: rect(1px, 1px, 1px, 1px);\n  height: 1px;\n  margin: -1px;\n  overflow: hidden;\n  padding: 0;\n  position: absolute;\n  width: 1px;\n}\n\n#sk-container-id-1 div.sk-dashed-wrapped {\n  border: 1px dashed var(--sklearn-color-line);\n  margin: 0 0.4em 0.5em 0.4em;\n  box-sizing: border-box;\n  padding-bottom: 0.4em;\n  background-color: var(--sklearn-color-background);\n}\n\n#sk-container-id-1 div.sk-container {\n  /* jupyter's `normalize.less` sets `[hidden] { display: none; }`\n     but bootstrap.min.css set `[hidden] { display: none !important; }`\n     so we also need the `!important` here to be able to override the\n     default hidden behavior on the sphinx rendered scikit-learn.org.\n     See: https://github.com/scikit-learn/scikit-learn/issues/21755 */\n  display: inline-block !important;\n  position: relative;\n}\n\n#sk-container-id-1 div.sk-text-repr-fallback {\n  display: none;\n}\n\ndiv.sk-parallel-item,\ndiv.sk-serial,\ndiv.sk-item {\n  /* draw centered vertical line to link estimators */\n  background-image: linear-gradient(var(--sklearn-color-text-on-default-background), var(--sklearn-color-text-on-default-background));\n  background-size: 2px 100%;\n  background-repeat: no-repeat;\n  background-position: center center;\n}\n\n/* Parallel-specific style estimator block */\n\n#sk-container-id-1 div.sk-parallel-item::after {\n  content: \"\";\n  width: 100%;\n  border-bottom: 2px solid var(--sklearn-color-text-on-default-background);\n  flex-grow: 1;\n}\n\n#sk-container-id-1 div.sk-parallel {\n  display: flex;\n  align-items: stretch;\n  justify-content: center;\n  background-color: var(--sklearn-color-background);\n  position: relative;\n}\n\n#sk-container-id-1 div.sk-parallel-item {\n  display: flex;\n  flex-direction: column;\n}\n\n#sk-container-id-1 div.sk-parallel-item:first-child::after {\n  align-self: flex-end;\n  width: 50%;\n}\n\n#sk-container-id-1 div.sk-parallel-item:last-child::after {\n  align-self: flex-start;\n  width: 50%;\n}\n\n#sk-container-id-1 div.sk-parallel-item:only-child::after {\n  width: 0;\n}\n\n/* Serial-specific style estimator block */\n\n#sk-container-id-1 div.sk-serial {\n  display: flex;\n  flex-direction: column;\n  align-items: center;\n  background-color: var(--sklearn-color-background);\n  padding-right: 1em;\n  padding-left: 1em;\n}\n\n\n/* Toggleable style: style used for estimator/Pipeline/ColumnTransformer box that is\nclickable and can be expanded/collapsed.\n- Pipeline and ColumnTransformer use this feature and define the default style\n- Estimators will overwrite some part of the style using the `sk-estimator` class\n*/\n\n/* Pipeline and ColumnTransformer style (default) */\n\n#sk-container-id-1 div.sk-toggleable {\n  /* Default theme specific background. It is overwritten whether we have a\n  specific estimator or a Pipeline/ColumnTransformer */\n  background-color: var(--sklearn-color-background);\n}\n\n/* Toggleable label */\n#sk-container-id-1 label.sk-toggleable__label {\n  cursor: pointer;\n  display: block;\n  width: 100%;\n  margin-bottom: 0;\n  padding: 0.5em;\n  box-sizing: border-box;\n  text-align: center;\n}\n\n#sk-container-id-1 label.sk-toggleable__label-arrow:before {\n  /* Arrow on the left of the label */\n  content: \"▸\";\n  float: left;\n  margin-right: 0.25em;\n  color: var(--sklearn-color-icon);\n}\n\n#sk-container-id-1 label.sk-toggleable__label-arrow:hover:before {\n  color: var(--sklearn-color-text);\n}\n\n/* Toggleable content - dropdown */\n\n#sk-container-id-1 div.sk-toggleable__content {\n  max-height: 0;\n  max-width: 0;\n  overflow: hidden;\n  text-align: left;\n  /* unfitted */\n  background-color: var(--sklearn-color-unfitted-level-0);\n}\n\n#sk-container-id-1 div.sk-toggleable__content.fitted {\n  /* fitted */\n  background-color: var(--sklearn-color-fitted-level-0);\n}\n\n#sk-container-id-1 div.sk-toggleable__content pre {\n  margin: 0.2em;\n  border-radius: 0.25em;\n  color: var(--sklearn-color-text);\n  /* unfitted */\n  background-color: var(--sklearn-color-unfitted-level-0);\n}\n\n#sk-container-id-1 div.sk-toggleable__content.fitted pre {\n  /* unfitted */\n  background-color: var(--sklearn-color-fitted-level-0);\n}\n\n#sk-container-id-1 input.sk-toggleable__control:checked~div.sk-toggleable__content {\n  /* Expand drop-down */\n  max-height: 200px;\n  max-width: 100%;\n  overflow: auto;\n}\n\n#sk-container-id-1 input.sk-toggleable__control:checked~label.sk-toggleable__label-arrow:before {\n  content: \"▾\";\n}\n\n/* Pipeline/ColumnTransformer-specific style */\n\n#sk-container-id-1 div.sk-label input.sk-toggleable__control:checked~label.sk-toggleable__label {\n  color: var(--sklearn-color-text);\n  background-color: var(--sklearn-color-unfitted-level-2);\n}\n\n#sk-container-id-1 div.sk-label.fitted input.sk-toggleable__control:checked~label.sk-toggleable__label {\n  background-color: var(--sklearn-color-fitted-level-2);\n}\n\n/* Estimator-specific style */\n\n/* Colorize estimator box */\n#sk-container-id-1 div.sk-estimator input.sk-toggleable__control:checked~label.sk-toggleable__label {\n  /* unfitted */\n  background-color: var(--sklearn-color-unfitted-level-2);\n}\n\n#sk-container-id-1 div.sk-estimator.fitted input.sk-toggleable__control:checked~label.sk-toggleable__label {\n  /* fitted */\n  background-color: var(--sklearn-color-fitted-level-2);\n}\n\n#sk-container-id-1 div.sk-label label.sk-toggleable__label,\n#sk-container-id-1 div.sk-label label {\n  /* The background is the default theme color */\n  color: var(--sklearn-color-text-on-default-background);\n}\n\n/* On hover, darken the color of the background */\n#sk-container-id-1 div.sk-label:hover label.sk-toggleable__label {\n  color: var(--sklearn-color-text);\n  background-color: var(--sklearn-color-unfitted-level-2);\n}\n\n/* Label box, darken color on hover, fitted */\n#sk-container-id-1 div.sk-label.fitted:hover label.sk-toggleable__label.fitted {\n  color: var(--sklearn-color-text);\n  background-color: var(--sklearn-color-fitted-level-2);\n}\n\n/* Estimator label */\n\n#sk-container-id-1 div.sk-label label {\n  font-family: monospace;\n  font-weight: bold;\n  display: inline-block;\n  line-height: 1.2em;\n}\n\n#sk-container-id-1 div.sk-label-container {\n  text-align: center;\n}\n\n/* Estimator-specific */\n#sk-container-id-1 div.sk-estimator {\n  font-family: monospace;\n  border: 1px dotted var(--sklearn-color-border-box);\n  border-radius: 0.25em;\n  box-sizing: border-box;\n  margin-bottom: 0.5em;\n  /* unfitted */\n  background-color: var(--sklearn-color-unfitted-level-0);\n}\n\n#sk-container-id-1 div.sk-estimator.fitted {\n  /* fitted */\n  background-color: var(--sklearn-color-fitted-level-0);\n}\n\n/* on hover */\n#sk-container-id-1 div.sk-estimator:hover {\n  /* unfitted */\n  background-color: var(--sklearn-color-unfitted-level-2);\n}\n\n#sk-container-id-1 div.sk-estimator.fitted:hover {\n  /* fitted */\n  background-color: var(--sklearn-color-fitted-level-2);\n}\n\n/* Specification for estimator info (e.g. \"i\" and \"?\") */\n\n/* Common style for \"i\" and \"?\" */\n\n.sk-estimator-doc-link,\na:link.sk-estimator-doc-link,\na:visited.sk-estimator-doc-link {\n  float: right;\n  font-size: smaller;\n  line-height: 1em;\n  font-family: monospace;\n  background-color: var(--sklearn-color-background);\n  border-radius: 1em;\n  height: 1em;\n  width: 1em;\n  text-decoration: none !important;\n  margin-left: 1ex;\n  /* unfitted */\n  border: var(--sklearn-color-unfitted-level-1) 1pt solid;\n  color: var(--sklearn-color-unfitted-level-1);\n}\n\n.sk-estimator-doc-link.fitted,\na:link.sk-estimator-doc-link.fitted,\na:visited.sk-estimator-doc-link.fitted {\n  /* fitted */\n  border: var(--sklearn-color-fitted-level-1) 1pt solid;\n  color: var(--sklearn-color-fitted-level-1);\n}\n\n/* On hover */\ndiv.sk-estimator:hover .sk-estimator-doc-link:hover,\n.sk-estimator-doc-link:hover,\ndiv.sk-label-container:hover .sk-estimator-doc-link:hover,\n.sk-estimator-doc-link:hover {\n  /* unfitted */\n  background-color: var(--sklearn-color-unfitted-level-3);\n  color: var(--sklearn-color-background);\n  text-decoration: none;\n}\n\ndiv.sk-estimator.fitted:hover .sk-estimator-doc-link.fitted:hover,\n.sk-estimator-doc-link.fitted:hover,\ndiv.sk-label-container:hover .sk-estimator-doc-link.fitted:hover,\n.sk-estimator-doc-link.fitted:hover {\n  /* fitted */\n  background-color: var(--sklearn-color-fitted-level-3);\n  color: var(--sklearn-color-background);\n  text-decoration: none;\n}\n\n/* Span, style for the box shown on hovering the info icon */\n.sk-estimator-doc-link span {\n  display: none;\n  z-index: 9999;\n  position: relative;\n  font-weight: normal;\n  right: .2ex;\n  padding: .5ex;\n  margin: .5ex;\n  width: min-content;\n  min-width: 20ex;\n  max-width: 50ex;\n  color: var(--sklearn-color-text);\n  box-shadow: 2pt 2pt 4pt #999;\n  /* unfitted */\n  background: var(--sklearn-color-unfitted-level-0);\n  border: .5pt solid var(--sklearn-color-unfitted-level-3);\n}\n\n.sk-estimator-doc-link.fitted span {\n  /* fitted */\n  background: var(--sklearn-color-fitted-level-0);\n  border: var(--sklearn-color-fitted-level-3);\n}\n\n.sk-estimator-doc-link:hover span {\n  display: block;\n}\n\n/* \"?\"-specific style due to the `<a>` HTML tag */\n\n#sk-container-id-1 a.estimator_doc_link {\n  float: right;\n  font-size: 1rem;\n  line-height: 1em;\n  font-family: monospace;\n  background-color: var(--sklearn-color-background);\n  border-radius: 1rem;\n  height: 1rem;\n  width: 1rem;\n  text-decoration: none;\n  /* unfitted */\n  color: var(--sklearn-color-unfitted-level-1);\n  border: var(--sklearn-color-unfitted-level-1) 1pt solid;\n}\n\n#sk-container-id-1 a.estimator_doc_link.fitted {\n  /* fitted */\n  border: var(--sklearn-color-fitted-level-1) 1pt solid;\n  color: var(--sklearn-color-fitted-level-1);\n}\n\n/* On hover */\n#sk-container-id-1 a.estimator_doc_link:hover {\n  /* unfitted */\n  background-color: var(--sklearn-color-unfitted-level-3);\n  color: var(--sklearn-color-background);\n  text-decoration: none;\n}\n\n#sk-container-id-1 a.estimator_doc_link.fitted:hover {\n  /* fitted */\n  background-color: var(--sklearn-color-fitted-level-3);\n}\n</style><div id=\"sk-container-id-1\" class=\"sk-top-container\"><div class=\"sk-text-repr-fallback\"><pre>RandomForestClassifier(max_depth=14, n_estimators=400, random_state=42)</pre><b>In a Jupyter environment, please rerun this cell to show the HTML representation or trust the notebook. <br />On GitHub, the HTML representation is unable to render, please try loading this page with nbviewer.org.</b></div><div class=\"sk-container\" hidden><div class=\"sk-item\"><div class=\"sk-estimator fitted sk-toggleable\"><input class=\"sk-toggleable__control sk-hidden--visually\" id=\"sk-estimator-id-1\" type=\"checkbox\" checked><label for=\"sk-estimator-id-1\" class=\"sk-toggleable__label fitted sk-toggleable__label-arrow fitted\">&nbsp;&nbsp;RandomForestClassifier<a class=\"sk-estimator-doc-link fitted\" rel=\"noreferrer\" target=\"_blank\" href=\"https://scikit-learn.org/1.4/modules/generated/sklearn.ensemble.RandomForestClassifier.html\">?<span>Documentation for RandomForestClassifier</span></a><span class=\"sk-estimator-doc-link fitted\">i<span>Fitted</span></span></label><div class=\"sk-toggleable__content fitted\"><pre>RandomForestClassifier(max_depth=14, n_estimators=400, random_state=42)</pre></div> </div></div></div></div>"
     },
     "execution_count": 88,
     "metadata": {},
     "output_type": "execute_result"
    }
   ],
   "source": [
    "RFC_model = RandomForestClassifier(n_estimators=400, max_depth=14, random_state=42)\n",
    "RFC_model.fit(X_scaled, y_encoded)"
   ],
   "metadata": {
    "collapsed": false,
    "ExecuteTime": {
     "end_time": "2024-01-30T08:01:54.218270Z",
     "start_time": "2024-01-30T08:01:53.337681700Z"
    }
   }
  },
  {
   "cell_type": "code",
   "execution_count": 89,
   "outputs": [
    {
     "data": {
      "text/plain": "<Figure size 900x300 with 1 Axes>",
      "image/png": "[encoded data removed]"
     },
     "metadata": {},
     "output_type": "display_data"
    }
   ],
   "source": [
    "fig=plt.figure(figsize=(9,3))\n",
    "ax = fig.add_subplot(111)\n",
    "plt.plot(max_depth_vec, mean_train, label=\"train\")\n",
    "plt.plot(max_depth_vec, mean_val, label=\"validation\")\n",
    "plt.title(\"Random Forest Classifier\")\n",
    "plt.ylabel(\"mean accuracy\")\n",
    "plt.xlabel(\"max depth\")\n",
    "plt.xticks(max_depth_vec)\n",
    "plt.legend();"
   ],
   "metadata": {
    "collapsed": false,
    "ExecuteTime": {
     "end_time": "2024-01-30T08:02:03.731097400Z",
     "start_time": "2024-01-30T08:02:03.467754100Z"
    }
   }
  },
  {
   "cell_type": "markdown",
   "source": [
    "## Logistic"
   ],
   "metadata": {
    "collapsed": false
   }
  },
  {
   "cell_type": "code",
   "execution_count": 94,
   "outputs": [],
   "source": [],
   "metadata": {
    "collapsed": false,
    "ExecuteTime": {
     "end_time": "2024-01-30T08:10:50.133964200Z",
     "start_time": "2024-01-30T08:10:50.094200600Z"
    }
   }
  },
  {
   "cell_type": "code",
   "execution_count": 95,
   "outputs": [
    {
     "name": "stderr",
     "output_type": "stream",
     "text": [
      "C:\\Users\\Newowner\\AppData\\Local\\Programs\\Python\\Python311\\Lib\\site-packages\\sklearn\\model_selection\\_split.py:737: UserWarning: The least populated class in y has only 2 members, which is less than n_splits=5.\n",
      "  warnings.warn(\n"
     ]
    },
    {
     "name": "stdout",
     "output_type": "stream",
     "text": [
      "Best hyperparameters: {'C': 1.0, 'max_iter': 1000, 'penalty': 'l1', 'solver': 'liblinear'}\n",
      "mean weighted train scores=[0.4071493         nan 0.40533112 0.42839827 0.52426085        nan\n",
      " 0.47208437 0.52911854 0.54428295        nan 0.49756102 0.55156489\n",
      " 0.54913328        nan 0.51273096 0.56188081 0.55095883        nan\n",
      " 0.51819287 0.56855853 0.55520494        nan 0.52486691 0.5697725\n",
      " 0.55945473        nan 0.52729299 0.57402045 0.55703049        nan\n",
      " 0.52911301 0.57584047 0.55824261        nan 0.53336465 0.57644469\n",
      " 0.55945289        nan 0.5370047  0.57826656 0.55945289        nan\n",
      " 0.54004237 0.58069264 0.16261951        nan 0.33130699 0.25911209\n",
      " 0.16261951        nan 0.35315465 0.36651009 0.36346689        nan\n",
      " 0.38168002 0.38289583]\n",
      "mean weighted validation scores=[0.37140758        nan 0.36650015 0.35677344 0.32042316        nan\n",
      " 0.33499853 0.3275933  0.30825742        nan 0.33258889 0.31304731\n",
      " 0.3058184         nan 0.32042316 0.31301793 0.30099912        nan\n",
      " 0.31801352 0.30816926 0.29615046        nan 0.31313547 0.30575962\n",
      " 0.29615046        nan 0.31072583 0.29850132 0.29127241        nan\n",
      " 0.30587717 0.2960623  0.28886277        nan 0.30831619 0.29365266\n",
      " 0.28642374        nan 0.31075522 0.29124302 0.28157508        nan\n",
      " 0.30831619 0.288804   0.16259183        nan 0.32765207 0.24754628\n",
      " 0.16259183        nan 0.33737878 0.35439318 0.34704672        nan\n",
      " 0.35442257 0.36165148]\n",
      "best validation score=0.3714075815456949\n"
     ]
    },
    {
     "name": "stderr",
     "output_type": "stream",
     "text": [
      "C:\\Users\\Newowner\\AppData\\Local\\Programs\\Python\\Python311\\Lib\\site-packages\\sklearn\\model_selection\\_validation.py:542: FitFailedWarning: \n",
      "70 fits failed out of a total of 280.\n",
      "The score on these train-test partitions for these parameters will be set to nan.\n",
      "If these failures are not expected, you can try to debug them by setting error_score='raise'.\n",
      "\n",
      "Below are more details about the failures:\n",
      "--------------------------------------------------------------------------------\n",
      "70 fits failed with the following error:\n",
      "Traceback (most recent call last):\n",
      "  File \"C:\\Users\\Newowner\\AppData\\Local\\Programs\\Python\\Python311\\Lib\\site-packages\\sklearn\\model_selection\\_validation.py\", line 890, in _fit_and_score\n",
      "    estimator.fit(X_train, y_train, **fit_params)\n",
      "  File \"C:\\Users\\Newowner\\AppData\\Local\\Programs\\Python\\Python311\\Lib\\site-packages\\sklearn\\base.py\", line 1351, in wrapper\n",
      "    return fit_method(estimator, *args, **kwargs)\n",
      "           ^^^^^^^^^^^^^^^^^^^^^^^^^^^^^^^^^^^^^^\n",
      "  File \"C:\\Users\\Newowner\\AppData\\Local\\Programs\\Python\\Python311\\Lib\\site-packages\\sklearn\\linear_model\\_logistic.py\", line 1172, in fit\n",
      "    solver = _check_solver(self.solver, self.penalty, self.dual)\n",
      "             ^^^^^^^^^^^^^^^^^^^^^^^^^^^^^^^^^^^^^^^^^^^^^^^^^^^\n",
      "  File \"C:\\Users\\Newowner\\AppData\\Local\\Programs\\Python\\Python311\\Lib\\site-packages\\sklearn\\linear_model\\_logistic.py\", line 67, in _check_solver\n",
      "    raise ValueError(\n",
      "ValueError: Solver newton-cg supports only 'l2' or None penalties, got l1 penalty.\n",
      "\n",
      "  warnings.warn(some_fits_failed_message, FitFailedWarning)\n",
      "C:\\Users\\Newowner\\AppData\\Local\\Programs\\Python\\Python311\\Lib\\site-packages\\sklearn\\model_selection\\_search.py:1051: UserWarning: One or more of the test scores are non-finite: [0.37140758        nan 0.36650015 0.35677344 0.32042316        nan\n",
      " 0.33499853 0.3275933  0.30825742        nan 0.33258889 0.31304731\n",
      " 0.3058184         nan 0.32042316 0.31301793 0.30099912        nan\n",
      " 0.31801352 0.30816926 0.29615046        nan 0.31313547 0.30575962\n",
      " 0.29615046        nan 0.31072583 0.29850132 0.29127241        nan\n",
      " 0.30587717 0.2960623  0.28886277        nan 0.30831619 0.29365266\n",
      " 0.28642374        nan 0.31075522 0.29124302 0.28157508        nan\n",
      " 0.30831619 0.288804   0.16259183        nan 0.32765207 0.24754628\n",
      " 0.16259183        nan 0.33737878 0.35439318 0.34704672        nan\n",
      " 0.35442257 0.36165148]\n",
      "  warnings.warn(\n",
      "C:\\Users\\Newowner\\AppData\\Local\\Programs\\Python\\Python311\\Lib\\site-packages\\sklearn\\model_selection\\_search.py:1051: UserWarning: One or more of the train scores are non-finite: [0.4071493         nan 0.40533112 0.42839827 0.52426085        nan\n",
      " 0.47208437 0.52911854 0.54428295        nan 0.49756102 0.55156489\n",
      " 0.54913328        nan 0.51273096 0.56188081 0.55095883        nan\n",
      " 0.51819287 0.56855853 0.55520494        nan 0.52486691 0.5697725\n",
      " 0.55945473        nan 0.52729299 0.57402045 0.55703049        nan\n",
      " 0.52911301 0.57584047 0.55824261        nan 0.53336465 0.57644469\n",
      " 0.55945289        nan 0.5370047  0.57826656 0.55945289        nan\n",
      " 0.54004237 0.58069264 0.16261951        nan 0.33130699 0.25911209\n",
      " 0.16261951        nan 0.35315465 0.36651009 0.36346689        nan\n",
      " 0.38168002 0.38289583]\n",
      "  warnings.warn(\n"
     ]
    }
   ],
   "source": [
    "from sklearn.linear_model import LogisticRegression\n",
    "from sklearn.metrics import accuracy_score\n",
    "\n",
    "C1=np.arange(1,110,10)\n",
    "C2=[0.001,0.01,0.1]\n",
    "C_values = np.append(C1,C2)\n",
    "# Define the hyperparameters and search space\n",
    "params = {\"C\": C_values, \"penalty\": [\"l1\", \"l2\"], \"solver\": [\"liblinear\",\"newton-cg\"],\"max_iter\": [1000]}\n",
    "\n",
    "# Create the logistic regression model\n",
    "lr = LogisticRegression(random_state=42)\n",
    "\n",
    "# Perform a grid search with 5-fold cross-validation\n",
    "grid_search = GridSearchCV(estimator=lr, param_grid=params, cv=5,\\\n",
    "                           return_train_score=True)\n",
    "grid_search.fit(X_scaled, y_encoded)\n",
    "\n",
    "# Find the best hyperparameters\n",
    "best_params = grid_search.best_params_\n",
    "print(\"Best hyperparameters:\", best_params)\n",
    "\n",
    "mean_train = grid_search.cv_results_['mean_train_score']\n",
    "mean_val =   grid_search.cv_results_['mean_test_score']\n",
    "\n",
    "print(\"mean weighted train scores={}\".format(mean_train))\n",
    "print(\"mean weighted validation scores={}\".format(mean_val))\n",
    "print(\"best validation score={}\".format(best_score))"
   ],
   "metadata": {
    "collapsed": false,
    "ExecuteTime": {
     "end_time": "2024-01-30T08:11:44.710414700Z",
     "start_time": "2024-01-30T08:11:28.391297100Z"
    }
   }
  },
  {
   "cell_type": "code",
   "execution_count": 101,
   "outputs": [
    {
     "data": {
      "text/plain": "0.3714075815456949"
     },
     "execution_count": 101,
     "metadata": {},
     "output_type": "execute_result"
    }
   ],
   "source": [
    "grid_search.best_score_"
   ],
   "metadata": {
    "collapsed": false,
    "ExecuteTime": {
     "end_time": "2024-01-30T08:14:07.935966600Z",
     "start_time": "2024-01-30T08:14:07.846932400Z"
    }
   }
  },
  {
   "cell_type": "code",
   "execution_count": 98,
   "outputs": [
    {
     "ename": "ValueError",
     "evalue": "x and y must have same first dimension, but have shapes (14,) and (56,)",
     "output_type": "error",
     "traceback": [
      "\u001B[1;31m---------------------------------------------------------------------------\u001B[0m",
      "\u001B[1;31mValueError\u001B[0m                                Traceback (most recent call last)",
      "Cell \u001B[1;32mIn[98], line 3\u001B[0m\n\u001B[0;32m      1\u001B[0m fig\u001B[38;5;241m=\u001B[39mplt\u001B[38;5;241m.\u001B[39mfigure(figsize\u001B[38;5;241m=\u001B[39m(\u001B[38;5;241m9\u001B[39m,\u001B[38;5;241m3\u001B[39m))\n\u001B[0;32m      2\u001B[0m ax \u001B[38;5;241m=\u001B[39m fig\u001B[38;5;241m.\u001B[39madd_subplot(\u001B[38;5;241m111\u001B[39m)\n\u001B[1;32m----> 3\u001B[0m \u001B[43mplt\u001B[49m\u001B[38;5;241;43m.\u001B[39;49m\u001B[43mplot\u001B[49m\u001B[43m(\u001B[49m\u001B[43mC_values\u001B[49m\u001B[43m,\u001B[49m\u001B[43m \u001B[49m\u001B[43mmean_train\u001B[49m\u001B[43m,\u001B[49m\u001B[43m \u001B[49m\u001B[43mlabel\u001B[49m\u001B[38;5;241;43m=\u001B[39;49m\u001B[38;5;124;43m\"\u001B[39;49m\u001B[38;5;124;43mtrain\u001B[39;49m\u001B[38;5;124;43m\"\u001B[39;49m\u001B[43m)\u001B[49m\n\u001B[0;32m      4\u001B[0m plt\u001B[38;5;241m.\u001B[39mplot(C_values, mean_val, label\u001B[38;5;241m=\u001B[39m\u001B[38;5;124m\"\u001B[39m\u001B[38;5;124mvalidation\u001B[39m\u001B[38;5;124m\"\u001B[39m)\n\u001B[0;32m      5\u001B[0m plt\u001B[38;5;241m.\u001B[39mtitle(\u001B[38;5;124m\"\u001B[39m\u001B[38;5;124mLogistic Regression\u001B[39m\u001B[38;5;124m\"\u001B[39m)\n",
      "File \u001B[1;32m~\\AppData\\Local\\Programs\\Python\\Python311\\Lib\\site-packages\\matplotlib\\pyplot.py:3575\u001B[0m, in \u001B[0;36mplot\u001B[1;34m(scalex, scaley, data, *args, **kwargs)\u001B[0m\n\u001B[0;32m   3567\u001B[0m \u001B[38;5;129m@_copy_docstring_and_deprecators\u001B[39m(Axes\u001B[38;5;241m.\u001B[39mplot)\n\u001B[0;32m   3568\u001B[0m \u001B[38;5;28;01mdef\u001B[39;00m \u001B[38;5;21mplot\u001B[39m(\n\u001B[0;32m   3569\u001B[0m     \u001B[38;5;241m*\u001B[39margs: \u001B[38;5;28mfloat\u001B[39m \u001B[38;5;241m|\u001B[39m ArrayLike \u001B[38;5;241m|\u001B[39m \u001B[38;5;28mstr\u001B[39m,\n\u001B[1;32m   (...)\u001B[0m\n\u001B[0;32m   3573\u001B[0m     \u001B[38;5;241m*\u001B[39m\u001B[38;5;241m*\u001B[39mkwargs,\n\u001B[0;32m   3574\u001B[0m ) \u001B[38;5;241m-\u001B[39m\u001B[38;5;241m>\u001B[39m \u001B[38;5;28mlist\u001B[39m[Line2D]:\n\u001B[1;32m-> 3575\u001B[0m     \u001B[38;5;28;01mreturn\u001B[39;00m \u001B[43mgca\u001B[49m\u001B[43m(\u001B[49m\u001B[43m)\u001B[49m\u001B[38;5;241;43m.\u001B[39;49m\u001B[43mplot\u001B[49m\u001B[43m(\u001B[49m\n\u001B[0;32m   3576\u001B[0m \u001B[43m        \u001B[49m\u001B[38;5;241;43m*\u001B[39;49m\u001B[43margs\u001B[49m\u001B[43m,\u001B[49m\n\u001B[0;32m   3577\u001B[0m \u001B[43m        \u001B[49m\u001B[43mscalex\u001B[49m\u001B[38;5;241;43m=\u001B[39;49m\u001B[43mscalex\u001B[49m\u001B[43m,\u001B[49m\n\u001B[0;32m   3578\u001B[0m \u001B[43m        \u001B[49m\u001B[43mscaley\u001B[49m\u001B[38;5;241;43m=\u001B[39;49m\u001B[43mscaley\u001B[49m\u001B[43m,\u001B[49m\n\u001B[0;32m   3579\u001B[0m \u001B[43m        \u001B[49m\u001B[38;5;241;43m*\u001B[39;49m\u001B[38;5;241;43m*\u001B[39;49m\u001B[43m(\u001B[49m\u001B[43m{\u001B[49m\u001B[38;5;124;43m\"\u001B[39;49m\u001B[38;5;124;43mdata\u001B[39;49m\u001B[38;5;124;43m\"\u001B[39;49m\u001B[43m:\u001B[49m\u001B[43m \u001B[49m\u001B[43mdata\u001B[49m\u001B[43m}\u001B[49m\u001B[43m \u001B[49m\u001B[38;5;28;43;01mif\u001B[39;49;00m\u001B[43m \u001B[49m\u001B[43mdata\u001B[49m\u001B[43m \u001B[49m\u001B[38;5;129;43;01mis\u001B[39;49;00m\u001B[43m \u001B[49m\u001B[38;5;129;43;01mnot\u001B[39;49;00m\u001B[43m \u001B[49m\u001B[38;5;28;43;01mNone\u001B[39;49;00m\u001B[43m \u001B[49m\u001B[38;5;28;43;01melse\u001B[39;49;00m\u001B[43m \u001B[49m\u001B[43m{\u001B[49m\u001B[43m}\u001B[49m\u001B[43m)\u001B[49m\u001B[43m,\u001B[49m\n\u001B[0;32m   3580\u001B[0m \u001B[43m        \u001B[49m\u001B[38;5;241;43m*\u001B[39;49m\u001B[38;5;241;43m*\u001B[39;49m\u001B[43mkwargs\u001B[49m\u001B[43m,\u001B[49m\n\u001B[0;32m   3581\u001B[0m \u001B[43m    \u001B[49m\u001B[43m)\u001B[49m\n",
      "File \u001B[1;32m~\\AppData\\Local\\Programs\\Python\\Python311\\Lib\\site-packages\\matplotlib\\axes\\_axes.py:1721\u001B[0m, in \u001B[0;36mAxes.plot\u001B[1;34m(self, scalex, scaley, data, *args, **kwargs)\u001B[0m\n\u001B[0;32m   1478\u001B[0m \u001B[38;5;250m\u001B[39m\u001B[38;5;124;03m\"\"\"\u001B[39;00m\n\u001B[0;32m   1479\u001B[0m \u001B[38;5;124;03mPlot y versus x as lines and/or markers.\u001B[39;00m\n\u001B[0;32m   1480\u001B[0m \n\u001B[1;32m   (...)\u001B[0m\n\u001B[0;32m   1718\u001B[0m \u001B[38;5;124;03m(``'green'``) or hex strings (``'#008000'``).\u001B[39;00m\n\u001B[0;32m   1719\u001B[0m \u001B[38;5;124;03m\"\"\"\u001B[39;00m\n\u001B[0;32m   1720\u001B[0m kwargs \u001B[38;5;241m=\u001B[39m cbook\u001B[38;5;241m.\u001B[39mnormalize_kwargs(kwargs, mlines\u001B[38;5;241m.\u001B[39mLine2D)\n\u001B[1;32m-> 1721\u001B[0m lines \u001B[38;5;241m=\u001B[39m [\u001B[38;5;241m*\u001B[39m\u001B[38;5;28mself\u001B[39m\u001B[38;5;241m.\u001B[39m_get_lines(\u001B[38;5;28mself\u001B[39m, \u001B[38;5;241m*\u001B[39margs, data\u001B[38;5;241m=\u001B[39mdata, \u001B[38;5;241m*\u001B[39m\u001B[38;5;241m*\u001B[39mkwargs)]\n\u001B[0;32m   1722\u001B[0m \u001B[38;5;28;01mfor\u001B[39;00m line \u001B[38;5;129;01min\u001B[39;00m lines:\n\u001B[0;32m   1723\u001B[0m     \u001B[38;5;28mself\u001B[39m\u001B[38;5;241m.\u001B[39madd_line(line)\n",
      "File \u001B[1;32m~\\AppData\\Local\\Programs\\Python\\Python311\\Lib\\site-packages\\matplotlib\\axes\\_base.py:303\u001B[0m, in \u001B[0;36m_process_plot_var_args.__call__\u001B[1;34m(self, axes, data, *args, **kwargs)\u001B[0m\n\u001B[0;32m    301\u001B[0m     this \u001B[38;5;241m+\u001B[39m\u001B[38;5;241m=\u001B[39m args[\u001B[38;5;241m0\u001B[39m],\n\u001B[0;32m    302\u001B[0m     args \u001B[38;5;241m=\u001B[39m args[\u001B[38;5;241m1\u001B[39m:]\n\u001B[1;32m--> 303\u001B[0m \u001B[38;5;28;01myield from\u001B[39;00m \u001B[38;5;28;43mself\u001B[39;49m\u001B[38;5;241;43m.\u001B[39;49m\u001B[43m_plot_args\u001B[49m\u001B[43m(\u001B[49m\n\u001B[0;32m    304\u001B[0m \u001B[43m    \u001B[49m\u001B[43maxes\u001B[49m\u001B[43m,\u001B[49m\u001B[43m \u001B[49m\u001B[43mthis\u001B[49m\u001B[43m,\u001B[49m\u001B[43m \u001B[49m\u001B[43mkwargs\u001B[49m\u001B[43m,\u001B[49m\u001B[43m \u001B[49m\u001B[43mambiguous_fmt_datakey\u001B[49m\u001B[38;5;241;43m=\u001B[39;49m\u001B[43mambiguous_fmt_datakey\u001B[49m\u001B[43m)\u001B[49m\n",
      "File \u001B[1;32m~\\AppData\\Local\\Programs\\Python\\Python311\\Lib\\site-packages\\matplotlib\\axes\\_base.py:499\u001B[0m, in \u001B[0;36m_process_plot_var_args._plot_args\u001B[1;34m(self, axes, tup, kwargs, return_kwargs, ambiguous_fmt_datakey)\u001B[0m\n\u001B[0;32m    496\u001B[0m     axes\u001B[38;5;241m.\u001B[39myaxis\u001B[38;5;241m.\u001B[39mupdate_units(y)\n\u001B[0;32m    498\u001B[0m \u001B[38;5;28;01mif\u001B[39;00m x\u001B[38;5;241m.\u001B[39mshape[\u001B[38;5;241m0\u001B[39m] \u001B[38;5;241m!=\u001B[39m y\u001B[38;5;241m.\u001B[39mshape[\u001B[38;5;241m0\u001B[39m]:\n\u001B[1;32m--> 499\u001B[0m     \u001B[38;5;28;01mraise\u001B[39;00m \u001B[38;5;167;01mValueError\u001B[39;00m(\u001B[38;5;124mf\u001B[39m\u001B[38;5;124m\"\u001B[39m\u001B[38;5;124mx and y must have same first dimension, but \u001B[39m\u001B[38;5;124m\"\u001B[39m\n\u001B[0;32m    500\u001B[0m                      \u001B[38;5;124mf\u001B[39m\u001B[38;5;124m\"\u001B[39m\u001B[38;5;124mhave shapes \u001B[39m\u001B[38;5;132;01m{\u001B[39;00mx\u001B[38;5;241m.\u001B[39mshape\u001B[38;5;132;01m}\u001B[39;00m\u001B[38;5;124m and \u001B[39m\u001B[38;5;132;01m{\u001B[39;00my\u001B[38;5;241m.\u001B[39mshape\u001B[38;5;132;01m}\u001B[39;00m\u001B[38;5;124m\"\u001B[39m)\n\u001B[0;32m    501\u001B[0m \u001B[38;5;28;01mif\u001B[39;00m x\u001B[38;5;241m.\u001B[39mndim \u001B[38;5;241m>\u001B[39m \u001B[38;5;241m2\u001B[39m \u001B[38;5;129;01mor\u001B[39;00m y\u001B[38;5;241m.\u001B[39mndim \u001B[38;5;241m>\u001B[39m \u001B[38;5;241m2\u001B[39m:\n\u001B[0;32m    502\u001B[0m     \u001B[38;5;28;01mraise\u001B[39;00m \u001B[38;5;167;01mValueError\u001B[39;00m(\u001B[38;5;124mf\u001B[39m\u001B[38;5;124m\"\u001B[39m\u001B[38;5;124mx and y can be no greater than 2D, but have \u001B[39m\u001B[38;5;124m\"\u001B[39m\n\u001B[0;32m    503\u001B[0m                      \u001B[38;5;124mf\u001B[39m\u001B[38;5;124m\"\u001B[39m\u001B[38;5;124mshapes \u001B[39m\u001B[38;5;132;01m{\u001B[39;00mx\u001B[38;5;241m.\u001B[39mshape\u001B[38;5;132;01m}\u001B[39;00m\u001B[38;5;124m and \u001B[39m\u001B[38;5;132;01m{\u001B[39;00my\u001B[38;5;241m.\u001B[39mshape\u001B[38;5;132;01m}\u001B[39;00m\u001B[38;5;124m\"\u001B[39m)\n",
      "\u001B[1;31mValueError\u001B[0m: x and y must have same first dimension, but have shapes (14,) and (56,)"
     ]
    },
    {
     "data": {
      "text/plain": "<Figure size 900x300 with 1 Axes>",
      "image/png": "[encoded data removed]"
     },
     "metadata": {},
     "output_type": "display_data"
    }
   ],
   "source": [
    "fig=plt.figure(figsize=(9,3))\n",
    "ax = fig.add_subplot(111)\n",
    "plt.plot(C_values, mean_train, label=\"train\")\n",
    "plt.plot(C_values, mean_val, label=\"validation\")\n",
    "plt.title(\"Logistic Regression\")\n",
    "plt.ylabel(\"mean accuracy\")\n",
    "plt.xlabel(\"C\")\n",
    "plt.xticks(C_values)\n",
    "plt.legend();"
   ],
   "metadata": {
    "collapsed": false,
    "ExecuteTime": {
     "end_time": "2024-01-30T08:12:41.940433Z",
     "start_time": "2024-01-30T08:12:41.750397900Z"
    }
   }
  },
  {
   "cell_type": "markdown",
   "source": [
    "### Distribution of song genres\n",
    "There are too many classes (86) and not enough examples. Most classes have only 1 or 2 examples, while three classes have over 60 examples each. "
   ],
   "metadata": {
    "collapsed": false
   }
  },
  {
   "cell_type": "code",
   "execution_count": null,
   "outputs": [],
   "source": [
    "y_all = train_set[\"top genre\"]\n",
    "value_counts=y_all.value_counts()\n",
    "print(\"number of class names:\", len(value_counts)) "
   ],
   "metadata": {
    "collapsed": false,
    "ExecuteTime": {
     "start_time": "2024-01-30T06:43:08.618145700Z"
    }
   }
  },
  {
   "cell_type": "code",
   "execution_count": null,
   "outputs": [],
   "source": [
    "if verbose:\n",
    "    x=[x for x in range(1,87)]\n",
    "    # full training set is very unbalanced, \n",
    "    # most genres have only 1 or 2 examples\n",
    "    plt.figure(figsize=(20,3)) \n",
    "    value_counts.hist(bins=86); \n",
    "    plt.bar(x, value_counts.values);\n",
    "    #plt.xticks(rotation=90);\n",
    "    plt.xlabel('classes')\n",
    "    plt.ylabel('count');\n",
    "    plt.title('top genre')"
   ],
   "metadata": {
    "collapsed": false,
    "ExecuteTime": {
     "start_time": "2024-01-30T06:43:08.619142500Z"
    }
   }
  },
  {
   "cell_type": "code",
   "execution_count": null,
   "outputs": [],
   "source": [
    "value_counts "
   ],
   "metadata": {
    "collapsed": false,
    "ExecuteTime": {
     "end_time": "2024-01-30T06:43:08.637093700Z",
     "start_time": "2024-01-30T06:43:08.621137300Z"
    }
   }
  },
  {
   "cell_type": "code",
   "execution_count": null,
   "outputs": [],
   "source": [
    "if verbose:\n",
    "  # Plot linear correlation matrix\n",
    "  cm=train_set.iloc[:,3:14].corr()   # make sure indices are right!\n",
    "  #cm[cm<0.45]=0\n",
    "\n",
    "  fig, ax = plt.subplots(figsize=(9,3))\n",
    "  sns.heatmap(cm, annot=True, cmap='YlGnBu', vmin=-1,\n",
    "  vmax=1, center=0, ax=ax)\n",
    "  plt.title('Correlation Heatmap')\n",
    "  plt.show()"
   ],
   "metadata": {
    "collapsed": false,
    "ExecuteTime": {
     "start_time": "2024-01-30T06:43:08.622134700Z"
    }
   }
  },
  {
   "cell_type": "markdown",
   "source": [
    "### VIF\n",
    "\n",
    "We calculated the variance inflation factor for each feature. The VIF is given by: **VIF = 1/(1-R^2)** where R^2 is the coefficient of determination. In general, if a feature that has a VIF value greater than 5 is considered to be highly collinear with other features in the data.  The output below shows that bpm and dnce are over 20!  We found that dropping dnce or bpm reduced classification accuracy. This was surprising and could be future work."
   ],
   "metadata": {
    "collapsed": false
   }
  },
  {
   "cell_type": "code",
   "execution_count": null,
   "outputs": [],
   "source": [
    "from statsmodels.stats.outliers_influence import variance_inflation_factor\n",
    "\n",
    "num_data=train_set.iloc[:,4:14].copy()   # if this fails, the indices are wrong\n",
    "VIF             = pd.DataFrame()\n",
    "VIF['feature']  = num_data.columns\n",
    "VIF['VIF']      = [variance_inflation_factor(num_data.values, i) for i in range(num_data.shape[1])]\n",
    "VIF"
   ],
   "metadata": {
    "collapsed": false,
    "ExecuteTime": {
     "start_time": "2024-01-30T06:43:08.624128900Z"
    }
   }
  },
  {
   "cell_type": "markdown",
   "source": [
    "### Boxplots show outliers\n",
    "The more obvious outliers (> 3 std deviations) will be  removed in some cells below."
   ],
   "metadata": {
    "collapsed": false
   }
  },
  {
   "cell_type": "markdown",
   "source": [
    "# 6. Saving the final prediction"
   ],
   "metadata": {
    "collapsed": false
   }
  },
  {
   "cell_type": "code",
   "execution_count": null,
   "metadata": {
    "execution": {
     "iopub.execute_input": "2023-02-18T21:57:21.096589Z",
     "iopub.status.busy": "2023-02-18T21:57:21.092602Z",
     "iopub.status.idle": "2023-02-18T21:57:21.110110Z",
     "shell.execute_reply": "2023-02-18T21:57:21.108512Z",
     "shell.execute_reply.started": "2023-02-18T21:57:21.096509Z"
    },
    "id": "ImQTHt1fHZda",
    "ExecuteTime": {
     "start_time": "2024-01-30T06:43:08.625126700Z"
    }
   },
   "outputs": [],
   "source": [
    "# save Kaggle predictions to csv file \n",
    "#\n",
    "def save_y_pred(X_TEST_Id, y_pred_test, file_name):\n",
    "  with open(file_name, 'w') as f:\n",
    "    f.write(\"Id,\" + \"top genre\\n\")\n",
    "    for ii in range(113):\n",
    "      f.write(str(X_TEST_Id[ii]) + \",\")\n",
    "      f.write(y_pred_test[ii]+\"\\n\")\n",
    "      #print(y_pred_test[ii])\n",
    "\n",
    "TEST_Id= test_df.iloc[:,:1].values\n",
    "TEST_Id=TEST_Id.flatten()\n",
    "TEST_Id=list(TEST_Id)\n",
    "y_test_pred=list(y_test_pred)\n",
    "save_y_pred(TEST_Id, y_test_pred, file_name)"
   ]
  },
  {
   "cell_type": "code",
   "execution_count": null,
   "metadata": {
    "execution": {
     "iopub.execute_input": "2023-02-18T21:57:21.259269Z",
     "iopub.status.busy": "2023-02-18T21:57:21.255326Z",
     "iopub.status.idle": "2023-02-18T21:57:21.273041Z",
     "shell.execute_reply": "2023-02-18T21:57:21.271198Z",
     "shell.execute_reply.started": "2023-02-18T21:57:21.259199Z"
    },
    "id": "5mllU7UfHekt",
    "ExecuteTime": {
     "start_time": "2024-01-30T06:43:08.627121600Z"
    }
   },
   "outputs": [],
   "source": []
  }
 ],
 "metadata": {
  "colab": {
   "provenance": []
  },
  "kernelspec": {
   "display_name": "Python 3 (ipykernel)",
   "language": "python",
   "name": "python3"
  },
  "language_info": {
   "codemirror_mode": {
    "name": "ipython",
    "version": 3
   },
   "file_extension": ".py",
   "mimetype": "text/x-python",
   "name": "python",
   "nbconvert_exporter": "python",
   "pygments_lexer": "ipython3",
   "version": "3.9.12"
  },
  "gpuClass": "standard",
  "accelerator": "GPU"
 },
 "nbformat": 4,
 "nbformat_minor": 0
}
