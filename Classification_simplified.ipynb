{
  "cells": [
    {
      "cell_type": "markdown",
      "metadata": {
        "id": "view-in-github",
        "colab_type": "text"
      },
      "source": [
        "<a href=\"https://colab.research.google.com/github/trduc97/CS985/blob/main/Classification_simplified.ipynb\" target=\"_parent\"><img src=\"https://colab.research.google.com/assets/colab-badge.svg\" alt=\"Open In Colab\"/></a>"
      ]
    },
    {
      "cell_type": "markdown",
      "source": [
        "# 1. Import libraries and datafiles"
      ],
      "metadata": {
        "collapsed": false,
        "id": "d876c82bdb0e0b16"
      },
      "id": "d876c82bdb0e0b16"
    },
    {
      "cell_type": "code",
      "execution_count": null,
      "outputs": [
        {
          "output_type": "stream",
          "name": "stdout",
          "text": [
            "Drive already mounted at /content/gdrive; to attempt to forcibly remount, call drive.mount(\"/content/gdrive\", force_remount=True).\n"
          ]
        }
      ],
      "source": [
        "from google.colab import drive\n",
        "drive.mount('/content/gdrive')"
      ],
      "metadata": {
        "colab": {
          "base_uri": "https://localhost:8080/"
        },
        "id": "2a9be3e79a1c186d",
        "outputId": "b29136b9-d33c-4ff0-9993-9a7059e52aac"
      },
      "id": "2a9be3e79a1c186d"
    },
    {
      "cell_type": "code",
      "source": [
        "path = '/content/gdrive/MyDrive/Strathclyde/CS985_ML_for_Data_analysis/'\n",
        "import os\n",
        "\n",
        "# List files in the directory\n",
        "os.chdir(path)\n",
        "files = os.listdir(path)\n",
        "print(files)"
      ],
      "metadata": {
        "colab": {
          "base_uri": "https://localhost:8080/"
        },
        "id": "-_N6eDjzaA0r",
        "outputId": "c9db8a45-d76d-4561-bf16-911e82368505"
      },
      "id": "-_N6eDjzaA0r",
      "execution_count": null,
      "outputs": [
        {
          "output_type": "stream",
          "name": "stdout",
          "text": [
            "['CS98XClassificationTrain.csv', 'CS98XClassificationTest.csv', 'CS98XRegressionTest.csv', 'CS98XRegressionTrain.csv', 'y_true.csv', 'Classification_simplified.ipynb']\n"
          ]
        }
      ]
    },
    {
      "cell_type": "markdown",
      "source": [
        "## 1.1. Importing"
      ],
      "metadata": {
        "collapsed": false,
        "id": "568ff7eb83a46cb4"
      },
      "id": "568ff7eb83a46cb4"
    },
    {
      "cell_type": "code",
      "execution_count": null,
      "id": "initial_id",
      "metadata": {
        "collapsed": true,
        "ExecuteTime": {
          "end_time": "2024-02-02T13:53:42.553642Z",
          "start_time": "2024-02-02T13:53:41.806553700Z"
        },
        "id": "initial_id"
      },
      "outputs": [],
      "source": [
        "import pandas as pd\n",
        "import numpy as np\n",
        "from sklearn.preprocessing import RobustScaler, StandardScaler\n",
        "# plotting\n",
        "%matplotlib inline\n",
        "import matplotlib.pyplot as plt\n",
        "import seaborn as sns"
      ]
    },
    {
      "cell_type": "code",
      "execution_count": null,
      "outputs": [
        {
          "output_type": "display_data",
          "data": {
            "application/javascript": [
              "IPython.notebook.set_autosave_interval(60000)"
            ]
          },
          "metadata": {}
        },
        {
          "output_type": "stream",
          "name": "stdout",
          "text": [
            "Autosaving every 60 seconds\n"
          ]
        }
      ],
      "source": [
        "# default is 120 seconds\n",
        "%autosave 60"
      ],
      "metadata": {
        "ExecuteTime": {
          "end_time": "2024-02-02T13:53:42.553642Z",
          "start_time": "2024-02-02T13:53:42.084990100Z"
        },
        "colab": {
          "base_uri": "https://localhost:8080/",
          "height": 34
        },
        "id": "ad5dabbe1aec7176",
        "outputId": "e33b90a6-092b-449d-8f29-244f91a34cac"
      },
      "id": "ad5dabbe1aec7176"
    },
    {
      "cell_type": "code",
      "source": [
        "import os\n",
        "\n",
        "file_path = os.path.join(path, 'CS98XClassificationTrain.csv')\n",
        "print(os.path.exists(file_path))\n"
      ],
      "metadata": {
        "colab": {
          "base_uri": "https://localhost:8080/"
        },
        "id": "7tWsbzN8axgd",
        "outputId": "c958e1ee-2a93-4fd3-af38-5d08869deda0"
      },
      "id": "7tWsbzN8axgd",
      "execution_count": null,
      "outputs": [
        {
          "output_type": "stream",
          "name": "stdout",
          "text": [
            "True\n"
          ]
        }
      ]
    },
    {
      "cell_type": "code",
      "execution_count": null,
      "outputs": [],
      "source": [
        "train_set=pd.read_csv(\"CS98XClassificationTrain.csv\")\n",
        "test_set=pd.read_csv(\"CS98XClassificationTest.csv\")"
      ],
      "metadata": {
        "ExecuteTime": {
          "end_time": "2024-02-02T13:53:42.553642Z",
          "start_time": "2024-02-02T13:53:42.090992600Z"
        },
        "id": "4203a1ffdf3268e1"
      },
      "id": "4203a1ffdf3268e1"
    },
    {
      "cell_type": "code",
      "source": [
        "# update the genres for the missing values\n",
        "train_set.loc[train_set['title'] == 'Unchained Melody', 'top genre'] = 'pop'\n",
        "train_set.loc[train_set['title'] == 'Someone Elses Roses', 'top genre'] = 'adult standards'\n",
        "train_set.loc[train_set['title'] == 'Drinks On The House', 'top genre'] = 'pop'\n",
        "train_set.loc[train_set['title'] == 'Pachuko Hop', 'top genre'] = 'blues'\n",
        "train_set.loc[train_set['title'] == 'Little Things Means A Lot', 'top genre'] = 'blues'\n",
        "train_set.loc[train_set['title'] == 'The Lady Is A Tramp', 'top genre'] = 'pop'\n",
        "train_set.loc[train_set['title'] == 'If I Give My Heart To You', 'top genre'] = 'pop'\n",
        "train_set.loc[train_set['title'] == 'Happy Days And Lonely Nights','top genre'] = 'rock'\n",
        "train_set.loc[train_set['title'] == 'Stairway Of Love','top genre'] = 'rock'\n",
        "train_set.loc[train_set['title'] == 'You', 'top genre'] = 'pop'\n",
        "train_set.loc[train_set['title'] == 'No Other Love' , 'top genre'] = 'adult standards'\n",
        "train_set.loc[train_set['title'] == \"Hot Diggity\" , 'top genre'] = 'folk'\n",
        "train_set.loc[train_set['title'] == \"Ain't That Just the Way\" , 'top genre'] = 'r&b'\n",
        "train_set.loc[train_set['title'] == \"I Promised Myself\" , 'top genre'] = 'pop'\n",
        "# dropping NULL values  (I've Waited So Long Anthony Newley = ? (Dance/ Electronic))\n",
        "train_set = train_set.dropna(axis=0)\n",
        "# check again for null values\n",
        "train_set.info()"
      ],
      "metadata": {
        "colab": {
          "base_uri": "https://localhost:8080/"
        },
        "id": "DoxneKXUc5_5",
        "outputId": "7e4d4294-bb1c-4f1f-feae-91cf1ef3b6e8"
      },
      "id": "DoxneKXUc5_5",
      "execution_count": null,
      "outputs": [
        {
          "output_type": "stream",
          "name": "stdout",
          "text": [
            "<class 'pandas.core.frame.DataFrame'>\n",
            "Int64Index: 452 entries, 0 to 452\n",
            "Data columns (total 15 columns):\n",
            " #   Column     Non-Null Count  Dtype \n",
            "---  ------     --------------  ----- \n",
            " 0   Id         452 non-null    int64 \n",
            " 1   title      452 non-null    object\n",
            " 2   artist     452 non-null    object\n",
            " 3   year       452 non-null    int64 \n",
            " 4   bpm        452 non-null    int64 \n",
            " 5   nrgy       452 non-null    int64 \n",
            " 6   dnce       452 non-null    int64 \n",
            " 7   dB         452 non-null    int64 \n",
            " 8   live       452 non-null    int64 \n",
            " 9   val        452 non-null    int64 \n",
            " 10  dur        452 non-null    int64 \n",
            " 11  acous      452 non-null    int64 \n",
            " 12  spch       452 non-null    int64 \n",
            " 13  pop        452 non-null    int64 \n",
            " 14  top genre  452 non-null    object\n",
            "dtypes: int64(12), object(3)\n",
            "memory usage: 56.5+ KB\n"
          ]
        }
      ]
    },
    {
      "cell_type": "code",
      "execution_count": null,
      "outputs": [
        {
          "output_type": "execute_result",
          "data": {
            "text/plain": [
              "   Id                                        title            artist  year  \\\n",
              "0   1                                 My Happiness    Connie Francis  1996   \n",
              "1   2                             Unchained Melody   The Teddy Bears  2011   \n",
              "2   3                        How Deep Is Your Love          Bee Gees  1979   \n",
              "3   4                                Woman in Love  Barbra Streisand  1980   \n",
              "4   5  Goodbye Yellow Brick Road - Remastered 2014        Elton John  1973   \n",
              "\n",
              "   bpm  nrgy  dnce  dB  live  val  dur  acous  spch  pop        top_genre  \n",
              "0  107    31    45  -8    13   28  150     75     3   44  adult standards  \n",
              "1  114    44    53  -8    13   47  139     49     3   37              pop  \n",
              "2  105    36    63  -9    13   67  245     11     3   77  adult standards  \n",
              "3  170    28    47 -16    13   33  232     25     3   67  adult standards  \n",
              "4  121    47    56  -8    15   40  193     45     3   63        glam rock  "
            ],
            "text/html": [
              "\n",
              "  <div id=\"df-58dc01cc-acb6-4959-8516-d42d519536b0\" class=\"colab-df-container\">\n",
              "    <div>\n",
              "<style scoped>\n",
              "    .dataframe tbody tr th:only-of-type {\n",
              "        vertical-align: middle;\n",
              "    }\n",
              "\n",
              "    .dataframe tbody tr th {\n",
              "        vertical-align: top;\n",
              "    }\n",
              "\n",
              "    .dataframe thead th {\n",
              "        text-align: right;\n",
              "    }\n",
              "</style>\n",
              "<table border=\"1\" class=\"dataframe\">\n",
              "  <thead>\n",
              "    <tr style=\"text-align: right;\">\n",
              "      <th></th>\n",
              "      <th>Id</th>\n",
              "      <th>title</th>\n",
              "      <th>artist</th>\n",
              "      <th>year</th>\n",
              "      <th>bpm</th>\n",
              "      <th>nrgy</th>\n",
              "      <th>dnce</th>\n",
              "      <th>dB</th>\n",
              "      <th>live</th>\n",
              "      <th>val</th>\n",
              "      <th>dur</th>\n",
              "      <th>acous</th>\n",
              "      <th>spch</th>\n",
              "      <th>pop</th>\n",
              "      <th>top_genre</th>\n",
              "    </tr>\n",
              "  </thead>\n",
              "  <tbody>\n",
              "    <tr>\n",
              "      <th>0</th>\n",
              "      <td>1</td>\n",
              "      <td>My Happiness</td>\n",
              "      <td>Connie Francis</td>\n",
              "      <td>1996</td>\n",
              "      <td>107</td>\n",
              "      <td>31</td>\n",
              "      <td>45</td>\n",
              "      <td>-8</td>\n",
              "      <td>13</td>\n",
              "      <td>28</td>\n",
              "      <td>150</td>\n",
              "      <td>75</td>\n",
              "      <td>3</td>\n",
              "      <td>44</td>\n",
              "      <td>adult standards</td>\n",
              "    </tr>\n",
              "    <tr>\n",
              "      <th>1</th>\n",
              "      <td>2</td>\n",
              "      <td>Unchained Melody</td>\n",
              "      <td>The Teddy Bears</td>\n",
              "      <td>2011</td>\n",
              "      <td>114</td>\n",
              "      <td>44</td>\n",
              "      <td>53</td>\n",
              "      <td>-8</td>\n",
              "      <td>13</td>\n",
              "      <td>47</td>\n",
              "      <td>139</td>\n",
              "      <td>49</td>\n",
              "      <td>3</td>\n",
              "      <td>37</td>\n",
              "      <td>pop</td>\n",
              "    </tr>\n",
              "    <tr>\n",
              "      <th>2</th>\n",
              "      <td>3</td>\n",
              "      <td>How Deep Is Your Love</td>\n",
              "      <td>Bee Gees</td>\n",
              "      <td>1979</td>\n",
              "      <td>105</td>\n",
              "      <td>36</td>\n",
              "      <td>63</td>\n",
              "      <td>-9</td>\n",
              "      <td>13</td>\n",
              "      <td>67</td>\n",
              "      <td>245</td>\n",
              "      <td>11</td>\n",
              "      <td>3</td>\n",
              "      <td>77</td>\n",
              "      <td>adult standards</td>\n",
              "    </tr>\n",
              "    <tr>\n",
              "      <th>3</th>\n",
              "      <td>4</td>\n",
              "      <td>Woman in Love</td>\n",
              "      <td>Barbra Streisand</td>\n",
              "      <td>1980</td>\n",
              "      <td>170</td>\n",
              "      <td>28</td>\n",
              "      <td>47</td>\n",
              "      <td>-16</td>\n",
              "      <td>13</td>\n",
              "      <td>33</td>\n",
              "      <td>232</td>\n",
              "      <td>25</td>\n",
              "      <td>3</td>\n",
              "      <td>67</td>\n",
              "      <td>adult standards</td>\n",
              "    </tr>\n",
              "    <tr>\n",
              "      <th>4</th>\n",
              "      <td>5</td>\n",
              "      <td>Goodbye Yellow Brick Road - Remastered 2014</td>\n",
              "      <td>Elton John</td>\n",
              "      <td>1973</td>\n",
              "      <td>121</td>\n",
              "      <td>47</td>\n",
              "      <td>56</td>\n",
              "      <td>-8</td>\n",
              "      <td>15</td>\n",
              "      <td>40</td>\n",
              "      <td>193</td>\n",
              "      <td>45</td>\n",
              "      <td>3</td>\n",
              "      <td>63</td>\n",
              "      <td>glam rock</td>\n",
              "    </tr>\n",
              "  </tbody>\n",
              "</table>\n",
              "</div>\n",
              "    <div class=\"colab-df-buttons\">\n",
              "\n",
              "  <div class=\"colab-df-container\">\n",
              "    <button class=\"colab-df-convert\" onclick=\"convertToInteractive('df-58dc01cc-acb6-4959-8516-d42d519536b0')\"\n",
              "            title=\"Convert this dataframe to an interactive table.\"\n",
              "            style=\"display:none;\">\n",
              "\n",
              "  <svg xmlns=\"http://www.w3.org/2000/svg\" height=\"24px\" viewBox=\"0 -960 960 960\">\n",
              "    <path d=\"M120-120v-720h720v720H120Zm60-500h600v-160H180v160Zm220 220h160v-160H400v160Zm0 220h160v-160H400v160ZM180-400h160v-160H180v160Zm440 0h160v-160H620v160ZM180-180h160v-160H180v160Zm440 0h160v-160H620v160Z\"/>\n",
              "  </svg>\n",
              "    </button>\n",
              "\n",
              "  <style>\n",
              "    .colab-df-container {\n",
              "      display:flex;\n",
              "      gap: 12px;\n",
              "    }\n",
              "\n",
              "    .colab-df-convert {\n",
              "      background-color: #E8F0FE;\n",
              "      border: none;\n",
              "      border-radius: 50%;\n",
              "      cursor: pointer;\n",
              "      display: none;\n",
              "      fill: #1967D2;\n",
              "      height: 32px;\n",
              "      padding: 0 0 0 0;\n",
              "      width: 32px;\n",
              "    }\n",
              "\n",
              "    .colab-df-convert:hover {\n",
              "      background-color: #E2EBFA;\n",
              "      box-shadow: 0px 1px 2px rgba(60, 64, 67, 0.3), 0px 1px 3px 1px rgba(60, 64, 67, 0.15);\n",
              "      fill: #174EA6;\n",
              "    }\n",
              "\n",
              "    .colab-df-buttons div {\n",
              "      margin-bottom: 4px;\n",
              "    }\n",
              "\n",
              "    [theme=dark] .colab-df-convert {\n",
              "      background-color: #3B4455;\n",
              "      fill: #D2E3FC;\n",
              "    }\n",
              "\n",
              "    [theme=dark] .colab-df-convert:hover {\n",
              "      background-color: #434B5C;\n",
              "      box-shadow: 0px 1px 3px 1px rgba(0, 0, 0, 0.15);\n",
              "      filter: drop-shadow(0px 1px 2px rgba(0, 0, 0, 0.3));\n",
              "      fill: #FFFFFF;\n",
              "    }\n",
              "  </style>\n",
              "\n",
              "    <script>\n",
              "      const buttonEl =\n",
              "        document.querySelector('#df-58dc01cc-acb6-4959-8516-d42d519536b0 button.colab-df-convert');\n",
              "      buttonEl.style.display =\n",
              "        google.colab.kernel.accessAllowed ? 'block' : 'none';\n",
              "\n",
              "      async function convertToInteractive(key) {\n",
              "        const element = document.querySelector('#df-58dc01cc-acb6-4959-8516-d42d519536b0');\n",
              "        const dataTable =\n",
              "          await google.colab.kernel.invokeFunction('convertToInteractive',\n",
              "                                                    [key], {});\n",
              "        if (!dataTable) return;\n",
              "\n",
              "        const docLinkHtml = 'Like what you see? Visit the ' +\n",
              "          '<a target=\"_blank\" href=https://colab.research.google.com/notebooks/data_table.ipynb>data table notebook</a>'\n",
              "          + ' to learn more about interactive tables.';\n",
              "        element.innerHTML = '';\n",
              "        dataTable['output_type'] = 'display_data';\n",
              "        await google.colab.output.renderOutput(dataTable, element);\n",
              "        const docLink = document.createElement('div');\n",
              "        docLink.innerHTML = docLinkHtml;\n",
              "        element.appendChild(docLink);\n",
              "      }\n",
              "    </script>\n",
              "  </div>\n",
              "\n",
              "\n",
              "<div id=\"df-2c57a5da-b5bf-4124-a5ff-c883acc36906\">\n",
              "  <button class=\"colab-df-quickchart\" onclick=\"quickchart('df-2c57a5da-b5bf-4124-a5ff-c883acc36906')\"\n",
              "            title=\"Suggest charts\"\n",
              "            style=\"display:none;\">\n",
              "\n",
              "<svg xmlns=\"http://www.w3.org/2000/svg\" height=\"24px\"viewBox=\"0 0 24 24\"\n",
              "     width=\"24px\">\n",
              "    <g>\n",
              "        <path d=\"M19 3H5c-1.1 0-2 .9-2 2v14c0 1.1.9 2 2 2h14c1.1 0 2-.9 2-2V5c0-1.1-.9-2-2-2zM9 17H7v-7h2v7zm4 0h-2V7h2v10zm4 0h-2v-4h2v4z\"/>\n",
              "    </g>\n",
              "</svg>\n",
              "  </button>\n",
              "\n",
              "<style>\n",
              "  .colab-df-quickchart {\n",
              "      --bg-color: #E8F0FE;\n",
              "      --fill-color: #1967D2;\n",
              "      --hover-bg-color: #E2EBFA;\n",
              "      --hover-fill-color: #174EA6;\n",
              "      --disabled-fill-color: #AAA;\n",
              "      --disabled-bg-color: #DDD;\n",
              "  }\n",
              "\n",
              "  [theme=dark] .colab-df-quickchart {\n",
              "      --bg-color: #3B4455;\n",
              "      --fill-color: #D2E3FC;\n",
              "      --hover-bg-color: #434B5C;\n",
              "      --hover-fill-color: #FFFFFF;\n",
              "      --disabled-bg-color: #3B4455;\n",
              "      --disabled-fill-color: #666;\n",
              "  }\n",
              "\n",
              "  .colab-df-quickchart {\n",
              "    background-color: var(--bg-color);\n",
              "    border: none;\n",
              "    border-radius: 50%;\n",
              "    cursor: pointer;\n",
              "    display: none;\n",
              "    fill: var(--fill-color);\n",
              "    height: 32px;\n",
              "    padding: 0;\n",
              "    width: 32px;\n",
              "  }\n",
              "\n",
              "  .colab-df-quickchart:hover {\n",
              "    background-color: var(--hover-bg-color);\n",
              "    box-shadow: 0 1px 2px rgba(60, 64, 67, 0.3), 0 1px 3px 1px rgba(60, 64, 67, 0.15);\n",
              "    fill: var(--button-hover-fill-color);\n",
              "  }\n",
              "\n",
              "  .colab-df-quickchart-complete:disabled,\n",
              "  .colab-df-quickchart-complete:disabled:hover {\n",
              "    background-color: var(--disabled-bg-color);\n",
              "    fill: var(--disabled-fill-color);\n",
              "    box-shadow: none;\n",
              "  }\n",
              "\n",
              "  .colab-df-spinner {\n",
              "    border: 2px solid var(--fill-color);\n",
              "    border-color: transparent;\n",
              "    border-bottom-color: var(--fill-color);\n",
              "    animation:\n",
              "      spin 1s steps(1) infinite;\n",
              "  }\n",
              "\n",
              "  @keyframes spin {\n",
              "    0% {\n",
              "      border-color: transparent;\n",
              "      border-bottom-color: var(--fill-color);\n",
              "      border-left-color: var(--fill-color);\n",
              "    }\n",
              "    20% {\n",
              "      border-color: transparent;\n",
              "      border-left-color: var(--fill-color);\n",
              "      border-top-color: var(--fill-color);\n",
              "    }\n",
              "    30% {\n",
              "      border-color: transparent;\n",
              "      border-left-color: var(--fill-color);\n",
              "      border-top-color: var(--fill-color);\n",
              "      border-right-color: var(--fill-color);\n",
              "    }\n",
              "    40% {\n",
              "      border-color: transparent;\n",
              "      border-right-color: var(--fill-color);\n",
              "      border-top-color: var(--fill-color);\n",
              "    }\n",
              "    60% {\n",
              "      border-color: transparent;\n",
              "      border-right-color: var(--fill-color);\n",
              "    }\n",
              "    80% {\n",
              "      border-color: transparent;\n",
              "      border-right-color: var(--fill-color);\n",
              "      border-bottom-color: var(--fill-color);\n",
              "    }\n",
              "    90% {\n",
              "      border-color: transparent;\n",
              "      border-bottom-color: var(--fill-color);\n",
              "    }\n",
              "  }\n",
              "</style>\n",
              "\n",
              "  <script>\n",
              "    async function quickchart(key) {\n",
              "      const quickchartButtonEl =\n",
              "        document.querySelector('#' + key + ' button');\n",
              "      quickchartButtonEl.disabled = true;  // To prevent multiple clicks.\n",
              "      quickchartButtonEl.classList.add('colab-df-spinner');\n",
              "      try {\n",
              "        const charts = await google.colab.kernel.invokeFunction(\n",
              "            'suggestCharts', [key], {});\n",
              "      } catch (error) {\n",
              "        console.error('Error during call to suggestCharts:', error);\n",
              "      }\n",
              "      quickchartButtonEl.classList.remove('colab-df-spinner');\n",
              "      quickchartButtonEl.classList.add('colab-df-quickchart-complete');\n",
              "    }\n",
              "    (() => {\n",
              "      let quickchartButtonEl =\n",
              "        document.querySelector('#df-2c57a5da-b5bf-4124-a5ff-c883acc36906 button');\n",
              "      quickchartButtonEl.style.display =\n",
              "        google.colab.kernel.accessAllowed ? 'block' : 'none';\n",
              "    })();\n",
              "  </script>\n",
              "</div>\n",
              "    </div>\n",
              "  </div>\n"
            ]
          },
          "metadata": {},
          "execution_count": 8
        }
      ],
      "source": [
        "train_set.rename(columns={'top genre': 'top_genre'}, inplace=True)\n",
        "train_set.head()"
      ],
      "metadata": {
        "ExecuteTime": {
          "end_time": "2024-02-02T13:53:42.553642Z",
          "start_time": "2024-02-02T13:53:42.158427Z"
        },
        "colab": {
          "base_uri": "https://localhost:8080/",
          "height": 206
        },
        "id": "80e70b90baadd0e6",
        "outputId": "82414ed0-837c-45a7-b184-f3f9ac5c9083"
      },
      "id": "80e70b90baadd0e6"
    },
    {
      "cell_type": "code",
      "source": [
        "train_set['top_genre'].value_counts()[0:10]"
      ],
      "metadata": {
        "colab": {
          "base_uri": "https://localhost:8080/"
        },
        "id": "9jcMTENOme0l",
        "outputId": "b68454ec-98fb-4f7c-9ad0-26556cb436ec"
      },
      "id": "9jcMTENOme0l",
      "execution_count": null,
      "outputs": [
        {
          "output_type": "execute_result",
          "data": {
            "text/plain": [
              "adult standards       70\n",
              "album rock            66\n",
              "dance pop             61\n",
              "glam rock             16\n",
              "brill building pop    16\n",
              "europop               14\n",
              "dance rock            13\n",
              "pop                   11\n",
              "boy band              10\n",
              "british invasion       8\n",
              "Name: top_genre, dtype: int64"
            ]
          },
          "metadata": {},
          "execution_count": 9
        }
      ]
    },
    {
      "cell_type": "markdown",
      "source": [
        "## 1.2. Dropping unnecessary columns"
      ],
      "metadata": {
        "collapsed": false,
        "id": "ae763fb4530b7401"
      },
      "id": "ae763fb4530b7401"
    },
    {
      "cell_type": "code",
      "execution_count": null,
      "outputs": [],
      "source": [
        "train_set = train_set.drop(columns=['Id','title', 'artist'])\n",
        "test_set = test_set.drop(columns=['Id','title', 'artist'])"
      ],
      "metadata": {
        "ExecuteTime": {
          "end_time": "2024-02-02T13:53:42.553642Z",
          "start_time": "2024-02-02T13:53:42.118171700Z"
        },
        "id": "66306c4229813a91"
      },
      "id": "66306c4229813a91"
    },
    {
      "cell_type": "code",
      "execution_count": null,
      "outputs": [],
      "source": [
        "#set to True for data visualization and verbose text output\n",
        "verbose=True"
      ],
      "metadata": {
        "ExecuteTime": {
          "end_time": "2024-02-02T13:53:42.553642Z",
          "start_time": "2024-02-02T13:53:42.126430900Z"
        },
        "id": "b0e66e7918ee617f"
      },
      "id": "b0e66e7918ee617f"
    },
    {
      "cell_type": "markdown",
      "source": [
        "# 2. Data cleaning and exploration"
      ],
      "metadata": {
        "collapsed": false,
        "id": "c5ad16b83436ece4"
      },
      "id": "c5ad16b83436ece4"
    },
    {
      "cell_type": "markdown",
      "source": [
        "## 2.1. Remove duplicate"
      ],
      "metadata": {
        "collapsed": false,
        "id": "937dcef330d74c6a"
      },
      "id": "937dcef330d74c6a"
    },
    {
      "cell_type": "code",
      "execution_count": null,
      "outputs": [
        {
          "output_type": "execute_result",
          "data": {
            "text/plain": [
              "451"
            ]
          },
          "metadata": {},
          "execution_count": 12
        }
      ],
      "source": [
        "train_set = train_set.drop_duplicates()\n",
        "len(train_set)"
      ],
      "metadata": {
        "ExecuteTime": {
          "start_time": "2024-02-02T13:53:42.133499800Z"
        },
        "colab": {
          "base_uri": "https://localhost:8080/"
        },
        "id": "10e03e492273340d",
        "outputId": "aa0218b5-313e-45d6-dc26-4a5077028bb9"
      },
      "id": "10e03e492273340d"
    },
    {
      "cell_type": "markdown",
      "source": [
        "## 2.2. Feature enginerring"
      ],
      "metadata": {
        "collapsed": false,
        "id": "3edfd15195517eaf"
      },
      "id": "3edfd15195517eaf"
    },
    {
      "cell_type": "code",
      "execution_count": null,
      "outputs": [],
      "source": [
        "# With the year range so long, ranging from 1948 to 2019, we can group the years into group of 5:\n",
        "\n",
        "def assign_group(year):\n",
        "    if 1948 <= year <= 1954:\n",
        "        return 1\n",
        "    else:\n",
        "        return ((year - 1954)//5)+2\n",
        "\n",
        "# Apply the calculation\n",
        "train_set['year'] = train_set['year'].apply(assign_group)\n",
        "test_set['year'] = test_set['year'].apply(assign_group)"
      ],
      "metadata": {
        "ExecuteTime": {
          "end_time": "2024-02-02T13:53:42.553642Z",
          "start_time": "2024-02-02T13:53:42.181727900Z"
        },
        "id": "e140ea67e2739c23"
      },
      "id": "e140ea67e2739c23"
    },
    {
      "cell_type": "markdown",
      "source": [
        "## 2.3. Outliers handling"
      ],
      "metadata": {
        "collapsed": false,
        "id": "d5294b7204dddb8e"
      },
      "id": "d5294b7204dddb8e"
    },
    {
      "cell_type": "code",
      "execution_count": null,
      "outputs": [
        {
          "output_type": "execute_result",
          "data": {
            "text/plain": [
              "\"\\nconvert_feat = ['live','acous','spch','dur']\\nfor feat in convert_feat:\\n    test_set[feat] = np.log(test_set[feat]+1)\\n\""
            ],
            "application/vnd.google.colaboratory.intrinsic+json": {
              "type": "string"
            }
          },
          "metadata": {},
          "execution_count": 14
        }
      ],
      "source": [
        "'''\n",
        "convert_feat = ['live','acous','spch','dur']\n",
        "for feat in convert_feat:\n",
        "    test_set[feat] = np.log(test_set[feat]+1)\n",
        "'''"
      ],
      "metadata": {
        "ExecuteTime": {
          "end_time": "2024-02-02T13:53:42.553642Z",
          "start_time": "2024-02-02T13:53:42.149284300Z"
        },
        "colab": {
          "base_uri": "https://localhost:8080/",
          "height": 36
        },
        "id": "e2cbb8945e73a11b",
        "outputId": "b656f783-a0b4-40f8-aefd-fe9c1233f253"
      },
      "id": "e2cbb8945e73a11b"
    },
    {
      "cell_type": "markdown",
      "source": [
        "## 2.4. Checking classes distribution"
      ],
      "metadata": {
        "id": "DZ-TioEqBJWu"
      },
      "id": "DZ-TioEqBJWu"
    },
    {
      "cell_type": "code",
      "source": [
        "value_counts=train_set[\"top_genre\"].value_counts().sort_values(ascending=False)\n",
        "value_counts[0:20]"
      ],
      "metadata": {
        "colab": {
          "base_uri": "https://localhost:8080/"
        },
        "id": "O4ecC1uFBIkd",
        "outputId": "0f9f359f-5901-4672-d90f-97e57aec00c4"
      },
      "id": "O4ecC1uFBIkd",
      "execution_count": null,
      "outputs": [
        {
          "output_type": "execute_result",
          "data": {
            "text/plain": [
              "adult standards         69\n",
              "album rock              66\n",
              "dance pop               61\n",
              "glam rock               16\n",
              "brill building pop      16\n",
              "europop                 14\n",
              "dance rock              13\n",
              "pop                     11\n",
              "boy band                10\n",
              "british invasion         8\n",
              "bubblegum dance          7\n",
              "art rock                 7\n",
              "disco                    7\n",
              "deep adult standards     6\n",
              "atl hip hop              6\n",
              "eurodance                6\n",
              "barbadian pop            6\n",
              "classic soul             5\n",
              "soft rock                5\n",
              "british soul             5\n",
              "Name: top_genre, dtype: int64"
            ]
          },
          "metadata": {},
          "execution_count": 15
        }
      ]
    },
    {
      "cell_type": "markdown",
      "source": [
        "# 3. Preparing dataset for ML training"
      ],
      "metadata": {
        "collapsed": false,
        "id": "6f5c6bfe8ec1c605"
      },
      "id": "6f5c6bfe8ec1c605"
    },
    {
      "cell_type": "markdown",
      "source": [
        "## 3.0. Splitting train and validation set"
      ],
      "metadata": {
        "id": "LASkIvXDZRth"
      },
      "id": "LASkIvXDZRth"
    },
    {
      "cell_type": "code",
      "source": [
        "# Splitting the data into features and target\n",
        "y_clean = train_set['top_genre']\n",
        "X_clean = train_set.drop(['top_genre'], axis=1)"
      ],
      "metadata": {
        "id": "N3CgSsfjbzUh"
      },
      "id": "N3CgSsfjbzUh",
      "execution_count": null,
      "outputs": []
    },
    {
      "cell_type": "code",
      "source": [
        "from sklearn.model_selection import train_test_split\n",
        "\n",
        "X_train, X_test, y_train, y_test = train_test_split(\n",
        "    X_clean, y_clean,\n",
        "    #stratify= y_clean,\n",
        "    random_state=42\n",
        ")"
      ],
      "metadata": {
        "id": "jLkJ3AL9ZOuk"
      },
      "id": "jLkJ3AL9ZOuk",
      "execution_count": null,
      "outputs": []
    },
    {
      "cell_type": "markdown",
      "source": [
        "## 3.1. Features scaling"
      ],
      "metadata": {
        "collapsed": false,
        "id": "d681975b78af35dc"
      },
      "id": "d681975b78af35dc"
    },
    {
      "cell_type": "code",
      "execution_count": null,
      "outputs": [],
      "source": [
        "from sklearn.preprocessing import PowerTransformer\n",
        "from scipy.stats import boxcox\n",
        "\n",
        "yeo_johnson_transformer = PowerTransformer(method='yeo-johnson')\n",
        "X_train['acous'] = yeo_johnson_transformer.fit_transform(X_train[['acous']])\n",
        "X_test['acous'] = yeo_johnson_transformer.transform(X_test[['acous']])\n",
        "for col in ['spch', 'live', 'dur']:\n",
        "    X_train[col], lambdas = boxcox(X_train[col]+1)\n",
        "    X_test[col] = boxcox(X_test[col] +1, lmbda=lambdas)"
      ],
      "metadata": {
        "id": "9a07519099bd26a5"
      },
      "id": "9a07519099bd26a5"
    },
    {
      "cell_type": "code",
      "execution_count": null,
      "outputs": [],
      "source": [
        "# Scale the dataset using robust scaler to mitigate the effect of outliers\n",
        "robust_scaler = StandardScaler()\n",
        "\n",
        "# Scaling the dataset while keeping the labels intact\n",
        "columns_name = X_train.columns\n",
        "\n",
        "# Scaling will return a ndarray so we will need to transform it back to a dataframe\n",
        "X_train_scaled = robust_scaler.fit_transform(X_train)\n",
        "X_train_scaled = pd.DataFrame(X_train_scaled, columns= columns_name)\n",
        "\n",
        "# Scaling the X_test\n",
        "X_test_scaled = robust_scaler.transform(X_test)\n",
        "X_test_scaled = pd.DataFrame(X_test_scaled, columns= columns_name)"
      ],
      "metadata": {
        "ExecuteTime": {
          "end_time": "2024-02-02T13:53:42.553642Z",
          "start_time": "2024-02-02T13:53:42.195943400Z"
        },
        "id": "f508c2e495e7565"
      },
      "id": "f508c2e495e7565"
    },
    {
      "cell_type": "markdown",
      "source": [
        "## 3.2. Label encoding"
      ],
      "metadata": {
        "collapsed": false,
        "id": "6081755465042902"
      },
      "id": "6081755465042902"
    },
    {
      "cell_type": "code",
      "execution_count": null,
      "outputs": [
        {
          "output_type": "execute_result",
          "data": {
            "text/plain": [
              "'\\nfrom sklearn.preprocessing import LabelEncoder\\n\\nlabel_encoder1 = LabelEncoder()\\ny_train_encoded = label_encoder1.fit_transform(y_train)\\n'"
            ],
            "application/vnd.google.colaboratory.intrinsic+json": {
              "type": "string"
            }
          },
          "metadata": {},
          "execution_count": 20
        }
      ],
      "source": [
        "'''\n",
        "from sklearn.preprocessing import LabelEncoder\n",
        "\n",
        "label_encoder1 = LabelEncoder()\n",
        "y_train_encoded = label_encoder1.fit_transform(y_train)\n",
        "'''"
      ],
      "metadata": {
        "ExecuteTime": {
          "end_time": "2024-02-02T13:53:42.553642Z",
          "start_time": "2024-02-02T13:53:42.223071800Z"
        },
        "colab": {
          "base_uri": "https://localhost:8080/",
          "height": 53
        },
        "id": "cc25f1d46e9343e7",
        "outputId": "ab94e626-4ac4-43d8-bb84-7f4236d2bc87"
      },
      "id": "cc25f1d46e9343e7"
    },
    {
      "cell_type": "markdown",
      "source": [
        "# 4. Choosing model"
      ],
      "metadata": {
        "collapsed": false,
        "id": "1d53554f4fe6aa5c"
      },
      "id": "1d53554f4fe6aa5c"
    },
    {
      "cell_type": "code",
      "source": [
        "'''\n",
        "from sklearn.feature_selection import RFECV\n",
        "from sklearn.model_selection import GridSearchCV\n",
        "from sklearn.metrics import accuracy_score\n",
        "\n",
        "# Initialize recursive feature elimination with cross-validation (RFECV)\n",
        "rfecv = RFECV(estimator=log, scoring='accuracy')\n",
        "\n",
        "# Define hyperparameters for grid search\n",
        "param_grid = {\n",
        "    'estimator__C': [0.1, 1, 11],  # Regularization parameter\n",
        "    'estimator__solver': ['liblinear', 'saga']  # Solver for logistic regression\n",
        "}\n",
        "\n",
        "# Initialize grid search\n",
        "grid_search = GridSearchCV(estimator=rfecv, param_grid=param_grid, scoring='accuracy', cv=5)\n",
        "\n",
        "# Fit grid search to training data\n",
        "grid_search.fit(X_scaled, y_label)\n",
        "\n",
        "# Get the best estimator from grid search\n",
        "best_rfecv = grid_search.best_estimator_\n",
        "\n",
        "# Get selected feature indices\n",
        "selected_feature_indices = best_rfecv.get_support(indices=True)\n",
        "'''"
      ],
      "metadata": {
        "colab": {
          "base_uri": "https://localhost:8080/",
          "height": 122
        },
        "id": "Pit2PjJHhN_o",
        "outputId": "dd3f4612-19c8-4b85-b3aa-e3aaf21fbcae"
      },
      "id": "Pit2PjJHhN_o",
      "execution_count": null,
      "outputs": [
        {
          "output_type": "execute_result",
          "data": {
            "text/plain": [
              "\"\\nfrom sklearn.feature_selection import RFECV\\nfrom sklearn.model_selection import GridSearchCV\\nfrom sklearn.metrics import accuracy_score\\n\\n# Initialize recursive feature elimination with cross-validation (RFECV)\\nrfecv = RFECV(estimator=log, scoring='accuracy')\\n\\n# Define hyperparameters for grid search\\nparam_grid = {\\n    'estimator__C': [0.1, 1, 11],  # Regularization parameter\\n    'estimator__solver': ['liblinear', 'saga']  # Solver for logistic regression\\n}\\n\\n# Initialize grid search\\ngrid_search = GridSearchCV(estimator=rfecv, param_grid=param_grid, scoring='accuracy', cv=5)\\n\\n# Fit grid search to training data\\ngrid_search.fit(X_scaled, y_label)\\n\\n# Get the best estimator from grid search\\nbest_rfecv = grid_search.best_estimator_\\n\\n# Get selected feature indices\\nselected_feature_indices = best_rfecv.get_support(indices=True)\\n\""
            ],
            "application/vnd.google.colaboratory.intrinsic+json": {
              "type": "string"
            }
          },
          "metadata": {},
          "execution_count": 21
        }
      ]
    },
    {
      "cell_type": "markdown",
      "source": [
        "## 4.0. Importing cleaned testing result"
      ],
      "metadata": {
        "id": "Fs2_-nOEYf38"
      },
      "id": "Fs2_-nOEYf38"
    },
    {
      "cell_type": "code",
      "source": [
        "y_test_true = pd.read_csv('y_true.csv',header = None, names=['top_genre'])\n",
        "y_test_true"
      ],
      "metadata": {
        "colab": {
          "base_uri": "https://localhost:8080/",
          "height": 423
        },
        "id": "omc8X-pngRmk",
        "outputId": "b24e7e95-c29f-4083-a625-e224c41b75f4"
      },
      "id": "omc8X-pngRmk",
      "execution_count": null,
      "outputs": [
        {
          "output_type": "execute_result",
          "data": {
            "text/plain": [
              "              top_genre\n",
              "0             dance pop\n",
              "1             glam rock\n",
              "2             glam rock\n",
              "3              big beat\n",
              "4      appalachian folk\n",
              "..                  ...\n",
              "108  east coast hip hop\n",
              "109     bubblegum dance\n",
              "110  east coast hip hop\n",
              "111               disco\n",
              "112          glam metal\n",
              "\n",
              "[113 rows x 1 columns]"
            ],
            "text/html": [
              "\n",
              "  <div id=\"df-b4b6f022-4ae8-492f-8c9e-f9c9181dca66\" class=\"colab-df-container\">\n",
              "    <div>\n",
              "<style scoped>\n",
              "    .dataframe tbody tr th:only-of-type {\n",
              "        vertical-align: middle;\n",
              "    }\n",
              "\n",
              "    .dataframe tbody tr th {\n",
              "        vertical-align: top;\n",
              "    }\n",
              "\n",
              "    .dataframe thead th {\n",
              "        text-align: right;\n",
              "    }\n",
              "</style>\n",
              "<table border=\"1\" class=\"dataframe\">\n",
              "  <thead>\n",
              "    <tr style=\"text-align: right;\">\n",
              "      <th></th>\n",
              "      <th>top_genre</th>\n",
              "    </tr>\n",
              "  </thead>\n",
              "  <tbody>\n",
              "    <tr>\n",
              "      <th>0</th>\n",
              "      <td>dance pop</td>\n",
              "    </tr>\n",
              "    <tr>\n",
              "      <th>1</th>\n",
              "      <td>glam rock</td>\n",
              "    </tr>\n",
              "    <tr>\n",
              "      <th>2</th>\n",
              "      <td>glam rock</td>\n",
              "    </tr>\n",
              "    <tr>\n",
              "      <th>3</th>\n",
              "      <td>big beat</td>\n",
              "    </tr>\n",
              "    <tr>\n",
              "      <th>4</th>\n",
              "      <td>appalachian folk</td>\n",
              "    </tr>\n",
              "    <tr>\n",
              "      <th>...</th>\n",
              "      <td>...</td>\n",
              "    </tr>\n",
              "    <tr>\n",
              "      <th>108</th>\n",
              "      <td>east coast hip hop</td>\n",
              "    </tr>\n",
              "    <tr>\n",
              "      <th>109</th>\n",
              "      <td>bubblegum dance</td>\n",
              "    </tr>\n",
              "    <tr>\n",
              "      <th>110</th>\n",
              "      <td>east coast hip hop</td>\n",
              "    </tr>\n",
              "    <tr>\n",
              "      <th>111</th>\n",
              "      <td>disco</td>\n",
              "    </tr>\n",
              "    <tr>\n",
              "      <th>112</th>\n",
              "      <td>glam metal</td>\n",
              "    </tr>\n",
              "  </tbody>\n",
              "</table>\n",
              "<p>113 rows × 1 columns</p>\n",
              "</div>\n",
              "    <div class=\"colab-df-buttons\">\n",
              "\n",
              "  <div class=\"colab-df-container\">\n",
              "    <button class=\"colab-df-convert\" onclick=\"convertToInteractive('df-b4b6f022-4ae8-492f-8c9e-f9c9181dca66')\"\n",
              "            title=\"Convert this dataframe to an interactive table.\"\n",
              "            style=\"display:none;\">\n",
              "\n",
              "  <svg xmlns=\"http://www.w3.org/2000/svg\" height=\"24px\" viewBox=\"0 -960 960 960\">\n",
              "    <path d=\"M120-120v-720h720v720H120Zm60-500h600v-160H180v160Zm220 220h160v-160H400v160Zm0 220h160v-160H400v160ZM180-400h160v-160H180v160Zm440 0h160v-160H620v160ZM180-180h160v-160H180v160Zm440 0h160v-160H620v160Z\"/>\n",
              "  </svg>\n",
              "    </button>\n",
              "\n",
              "  <style>\n",
              "    .colab-df-container {\n",
              "      display:flex;\n",
              "      gap: 12px;\n",
              "    }\n",
              "\n",
              "    .colab-df-convert {\n",
              "      background-color: #E8F0FE;\n",
              "      border: none;\n",
              "      border-radius: 50%;\n",
              "      cursor: pointer;\n",
              "      display: none;\n",
              "      fill: #1967D2;\n",
              "      height: 32px;\n",
              "      padding: 0 0 0 0;\n",
              "      width: 32px;\n",
              "    }\n",
              "\n",
              "    .colab-df-convert:hover {\n",
              "      background-color: #E2EBFA;\n",
              "      box-shadow: 0px 1px 2px rgba(60, 64, 67, 0.3), 0px 1px 3px 1px rgba(60, 64, 67, 0.15);\n",
              "      fill: #174EA6;\n",
              "    }\n",
              "\n",
              "    .colab-df-buttons div {\n",
              "      margin-bottom: 4px;\n",
              "    }\n",
              "\n",
              "    [theme=dark] .colab-df-convert {\n",
              "      background-color: #3B4455;\n",
              "      fill: #D2E3FC;\n",
              "    }\n",
              "\n",
              "    [theme=dark] .colab-df-convert:hover {\n",
              "      background-color: #434B5C;\n",
              "      box-shadow: 0px 1px 3px 1px rgba(0, 0, 0, 0.15);\n",
              "      filter: drop-shadow(0px 1px 2px rgba(0, 0, 0, 0.3));\n",
              "      fill: #FFFFFF;\n",
              "    }\n",
              "  </style>\n",
              "\n",
              "    <script>\n",
              "      const buttonEl =\n",
              "        document.querySelector('#df-b4b6f022-4ae8-492f-8c9e-f9c9181dca66 button.colab-df-convert');\n",
              "      buttonEl.style.display =\n",
              "        google.colab.kernel.accessAllowed ? 'block' : 'none';\n",
              "\n",
              "      async function convertToInteractive(key) {\n",
              "        const element = document.querySelector('#df-b4b6f022-4ae8-492f-8c9e-f9c9181dca66');\n",
              "        const dataTable =\n",
              "          await google.colab.kernel.invokeFunction('convertToInteractive',\n",
              "                                                    [key], {});\n",
              "        if (!dataTable) return;\n",
              "\n",
              "        const docLinkHtml = 'Like what you see? Visit the ' +\n",
              "          '<a target=\"_blank\" href=https://colab.research.google.com/notebooks/data_table.ipynb>data table notebook</a>'\n",
              "          + ' to learn more about interactive tables.';\n",
              "        element.innerHTML = '';\n",
              "        dataTable['output_type'] = 'display_data';\n",
              "        await google.colab.output.renderOutput(dataTable, element);\n",
              "        const docLink = document.createElement('div');\n",
              "        docLink.innerHTML = docLinkHtml;\n",
              "        element.appendChild(docLink);\n",
              "      }\n",
              "    </script>\n",
              "  </div>\n",
              "\n",
              "\n",
              "<div id=\"df-e50517f1-4d8d-4b42-9087-604ef8165dbb\">\n",
              "  <button class=\"colab-df-quickchart\" onclick=\"quickchart('df-e50517f1-4d8d-4b42-9087-604ef8165dbb')\"\n",
              "            title=\"Suggest charts\"\n",
              "            style=\"display:none;\">\n",
              "\n",
              "<svg xmlns=\"http://www.w3.org/2000/svg\" height=\"24px\"viewBox=\"0 0 24 24\"\n",
              "     width=\"24px\">\n",
              "    <g>\n",
              "        <path d=\"M19 3H5c-1.1 0-2 .9-2 2v14c0 1.1.9 2 2 2h14c1.1 0 2-.9 2-2V5c0-1.1-.9-2-2-2zM9 17H7v-7h2v7zm4 0h-2V7h2v10zm4 0h-2v-4h2v4z\"/>\n",
              "    </g>\n",
              "</svg>\n",
              "  </button>\n",
              "\n",
              "<style>\n",
              "  .colab-df-quickchart {\n",
              "      --bg-color: #E8F0FE;\n",
              "      --fill-color: #1967D2;\n",
              "      --hover-bg-color: #E2EBFA;\n",
              "      --hover-fill-color: #174EA6;\n",
              "      --disabled-fill-color: #AAA;\n",
              "      --disabled-bg-color: #DDD;\n",
              "  }\n",
              "\n",
              "  [theme=dark] .colab-df-quickchart {\n",
              "      --bg-color: #3B4455;\n",
              "      --fill-color: #D2E3FC;\n",
              "      --hover-bg-color: #434B5C;\n",
              "      --hover-fill-color: #FFFFFF;\n",
              "      --disabled-bg-color: #3B4455;\n",
              "      --disabled-fill-color: #666;\n",
              "  }\n",
              "\n",
              "  .colab-df-quickchart {\n",
              "    background-color: var(--bg-color);\n",
              "    border: none;\n",
              "    border-radius: 50%;\n",
              "    cursor: pointer;\n",
              "    display: none;\n",
              "    fill: var(--fill-color);\n",
              "    height: 32px;\n",
              "    padding: 0;\n",
              "    width: 32px;\n",
              "  }\n",
              "\n",
              "  .colab-df-quickchart:hover {\n",
              "    background-color: var(--hover-bg-color);\n",
              "    box-shadow: 0 1px 2px rgba(60, 64, 67, 0.3), 0 1px 3px 1px rgba(60, 64, 67, 0.15);\n",
              "    fill: var(--button-hover-fill-color);\n",
              "  }\n",
              "\n",
              "  .colab-df-quickchart-complete:disabled,\n",
              "  .colab-df-quickchart-complete:disabled:hover {\n",
              "    background-color: var(--disabled-bg-color);\n",
              "    fill: var(--disabled-fill-color);\n",
              "    box-shadow: none;\n",
              "  }\n",
              "\n",
              "  .colab-df-spinner {\n",
              "    border: 2px solid var(--fill-color);\n",
              "    border-color: transparent;\n",
              "    border-bottom-color: var(--fill-color);\n",
              "    animation:\n",
              "      spin 1s steps(1) infinite;\n",
              "  }\n",
              "\n",
              "  @keyframes spin {\n",
              "    0% {\n",
              "      border-color: transparent;\n",
              "      border-bottom-color: var(--fill-color);\n",
              "      border-left-color: var(--fill-color);\n",
              "    }\n",
              "    20% {\n",
              "      border-color: transparent;\n",
              "      border-left-color: var(--fill-color);\n",
              "      border-top-color: var(--fill-color);\n",
              "    }\n",
              "    30% {\n",
              "      border-color: transparent;\n",
              "      border-left-color: var(--fill-color);\n",
              "      border-top-color: var(--fill-color);\n",
              "      border-right-color: var(--fill-color);\n",
              "    }\n",
              "    40% {\n",
              "      border-color: transparent;\n",
              "      border-right-color: var(--fill-color);\n",
              "      border-top-color: var(--fill-color);\n",
              "    }\n",
              "    60% {\n",
              "      border-color: transparent;\n",
              "      border-right-color: var(--fill-color);\n",
              "    }\n",
              "    80% {\n",
              "      border-color: transparent;\n",
              "      border-right-color: var(--fill-color);\n",
              "      border-bottom-color: var(--fill-color);\n",
              "    }\n",
              "    90% {\n",
              "      border-color: transparent;\n",
              "      border-bottom-color: var(--fill-color);\n",
              "    }\n",
              "  }\n",
              "</style>\n",
              "\n",
              "  <script>\n",
              "    async function quickchart(key) {\n",
              "      const quickchartButtonEl =\n",
              "        document.querySelector('#' + key + ' button');\n",
              "      quickchartButtonEl.disabled = true;  // To prevent multiple clicks.\n",
              "      quickchartButtonEl.classList.add('colab-df-spinner');\n",
              "      try {\n",
              "        const charts = await google.colab.kernel.invokeFunction(\n",
              "            'suggestCharts', [key], {});\n",
              "      } catch (error) {\n",
              "        console.error('Error during call to suggestCharts:', error);\n",
              "      }\n",
              "      quickchartButtonEl.classList.remove('colab-df-spinner');\n",
              "      quickchartButtonEl.classList.add('colab-df-quickchart-complete');\n",
              "    }\n",
              "    (() => {\n",
              "      let quickchartButtonEl =\n",
              "        document.querySelector('#df-e50517f1-4d8d-4b42-9087-604ef8165dbb button');\n",
              "      quickchartButtonEl.style.display =\n",
              "        google.colab.kernel.accessAllowed ? 'block' : 'none';\n",
              "    })();\n",
              "  </script>\n",
              "</div>\n",
              "    </div>\n",
              "  </div>\n"
            ]
          },
          "metadata": {},
          "execution_count": 22
        }
      ]
    },
    {
      "cell_type": "markdown",
      "source": [
        "## 4.1. Logistic regression"
      ],
      "metadata": {
        "collapsed": false,
        "id": "d7f26a0f22d38d39"
      },
      "id": "d7f26a0f22d38d39"
    },
    {
      "cell_type": "code",
      "source": [
        "from sklearn.multiclass import OneVsRestClassifier\n",
        "from sklearn.linear_model import LogisticRegression\n",
        "from sklearn.metrics import accuracy_score\n",
        "\n",
        "OVR_clf = OneVsRestClassifier(LogisticRegression(max_iter=1000, random_state=42))\n",
        "OVR_clf.fit(X_train_scaled, y_train)\n",
        "y_ovr = OVR_clf.predict(X_test_scaled)\n",
        "accuracy_ovr = accuracy_score(y_test, y_ovr)\n",
        "accuracy_ovr"
      ],
      "metadata": {
        "colab": {
          "base_uri": "https://localhost:8080/"
        },
        "id": "zpPutez5ShlJ",
        "outputId": "eb3f1b9b-c0a1-494a-ab90-48fe81e78210"
      },
      "id": "zpPutez5ShlJ",
      "execution_count": null,
      "outputs": [
        {
          "output_type": "execute_result",
          "data": {
            "text/plain": [
              "0.36283185840707965"
            ]
          },
          "metadata": {},
          "execution_count": 23
        }
      ]
    },
    {
      "cell_type": "markdown",
      "source": [
        "## 4.2. Random Forest"
      ],
      "metadata": {
        "collapsed": false,
        "id": "2ca53474028fcf24"
      },
      "id": "2ca53474028fcf24"
    },
    {
      "cell_type": "code",
      "source": [
        "from sklearn.ensemble import RandomForestClassifier\n",
        "from sklearn.model_selection import GridSearchCV\n",
        "\n",
        "RFC_model = RandomForestClassifier(n_estimators=400, max_depth=17, random_state=42)\n",
        "RFC_model.fit(X_train_scaled, y_train)"
      ],
      "metadata": {
        "colab": {
          "base_uri": "https://localhost:8080/",
          "height": 74
        },
        "id": "YUsnubGLfdM9",
        "outputId": "8cb790f3-ea50-4a33-f59c-463f9ebfb0dc"
      },
      "id": "YUsnubGLfdM9",
      "execution_count": null,
      "outputs": [
        {
          "output_type": "execute_result",
          "data": {
            "text/plain": [
              "RandomForestClassifier(max_depth=17, n_estimators=400, random_state=42)"
            ],
            "text/html": [
              "<style>#sk-container-id-1 {color: black;background-color: white;}#sk-container-id-1 pre{padding: 0;}#sk-container-id-1 div.sk-toggleable {background-color: white;}#sk-container-id-1 label.sk-toggleable__label {cursor: pointer;display: block;width: 100%;margin-bottom: 0;padding: 0.3em;box-sizing: border-box;text-align: center;}#sk-container-id-1 label.sk-toggleable__label-arrow:before {content: \"▸\";float: left;margin-right: 0.25em;color: #696969;}#sk-container-id-1 label.sk-toggleable__label-arrow:hover:before {color: black;}#sk-container-id-1 div.sk-estimator:hover label.sk-toggleable__label-arrow:before {color: black;}#sk-container-id-1 div.sk-toggleable__content {max-height: 0;max-width: 0;overflow: hidden;text-align: left;background-color: #f0f8ff;}#sk-container-id-1 div.sk-toggleable__content pre {margin: 0.2em;color: black;border-radius: 0.25em;background-color: #f0f8ff;}#sk-container-id-1 input.sk-toggleable__control:checked~div.sk-toggleable__content {max-height: 200px;max-width: 100%;overflow: auto;}#sk-container-id-1 input.sk-toggleable__control:checked~label.sk-toggleable__label-arrow:before {content: \"▾\";}#sk-container-id-1 div.sk-estimator input.sk-toggleable__control:checked~label.sk-toggleable__label {background-color: #d4ebff;}#sk-container-id-1 div.sk-label input.sk-toggleable__control:checked~label.sk-toggleable__label {background-color: #d4ebff;}#sk-container-id-1 input.sk-hidden--visually {border: 0;clip: rect(1px 1px 1px 1px);clip: rect(1px, 1px, 1px, 1px);height: 1px;margin: -1px;overflow: hidden;padding: 0;position: absolute;width: 1px;}#sk-container-id-1 div.sk-estimator {font-family: monospace;background-color: #f0f8ff;border: 1px dotted black;border-radius: 0.25em;box-sizing: border-box;margin-bottom: 0.5em;}#sk-container-id-1 div.sk-estimator:hover {background-color: #d4ebff;}#sk-container-id-1 div.sk-parallel-item::after {content: \"\";width: 100%;border-bottom: 1px solid gray;flex-grow: 1;}#sk-container-id-1 div.sk-label:hover label.sk-toggleable__label {background-color: #d4ebff;}#sk-container-id-1 div.sk-serial::before {content: \"\";position: absolute;border-left: 1px solid gray;box-sizing: border-box;top: 0;bottom: 0;left: 50%;z-index: 0;}#sk-container-id-1 div.sk-serial {display: flex;flex-direction: column;align-items: center;background-color: white;padding-right: 0.2em;padding-left: 0.2em;position: relative;}#sk-container-id-1 div.sk-item {position: relative;z-index: 1;}#sk-container-id-1 div.sk-parallel {display: flex;align-items: stretch;justify-content: center;background-color: white;position: relative;}#sk-container-id-1 div.sk-item::before, #sk-container-id-1 div.sk-parallel-item::before {content: \"\";position: absolute;border-left: 1px solid gray;box-sizing: border-box;top: 0;bottom: 0;left: 50%;z-index: -1;}#sk-container-id-1 div.sk-parallel-item {display: flex;flex-direction: column;z-index: 1;position: relative;background-color: white;}#sk-container-id-1 div.sk-parallel-item:first-child::after {align-self: flex-end;width: 50%;}#sk-container-id-1 div.sk-parallel-item:last-child::after {align-self: flex-start;width: 50%;}#sk-container-id-1 div.sk-parallel-item:only-child::after {width: 0;}#sk-container-id-1 div.sk-dashed-wrapped {border: 1px dashed gray;margin: 0 0.4em 0.5em 0.4em;box-sizing: border-box;padding-bottom: 0.4em;background-color: white;}#sk-container-id-1 div.sk-label label {font-family: monospace;font-weight: bold;display: inline-block;line-height: 1.2em;}#sk-container-id-1 div.sk-label-container {text-align: center;}#sk-container-id-1 div.sk-container {/* jupyter's `normalize.less` sets `[hidden] { display: none; }` but bootstrap.min.css set `[hidden] { display: none !important; }` so we also need the `!important` here to be able to override the default hidden behavior on the sphinx rendered scikit-learn.org. See: https://github.com/scikit-learn/scikit-learn/issues/21755 */display: inline-block !important;position: relative;}#sk-container-id-1 div.sk-text-repr-fallback {display: none;}</style><div id=\"sk-container-id-1\" class=\"sk-top-container\"><div class=\"sk-text-repr-fallback\"><pre>RandomForestClassifier(max_depth=17, n_estimators=400, random_state=42)</pre><b>In a Jupyter environment, please rerun this cell to show the HTML representation or trust the notebook. <br />On GitHub, the HTML representation is unable to render, please try loading this page with nbviewer.org.</b></div><div class=\"sk-container\" hidden><div class=\"sk-item\"><div class=\"sk-estimator sk-toggleable\"><input class=\"sk-toggleable__control sk-hidden--visually\" id=\"sk-estimator-id-1\" type=\"checkbox\" checked><label for=\"sk-estimator-id-1\" class=\"sk-toggleable__label sk-toggleable__label-arrow\">RandomForestClassifier</label><div class=\"sk-toggleable__content\"><pre>RandomForestClassifier(max_depth=17, n_estimators=400, random_state=42)</pre></div></div></div></div></div>"
            ]
          },
          "metadata": {},
          "execution_count": 24
        }
      ]
    },
    {
      "cell_type": "code",
      "source": [
        "y_rfc = RFC_model.predict(X_test_scaled)\n",
        "accuracy_rfc = accuracy_score(y_test, y_rfc)\n",
        "accuracy_rfc"
      ],
      "metadata": {
        "colab": {
          "base_uri": "https://localhost:8080/"
        },
        "id": "ZIXAy3uWf415",
        "outputId": "c6f9ce78-d979-4925-8ba1-2d86a9568671"
      },
      "id": "ZIXAy3uWf415",
      "execution_count": null,
      "outputs": [
        {
          "output_type": "execute_result",
          "data": {
            "text/plain": [
              "0.3805309734513274"
            ]
          },
          "metadata": {},
          "execution_count": 25
        }
      ]
    },
    {
      "cell_type": "code",
      "source": [
        "from sklearn.metrics import classification_report\n",
        "print(classification_report(y_test, y_rfc))"
      ],
      "metadata": {
        "colab": {
          "base_uri": "https://localhost:8080/"
        },
        "id": "48q5YaKcibyJ",
        "outputId": "24069482-a09a-48b8-81eb-d2f6176e9de5"
      },
      "id": "48q5YaKcibyJ",
      "execution_count": null,
      "outputs": [
        {
          "output_type": "stream",
          "name": "stdout",
          "text": [
            "                      precision    recall  f1-score   support\n",
            "\n",
            "      acoustic blues       0.00      0.00      0.00         1\n",
            "     adult standards       0.50      0.67      0.57        21\n",
            "            afrobeat       0.00      0.00      0.00         0\n",
            "             afropop       0.00      0.00      0.00         1\n",
            "          album rock       0.31      0.67      0.43        15\n",
            "   alternative metal       0.00      0.00      0.00         2\n",
            "            art rock       0.00      0.00      0.00         4\n",
            "         atl hip hop       0.00      0.00      0.00         2\n",
            "       barbadian pop       0.00      0.00      0.00         2\n",
            "         baroque pop       0.00      0.00      0.00         1\n",
            "               bebop       0.00      0.00      0.00         1\n",
            "         belgian pop       0.00      0.00      0.00         1\n",
            "          blues rock       0.00      0.00      0.00         0\n",
            "            boogaloo       0.00      0.00      0.00         1\n",
            "  brill building pop       0.50      0.40      0.44         5\n",
            "       british blues       0.00      0.00      0.00         1\n",
            "    british invasion       0.00      0.00      0.00         3\n",
            "     bubblegum dance       0.00      0.00      0.00         2\n",
            "        canadian pop       0.00      0.00      0.00         1\n",
            "        classic soul       0.00      0.00      0.00         1\n",
            "      classic uk pop       0.00      0.00      0.00         1\n",
            "           dance pop       0.40      1.00      0.58        17\n",
            "          dance rock       0.00      0.00      0.00         4\n",
            "deep adult standards       0.00      0.00      0.00         2\n",
            "     detroit hip hop       0.00      0.00      0.00         1\n",
            "               disco       0.00      0.00      0.00         1\n",
            "         disco house       0.00      0.00      0.00         1\n",
            "  east coast hip hop       0.00      0.00      0.00         0\n",
            "           eurodance       0.00      0.00      0.00         1\n",
            "             europop       0.00      0.00      0.00         7\n",
            "           glam rock       0.00      0.00      0.00         2\n",
            "             hip hop       0.00      0.00      0.00         1\n",
            "         italian pop       0.00      0.00      0.00         1\n",
            "               latin       0.00      0.00      0.00         1\n",
            "                 pop       0.00      0.00      0.00         5\n",
            "                 r&b       0.00      0.00      0.00         2\n",
            "           soft rock       0.00      0.00      0.00         1\n",
            "\n",
            "            accuracy                           0.38       113\n",
            "           macro avg       0.05      0.07      0.05       113\n",
            "        weighted avg       0.22      0.38      0.27       113\n",
            "\n"
          ]
        },
        {
          "output_type": "stream",
          "name": "stderr",
          "text": [
            "/usr/local/lib/python3.10/dist-packages/sklearn/metrics/_classification.py:1344: UndefinedMetricWarning: Precision and F-score are ill-defined and being set to 0.0 in labels with no predicted samples. Use `zero_division` parameter to control this behavior.\n",
            "  _warn_prf(average, modifier, msg_start, len(result))\n",
            "/usr/local/lib/python3.10/dist-packages/sklearn/metrics/_classification.py:1344: UndefinedMetricWarning: Recall and F-score are ill-defined and being set to 0.0 in labels with no true samples. Use `zero_division` parameter to control this behavior.\n",
            "  _warn_prf(average, modifier, msg_start, len(result))\n",
            "/usr/local/lib/python3.10/dist-packages/sklearn/metrics/_classification.py:1344: UndefinedMetricWarning: Precision and F-score are ill-defined and being set to 0.0 in labels with no predicted samples. Use `zero_division` parameter to control this behavior.\n",
            "  _warn_prf(average, modifier, msg_start, len(result))\n",
            "/usr/local/lib/python3.10/dist-packages/sklearn/metrics/_classification.py:1344: UndefinedMetricWarning: Recall and F-score are ill-defined and being set to 0.0 in labels with no true samples. Use `zero_division` parameter to control this behavior.\n",
            "  _warn_prf(average, modifier, msg_start, len(result))\n",
            "/usr/local/lib/python3.10/dist-packages/sklearn/metrics/_classification.py:1344: UndefinedMetricWarning: Precision and F-score are ill-defined and being set to 0.0 in labels with no predicted samples. Use `zero_division` parameter to control this behavior.\n",
            "  _warn_prf(average, modifier, msg_start, len(result))\n",
            "/usr/local/lib/python3.10/dist-packages/sklearn/metrics/_classification.py:1344: UndefinedMetricWarning: Recall and F-score are ill-defined and being set to 0.0 in labels with no true samples. Use `zero_division` parameter to control this behavior.\n",
            "  _warn_prf(average, modifier, msg_start, len(result))\n"
          ]
        }
      ]
    },
    {
      "cell_type": "markdown",
      "source": [
        "## 4.3. XGBoost classification"
      ],
      "metadata": {
        "collapsed": false,
        "id": "be4db9543b283849"
      },
      "id": "be4db9543b283849"
    },
    {
      "cell_type": "markdown",
      "source": [
        "### 4.3.1. label encoding on the training set"
      ],
      "metadata": {
        "id": "ThfCp0l1Tsj_"
      },
      "id": "ThfCp0l1Tsj_"
    },
    {
      "cell_type": "code",
      "source": [
        "# Splitting the data into features and target\n",
        "X_train_full = train_set.drop(['top_genre'], axis=1)\n",
        "y_train_full = train_set['top_genre']"
      ],
      "metadata": {
        "id": "5T0o9wxWU5X5"
      },
      "id": "5T0o9wxWU5X5",
      "execution_count": null,
      "outputs": []
    },
    {
      "cell_type": "code",
      "source": [
        "yeo_johnson_transformer_full = PowerTransformer(method='yeo-johnson')\n",
        "X_train_full['acous'] = yeo_johnson_transformer_full.fit_transform(X_train_full[['acous']])\n",
        "test_set['acous'] = yeo_johnson_transformer_full.transform(test_set[['acous']])\n",
        "for col in ['spch', 'live', 'dur']:\n",
        "    X_train_full[col], lambdas = boxcox(X_train_full[col]+1)\n",
        "    test_set[col] = boxcox(test_set[col] +1, lmbda=lambdas)"
      ],
      "metadata": {
        "id": "FN0n0G8LbZM7"
      },
      "id": "FN0n0G8LbZM7",
      "execution_count": null,
      "outputs": []
    },
    {
      "cell_type": "code",
      "source": [
        "# Scale the dataset using robust scaler to mitigate the effect of outliers\n",
        "standard_scaler = StandardScaler()\n",
        "\n",
        "# Scaling the dataset while keeping the labels intact\n",
        "columns_name = X_train_full.columns\n",
        "\n",
        "# Scaling will return a ndarray so we will need to transform it back to a dataframe\n",
        "X_train_full = standard_scaler.fit_transform(X_train_full)\n",
        "X_train_full = pd.DataFrame(X_train_full, columns= columns_name)\n",
        "\n",
        "# Scaling the test_set\n",
        "X_test_full = standard_scaler.transform(test_set)\n",
        "X_test_full = pd.DataFrame(X_test_full, columns= columns_name)"
      ],
      "metadata": {
        "id": "W75SFncNU_qs"
      },
      "id": "W75SFncNU_qs",
      "execution_count": null,
      "outputs": []
    },
    {
      "cell_type": "code",
      "source": [
        "from sklearn.preprocessing import LabelEncoder\n",
        "\n",
        "label_encoder1 = LabelEncoder()\n",
        "y_train_full = label_encoder1.fit_transform(y_train_full)"
      ],
      "metadata": {
        "id": "4GiOAMFWccMr"
      },
      "id": "4GiOAMFWccMr",
      "execution_count": null,
      "outputs": []
    },
    {
      "cell_type": "markdown",
      "source": [
        "### 4.3.2. Training model"
      ],
      "metadata": {
        "id": "8Yryj36cU6gg"
      },
      "id": "8Yryj36cU6gg"
    },
    {
      "cell_type": "code",
      "source": [
        "#pip install xgboost"
      ],
      "metadata": {
        "id": "EfGWvqfsgvjV"
      },
      "id": "EfGWvqfsgvjV",
      "execution_count": null,
      "outputs": []
    },
    {
      "cell_type": "code",
      "source": [
        "import xgboost as xgb\n",
        "\n",
        "# Init classifier\n",
        "xgb_cl = xgb.XGBClassifier()\n",
        "\n",
        "# Fit\n",
        "xgb_cl.fit(X_train_full, y_train_full)\n",
        "\n",
        "# Predict\n",
        "y_pred = xgb_cl.predict(X_test_full)\n",
        "\n",
        "# Inverse result\n",
        "y_pred = label_encoder1.inverse_transform(y_pred)\n",
        "\n",
        "# Score\n",
        "accuracy_score(y_test_true, y_pred)"
      ],
      "metadata": {
        "colab": {
          "base_uri": "https://localhost:8080/"
        },
        "id": "psNthkN8gthV",
        "outputId": "71118a2d-3dce-4597-c6c2-730006b5ec40"
      },
      "id": "psNthkN8gthV",
      "execution_count": null,
      "outputs": [
        {
          "output_type": "execute_result",
          "data": {
            "text/plain": [
              "0.30973451327433627"
            ]
          },
          "metadata": {},
          "execution_count": 32
        }
      ]
    },
    {
      "cell_type": "markdown",
      "source": [
        "## 4.4. Testing on full set Random Forest"
      ],
      "metadata": {
        "id": "7F8lgQcQdAbO"
      },
      "id": "7F8lgQcQdAbO"
    },
    {
      "cell_type": "markdown",
      "source": [
        "### 4.4.1. Weighted Loss function"
      ],
      "metadata": {
        "id": "PLj0XPN0kzKD"
      },
      "id": "PLj0XPN0kzKD"
    },
    {
      "cell_type": "code",
      "source": [
        "from sklearn.utils.class_weight import compute_class_weight\n",
        "\n",
        "# Create and train the Random Forest model with class weights\n",
        "RFC_model = RandomForestClassifier(n_estimators=400, max_depth=17, random_state=42,\n",
        "                                  class_weight='balanced')\n",
        "\n",
        "# Fit the model\n",
        "RFC_model.fit(X_train_full, y_train_full)"
      ],
      "metadata": {
        "colab": {
          "base_uri": "https://localhost:8080/",
          "height": 92
        },
        "id": "WSvhKR9_jBRo",
        "outputId": "ef817663-6a2c-4c48-da03-8336df5d2d24"
      },
      "id": "WSvhKR9_jBRo",
      "execution_count": null,
      "outputs": [
        {
          "output_type": "execute_result",
          "data": {
            "text/plain": [
              "RandomForestClassifier(class_weight='balanced', max_depth=17, n_estimators=400,\n",
              "                       random_state=42)"
            ],
            "text/html": [
              "<style>#sk-container-id-2 {color: black;background-color: white;}#sk-container-id-2 pre{padding: 0;}#sk-container-id-2 div.sk-toggleable {background-color: white;}#sk-container-id-2 label.sk-toggleable__label {cursor: pointer;display: block;width: 100%;margin-bottom: 0;padding: 0.3em;box-sizing: border-box;text-align: center;}#sk-container-id-2 label.sk-toggleable__label-arrow:before {content: \"▸\";float: left;margin-right: 0.25em;color: #696969;}#sk-container-id-2 label.sk-toggleable__label-arrow:hover:before {color: black;}#sk-container-id-2 div.sk-estimator:hover label.sk-toggleable__label-arrow:before {color: black;}#sk-container-id-2 div.sk-toggleable__content {max-height: 0;max-width: 0;overflow: hidden;text-align: left;background-color: #f0f8ff;}#sk-container-id-2 div.sk-toggleable__content pre {margin: 0.2em;color: black;border-radius: 0.25em;background-color: #f0f8ff;}#sk-container-id-2 input.sk-toggleable__control:checked~div.sk-toggleable__content {max-height: 200px;max-width: 100%;overflow: auto;}#sk-container-id-2 input.sk-toggleable__control:checked~label.sk-toggleable__label-arrow:before {content: \"▾\";}#sk-container-id-2 div.sk-estimator input.sk-toggleable__control:checked~label.sk-toggleable__label {background-color: #d4ebff;}#sk-container-id-2 div.sk-label input.sk-toggleable__control:checked~label.sk-toggleable__label {background-color: #d4ebff;}#sk-container-id-2 input.sk-hidden--visually {border: 0;clip: rect(1px 1px 1px 1px);clip: rect(1px, 1px, 1px, 1px);height: 1px;margin: -1px;overflow: hidden;padding: 0;position: absolute;width: 1px;}#sk-container-id-2 div.sk-estimator {font-family: monospace;background-color: #f0f8ff;border: 1px dotted black;border-radius: 0.25em;box-sizing: border-box;margin-bottom: 0.5em;}#sk-container-id-2 div.sk-estimator:hover {background-color: #d4ebff;}#sk-container-id-2 div.sk-parallel-item::after {content: \"\";width: 100%;border-bottom: 1px solid gray;flex-grow: 1;}#sk-container-id-2 div.sk-label:hover label.sk-toggleable__label {background-color: #d4ebff;}#sk-container-id-2 div.sk-serial::before {content: \"\";position: absolute;border-left: 1px solid gray;box-sizing: border-box;top: 0;bottom: 0;left: 50%;z-index: 0;}#sk-container-id-2 div.sk-serial {display: flex;flex-direction: column;align-items: center;background-color: white;padding-right: 0.2em;padding-left: 0.2em;position: relative;}#sk-container-id-2 div.sk-item {position: relative;z-index: 1;}#sk-container-id-2 div.sk-parallel {display: flex;align-items: stretch;justify-content: center;background-color: white;position: relative;}#sk-container-id-2 div.sk-item::before, #sk-container-id-2 div.sk-parallel-item::before {content: \"\";position: absolute;border-left: 1px solid gray;box-sizing: border-box;top: 0;bottom: 0;left: 50%;z-index: -1;}#sk-container-id-2 div.sk-parallel-item {display: flex;flex-direction: column;z-index: 1;position: relative;background-color: white;}#sk-container-id-2 div.sk-parallel-item:first-child::after {align-self: flex-end;width: 50%;}#sk-container-id-2 div.sk-parallel-item:last-child::after {align-self: flex-start;width: 50%;}#sk-container-id-2 div.sk-parallel-item:only-child::after {width: 0;}#sk-container-id-2 div.sk-dashed-wrapped {border: 1px dashed gray;margin: 0 0.4em 0.5em 0.4em;box-sizing: border-box;padding-bottom: 0.4em;background-color: white;}#sk-container-id-2 div.sk-label label {font-family: monospace;font-weight: bold;display: inline-block;line-height: 1.2em;}#sk-container-id-2 div.sk-label-container {text-align: center;}#sk-container-id-2 div.sk-container {/* jupyter's `normalize.less` sets `[hidden] { display: none; }` but bootstrap.min.css set `[hidden] { display: none !important; }` so we also need the `!important` here to be able to override the default hidden behavior on the sphinx rendered scikit-learn.org. See: https://github.com/scikit-learn/scikit-learn/issues/21755 */display: inline-block !important;position: relative;}#sk-container-id-2 div.sk-text-repr-fallback {display: none;}</style><div id=\"sk-container-id-2\" class=\"sk-top-container\"><div class=\"sk-text-repr-fallback\"><pre>RandomForestClassifier(class_weight=&#x27;balanced&#x27;, max_depth=17, n_estimators=400,\n",
              "                       random_state=42)</pre><b>In a Jupyter environment, please rerun this cell to show the HTML representation or trust the notebook. <br />On GitHub, the HTML representation is unable to render, please try loading this page with nbviewer.org.</b></div><div class=\"sk-container\" hidden><div class=\"sk-item\"><div class=\"sk-estimator sk-toggleable\"><input class=\"sk-toggleable__control sk-hidden--visually\" id=\"sk-estimator-id-2\" type=\"checkbox\" checked><label for=\"sk-estimator-id-2\" class=\"sk-toggleable__label sk-toggleable__label-arrow\">RandomForestClassifier</label><div class=\"sk-toggleable__content\"><pre>RandomForestClassifier(class_weight=&#x27;balanced&#x27;, max_depth=17, n_estimators=400,\n",
              "                       random_state=42)</pre></div></div></div></div></div>"
            ]
          },
          "metadata": {},
          "execution_count": 33
        }
      ]
    },
    {
      "cell_type": "code",
      "source": [
        "rfc_pred = RFC_model.predict(X_test_full)\n",
        "rfc_pred = label_encoder1.inverse_transform(rfc_pred)\n",
        "print(accuracy_score(y_test_true, rfc_pred))"
      ],
      "metadata": {
        "colab": {
          "base_uri": "https://localhost:8080/"
        },
        "id": "klaEcYT2c9jC",
        "outputId": "a8fd5f3c-6a42-4c4f-b2de-ae190109edcb"
      },
      "id": "klaEcYT2c9jC",
      "execution_count": null,
      "outputs": [
        {
          "output_type": "stream",
          "name": "stdout",
          "text": [
            "0.35398230088495575\n"
          ]
        }
      ]
    },
    {
      "cell_type": "code",
      "source": [
        "from sklearn.metrics import classification_report\n",
        "print(classification_report(y_test_true, rfc_pred))"
      ],
      "metadata": {
        "colab": {
          "base_uri": "https://localhost:8080/"
        },
        "id": "oj9bG-eCc_9A",
        "outputId": "617c54cb-6449-4393-ef24-cf24ce72f963"
      },
      "id": "oj9bG-eCc_9A",
      "execution_count": null,
      "outputs": [
        {
          "output_type": "stream",
          "name": "stdout",
          "text": [
            "                      precision    recall  f1-score   support\n",
            "\n",
            "     adult standards       0.56      0.76      0.64        25\n",
            "          album rock       0.20      0.45      0.28        11\n",
            " alternative country       0.00      0.00      0.00         2\n",
            "   alternative metal       0.00      0.00      0.00         1\n",
            "    appalachian folk       0.00      0.00      0.00         1\n",
            "            art rock       0.00      0.00      0.00         2\n",
            "         atl hip hop       0.00      0.00      0.00         0\n",
            "       barbadian pop       0.00      0.00      0.00         1\n",
            "         beach music       0.00      0.00      0.00         1\n",
            "       belgian dance       0.00      0.00      0.00         0\n",
            "            big beat       0.00      0.00      0.00         1\n",
            "            big room       1.00      1.00      1.00         1\n",
            "               blues       0.00      0.00      0.00         0\n",
            "          blues rock       0.00      0.00      0.00         1\n",
            "            boy band       0.00      0.00      0.00         1\n",
            "  brill building pop       0.00      0.00      0.00         4\n",
            "    british invasion       0.00      0.00      0.00         1\n",
            "       bronx hip hop       0.00      0.00      0.00         1\n",
            "     bubblegum dance       0.50      0.33      0.40         6\n",
            "        canadian pop       0.00      0.00      0.00         1\n",
            " classic country pop       0.00      0.00      0.00         2\n",
            "        classic rock       0.00      0.00      0.00         1\n",
            "      cowboy western       0.00      0.00      0.00         1\n",
            "           dance pop       0.36      0.71      0.48        14\n",
            "          dance rock       0.14      0.50      0.22         2\n",
            "deep adult standards       0.00      0.00      0.00         1\n",
            "     dirty south rap       0.00      0.00      0.00         1\n",
            "               disco       0.00      0.00      0.00         3\n",
            "          diva house       0.00      0.00      0.00         1\n",
            "  east coast hip hop       1.00      0.50      0.67         4\n",
            "           eurodance       0.00      0.00      0.00         1\n",
            "             europop       0.00      0.00      0.00         3\n",
            "              g funk       0.00      0.00      0.00         1\n",
            "          glam metal       0.00      0.00      0.00         1\n",
            "           glam punk       0.00      0.00      0.00         0\n",
            "           glam rock       0.00      0.00      0.00         7\n",
            "             hip hop       0.00      0.00      0.00         1\n",
            "           hollywood       0.00      0.00      0.00         1\n",
            "         jazz fusion       0.00      0.00      0.00         1\n",
            "         mellow gold       0.00      0.00      0.00         3\n",
            "         modern rock       0.00      0.00      0.00         1\n",
            "     native american       0.00      0.00      0.00         1\n",
            "          neo mellow       0.00      0.00      0.00         1\n",
            "                 r&b       0.00      0.00      0.00         0\n",
            "                rock       0.00      0.00      0.00         0\n",
            "\n",
            "            accuracy                           0.35       113\n",
            "           macro avg       0.08      0.09      0.08       113\n",
            "        weighted avg       0.26      0.35      0.29       113\n",
            "\n"
          ]
        },
        {
          "output_type": "stream",
          "name": "stderr",
          "text": [
            "/usr/local/lib/python3.10/dist-packages/sklearn/metrics/_classification.py:1344: UndefinedMetricWarning: Precision and F-score are ill-defined and being set to 0.0 in labels with no predicted samples. Use `zero_division` parameter to control this behavior.\n",
            "  _warn_prf(average, modifier, msg_start, len(result))\n",
            "/usr/local/lib/python3.10/dist-packages/sklearn/metrics/_classification.py:1344: UndefinedMetricWarning: Recall and F-score are ill-defined and being set to 0.0 in labels with no true samples. Use `zero_division` parameter to control this behavior.\n",
            "  _warn_prf(average, modifier, msg_start, len(result))\n",
            "/usr/local/lib/python3.10/dist-packages/sklearn/metrics/_classification.py:1344: UndefinedMetricWarning: Precision and F-score are ill-defined and being set to 0.0 in labels with no predicted samples. Use `zero_division` parameter to control this behavior.\n",
            "  _warn_prf(average, modifier, msg_start, len(result))\n",
            "/usr/local/lib/python3.10/dist-packages/sklearn/metrics/_classification.py:1344: UndefinedMetricWarning: Recall and F-score are ill-defined and being set to 0.0 in labels with no true samples. Use `zero_division` parameter to control this behavior.\n",
            "  _warn_prf(average, modifier, msg_start, len(result))\n",
            "/usr/local/lib/python3.10/dist-packages/sklearn/metrics/_classification.py:1344: UndefinedMetricWarning: Precision and F-score are ill-defined and being set to 0.0 in labels with no predicted samples. Use `zero_division` parameter to control this behavior.\n",
            "  _warn_prf(average, modifier, msg_start, len(result))\n",
            "/usr/local/lib/python3.10/dist-packages/sklearn/metrics/_classification.py:1344: UndefinedMetricWarning: Recall and F-score are ill-defined and being set to 0.0 in labels with no true samples. Use `zero_division` parameter to control this behavior.\n",
            "  _warn_prf(average, modifier, msg_start, len(result))\n"
          ]
        }
      ]
    },
    {
      "cell_type": "code",
      "source": [
        "rfc_importances = RFC_model.feature_importances_\n",
        "rfc_importances"
      ],
      "metadata": {
        "colab": {
          "base_uri": "https://localhost:8080/"
        },
        "id": "jCZN6phjOMZe",
        "outputId": "f94c6a3e-6d6e-4207-8385-ba90b0e5b5ed"
      },
      "id": "jCZN6phjOMZe",
      "execution_count": null,
      "outputs": [
        {
          "output_type": "execute_result",
          "data": {
            "text/plain": [
              "array([0.07239398, 0.09839167, 0.11252511, 0.09036911, 0.07951485,\n",
              "       0.09438085, 0.09991828, 0.10125131, 0.08964405, 0.06657209,\n",
              "       0.09503869])"
            ]
          },
          "metadata": {},
          "execution_count": 36
        }
      ]
    },
    {
      "cell_type": "markdown",
      "source": [
        "### 4.4.2. Re-labeling grouping based on naming convention"
      ],
      "metadata": {
        "id": "yoLdSl5_k9rN"
      },
      "id": "yoLdSl5_k9rN"
    },
    {
      "cell_type": "code",
      "source": [
        "# Decode to get string labels\n",
        "y_train_full = label_encoder1.inverse_transform(y_train_full)"
      ],
      "metadata": {
        "id": "pgyRF6oLQfQA"
      },
      "id": "pgyRF6oLQfQA",
      "execution_count": null,
      "outputs": []
    },
    {
      "cell_type": "code",
      "source": [
        "# Make a new dataset\n",
        "grouped_data = X_train_full.copy()\n",
        "grouped_data['genre'] = y_train_full"
      ],
      "metadata": {
        "id": "y02jcY5zSF6b"
      },
      "id": "y02jcY5zSF6b",
      "execution_count": null,
      "outputs": []
    },
    {
      "cell_type": "code",
      "source": [
        "# grouping all subgenres to the most populated subgenre adult standards/album rock/dance pop\n",
        "grouped_data['genre'] = grouped_data['genre'].apply(lambda x: 'album rock' if 'rock' in x.lower() else x)\n",
        "grouped_data['genre'] = grouped_data['genre'].apply(lambda x: 'adult standards' if 'adult standards' in x.lower() else x)\n",
        "grouped_data['genre'] = grouped_data['genre'].apply(lambda x: 'dance pop' if 'pop' in x.lower() else x)"
      ],
      "metadata": {
        "id": "1lCCEFkrA6lf"
      },
      "id": "1lCCEFkrA6lf",
      "execution_count": null,
      "outputs": []
    },
    {
      "cell_type": "code",
      "source": [
        "X_grouped = grouped_data.drop(['genre'], axis=1)\n",
        "y_grouped = grouped_data['genre']\n",
        "y_grouped = label_encoder1.transform(y_grouped)"
      ],
      "metadata": {
        "id": "NdSIt46nTtK3"
      },
      "id": "NdSIt46nTtK3",
      "execution_count": null,
      "outputs": []
    },
    {
      "cell_type": "code",
      "source": [
        "from sklearn.utils.class_weight import compute_class_weight\n",
        "\n",
        "# Create and train the Random Forest model with class weights\n",
        "RFC_model = RandomForestClassifier(n_estimators=400, max_depth=17, random_state=42,\n",
        "                                  class_weight='balanced')\n",
        "\n",
        "# Fit the model\n",
        "RFC_model.fit(X_grouped, y_grouped)"
      ],
      "metadata": {
        "colab": {
          "base_uri": "https://localhost:8080/",
          "height": 92
        },
        "id": "uMl6YvAtQ-uf",
        "outputId": "2ba9d2b3-e36d-4595-ddf5-d0c5aeba9b4c"
      },
      "id": "uMl6YvAtQ-uf",
      "execution_count": null,
      "outputs": [
        {
          "output_type": "execute_result",
          "data": {
            "text/plain": [
              "RandomForestClassifier(class_weight='balanced', max_depth=17, n_estimators=400,\n",
              "                       random_state=42)"
            ],
            "text/html": [
              "<style>#sk-container-id-3 {color: black;background-color: white;}#sk-container-id-3 pre{padding: 0;}#sk-container-id-3 div.sk-toggleable {background-color: white;}#sk-container-id-3 label.sk-toggleable__label {cursor: pointer;display: block;width: 100%;margin-bottom: 0;padding: 0.3em;box-sizing: border-box;text-align: center;}#sk-container-id-3 label.sk-toggleable__label-arrow:before {content: \"▸\";float: left;margin-right: 0.25em;color: #696969;}#sk-container-id-3 label.sk-toggleable__label-arrow:hover:before {color: black;}#sk-container-id-3 div.sk-estimator:hover label.sk-toggleable__label-arrow:before {color: black;}#sk-container-id-3 div.sk-toggleable__content {max-height: 0;max-width: 0;overflow: hidden;text-align: left;background-color: #f0f8ff;}#sk-container-id-3 div.sk-toggleable__content pre {margin: 0.2em;color: black;border-radius: 0.25em;background-color: #f0f8ff;}#sk-container-id-3 input.sk-toggleable__control:checked~div.sk-toggleable__content {max-height: 200px;max-width: 100%;overflow: auto;}#sk-container-id-3 input.sk-toggleable__control:checked~label.sk-toggleable__label-arrow:before {content: \"▾\";}#sk-container-id-3 div.sk-estimator input.sk-toggleable__control:checked~label.sk-toggleable__label {background-color: #d4ebff;}#sk-container-id-3 div.sk-label input.sk-toggleable__control:checked~label.sk-toggleable__label {background-color: #d4ebff;}#sk-container-id-3 input.sk-hidden--visually {border: 0;clip: rect(1px 1px 1px 1px);clip: rect(1px, 1px, 1px, 1px);height: 1px;margin: -1px;overflow: hidden;padding: 0;position: absolute;width: 1px;}#sk-container-id-3 div.sk-estimator {font-family: monospace;background-color: #f0f8ff;border: 1px dotted black;border-radius: 0.25em;box-sizing: border-box;margin-bottom: 0.5em;}#sk-container-id-3 div.sk-estimator:hover {background-color: #d4ebff;}#sk-container-id-3 div.sk-parallel-item::after {content: \"\";width: 100%;border-bottom: 1px solid gray;flex-grow: 1;}#sk-container-id-3 div.sk-label:hover label.sk-toggleable__label {background-color: #d4ebff;}#sk-container-id-3 div.sk-serial::before {content: \"\";position: absolute;border-left: 1px solid gray;box-sizing: border-box;top: 0;bottom: 0;left: 50%;z-index: 0;}#sk-container-id-3 div.sk-serial {display: flex;flex-direction: column;align-items: center;background-color: white;padding-right: 0.2em;padding-left: 0.2em;position: relative;}#sk-container-id-3 div.sk-item {position: relative;z-index: 1;}#sk-container-id-3 div.sk-parallel {display: flex;align-items: stretch;justify-content: center;background-color: white;position: relative;}#sk-container-id-3 div.sk-item::before, #sk-container-id-3 div.sk-parallel-item::before {content: \"\";position: absolute;border-left: 1px solid gray;box-sizing: border-box;top: 0;bottom: 0;left: 50%;z-index: -1;}#sk-container-id-3 div.sk-parallel-item {display: flex;flex-direction: column;z-index: 1;position: relative;background-color: white;}#sk-container-id-3 div.sk-parallel-item:first-child::after {align-self: flex-end;width: 50%;}#sk-container-id-3 div.sk-parallel-item:last-child::after {align-self: flex-start;width: 50%;}#sk-container-id-3 div.sk-parallel-item:only-child::after {width: 0;}#sk-container-id-3 div.sk-dashed-wrapped {border: 1px dashed gray;margin: 0 0.4em 0.5em 0.4em;box-sizing: border-box;padding-bottom: 0.4em;background-color: white;}#sk-container-id-3 div.sk-label label {font-family: monospace;font-weight: bold;display: inline-block;line-height: 1.2em;}#sk-container-id-3 div.sk-label-container {text-align: center;}#sk-container-id-3 div.sk-container {/* jupyter's `normalize.less` sets `[hidden] { display: none; }` but bootstrap.min.css set `[hidden] { display: none !important; }` so we also need the `!important` here to be able to override the default hidden behavior on the sphinx rendered scikit-learn.org. See: https://github.com/scikit-learn/scikit-learn/issues/21755 */display: inline-block !important;position: relative;}#sk-container-id-3 div.sk-text-repr-fallback {display: none;}</style><div id=\"sk-container-id-3\" class=\"sk-top-container\"><div class=\"sk-text-repr-fallback\"><pre>RandomForestClassifier(class_weight=&#x27;balanced&#x27;, max_depth=17, n_estimators=400,\n",
              "                       random_state=42)</pre><b>In a Jupyter environment, please rerun this cell to show the HTML representation or trust the notebook. <br />On GitHub, the HTML representation is unable to render, please try loading this page with nbviewer.org.</b></div><div class=\"sk-container\" hidden><div class=\"sk-item\"><div class=\"sk-estimator sk-toggleable\"><input class=\"sk-toggleable__control sk-hidden--visually\" id=\"sk-estimator-id-3\" type=\"checkbox\" checked><label for=\"sk-estimator-id-3\" class=\"sk-toggleable__label sk-toggleable__label-arrow\">RandomForestClassifier</label><div class=\"sk-toggleable__content\"><pre>RandomForestClassifier(class_weight=&#x27;balanced&#x27;, max_depth=17, n_estimators=400,\n",
              "                       random_state=42)</pre></div></div></div></div></div>"
            ]
          },
          "metadata": {},
          "execution_count": 41
        }
      ]
    },
    {
      "cell_type": "code",
      "source": [
        "rfc_pred = RFC_model.predict(X_test_full)\n",
        "rfc_pred = label_encoder1.inverse_transform(rfc_pred)\n",
        "print(accuracy_score(y_test_true, rfc_pred))"
      ],
      "metadata": {
        "colab": {
          "base_uri": "https://localhost:8080/"
        },
        "id": "tVv54dcQWQNE",
        "outputId": "96b8522b-440a-4b93-df55-b793771d9ecd"
      },
      "id": "tVv54dcQWQNE",
      "execution_count": null,
      "outputs": [
        {
          "output_type": "stream",
          "name": "stdout",
          "text": [
            "0.3008849557522124\n"
          ]
        }
      ]
    },
    {
      "cell_type": "markdown",
      "source": [
        "### 4.4.3. Grouping based on cosine similarity"
      ],
      "metadata": {
        "id": "D8AZQrlWWdMN"
      },
      "id": "D8AZQrlWWdMN"
    },
    {
      "cell_type": "code",
      "source": [
        "# Make a new dataset\n",
        "grouped_data = X_train_full.copy()\n",
        "grouped_data['genre'] = y_train_full"
      ],
      "metadata": {
        "id": "qO9YDLnAYmFP"
      },
      "id": "qO9YDLnAYmFP",
      "execution_count": null,
      "outputs": []
    },
    {
      "cell_type": "code",
      "source": [
        "# Calculating representative vector for\n",
        "genres = [genre for genre in value_counts.index]\n",
        "\n",
        "genre_vector =grouped_data.groupby('genre').mean().iloc[:,0:11]"
      ],
      "metadata": {
        "id": "HOucVh_2W2ng"
      },
      "id": "HOucVh_2W2ng",
      "execution_count": null,
      "outputs": []
    },
    {
      "cell_type": "code",
      "source": [
        "genre_vector_adjusted = genre_vector*rfc_importances"
      ],
      "metadata": {
        "id": "QPDc1XGHZ1Xa"
      },
      "id": "QPDc1XGHZ1Xa",
      "execution_count": null,
      "outputs": []
    },
    {
      "cell_type": "code",
      "source": [
        "import pandas as pd\n",
        "from sklearn.metrics.pairwise import cosine_similarity\n",
        "\n",
        "# Extract feature columns for similarity calculation\n",
        "feature_columns = genre_vector_adjusted.columns[1:]\n",
        "\n",
        "# Calculate cosine similarity matrix\n",
        "similarity_matrix = cosine_similarity(genre_vector_adjusted[feature_columns])\n",
        "\n",
        "# Create a DataFrame from the similarity matrix\n",
        "class_similarity_df = pd.DataFrame(similarity_matrix, index=genre_vector.index, columns=genre_vector_adjusted.index)"
      ],
      "metadata": {
        "id": "Sly1uvI8Znhj"
      },
      "id": "Sly1uvI8Znhj",
      "execution_count": null,
      "outputs": []
    },
    {
      "cell_type": "code",
      "source": [
        "top_genre = list(value_counts[0:12].index)\n",
        "minor_genres = list(value_counts[12:].index)"
      ],
      "metadata": {
        "id": "NGmv3A5uaY8M"
      },
      "id": "NGmv3A5uaY8M",
      "execution_count": null,
      "outputs": []
    },
    {
      "cell_type": "code",
      "source": [
        "# Display the resulting DataFrame\n",
        "replace_mapping = class_similarity_df.drop(top_genre, axis=0)[top_genre]\n",
        "\n",
        "sns.heatmap(replace_mapping)"
      ],
      "metadata": {
        "colab": {
          "base_uri": "https://localhost:8080/",
          "height": 583
        },
        "id": "GlvBbitTaRql",
        "outputId": "974e9996-1880-4464-85cd-6cb60ef7b92d"
      },
      "id": "GlvBbitTaRql",
      "execution_count": null,
      "outputs": [
        {
          "output_type": "execute_result",
          "data": {
            "text/plain": [
              "<Axes: xlabel='genre', ylabel='genre'>"
            ]
          },
          "metadata": {},
          "execution_count": 48
        },
        {
          "output_type": "display_data",
          "data": {
            "text/plain": [
              "<Figure size 640x480 with 2 Axes>"
            ],
            "image/png": "[encoded data removed]"
          },
          "metadata": {}
        }
      ]
    },
    {
      "cell_type": "code",
      "source": [
        "# Find the column with the highest value in each row\n",
        "max_similarity_column = replace_mapping .idxmax(axis=1)\n",
        "\n",
        "# Create a DataFrame to display the results\n",
        "result_df = pd.DataFrame({'Class': replace_mapping .index, 'Max_Similarity_Column': max_similarity_column.values, 'Similarity_Value': replace_mapping .max(axis=1).values})\n",
        "\n",
        "# Display the resulting DataFrame\n",
        "result_df"
      ],
      "metadata": {
        "colab": {
          "base_uri": "https://localhost:8080/",
          "height": 423
        },
        "id": "Dkdp5zb0a0vs",
        "outputId": "109c4a54-6e08-40c9-ee2a-9f5c473f8fd7"
      },
      "id": "Dkdp5zb0a0vs",
      "execution_count": null,
      "outputs": [
        {
          "output_type": "execute_result",
          "data": {
            "text/plain": [
              "                Class Max_Similarity_Column  Similarity_Value\n",
              "0      acoustic blues            album rock          0.297304\n",
              "1            afrobeat    brill building pop          0.638871\n",
              "2             afropop              art rock          0.340023\n",
              "3   alternative metal               europop          0.713971\n",
              "4    alternative rock       bubblegum dance          0.922568\n",
              "..                ...                   ...               ...\n",
              "71               rock    brill building pop          0.872802\n",
              "72      rock-and-roll              art rock          0.576826\n",
              "73          soft rock    brill building pop          0.547278\n",
              "74          uk garage       bubblegum dance          0.417652\n",
              "75           yodeling       adult standards          0.804359\n",
              "\n",
              "[76 rows x 3 columns]"
            ],
            "text/html": [
              "\n",
              "  <div id=\"df-07047ad7-3cbb-42c1-9c73-63fa41761a58\" class=\"colab-df-container\">\n",
              "    <div>\n",
              "<style scoped>\n",
              "    .dataframe tbody tr th:only-of-type {\n",
              "        vertical-align: middle;\n",
              "    }\n",
              "\n",
              "    .dataframe tbody tr th {\n",
              "        vertical-align: top;\n",
              "    }\n",
              "\n",
              "    .dataframe thead th {\n",
              "        text-align: right;\n",
              "    }\n",
              "</style>\n",
              "<table border=\"1\" class=\"dataframe\">\n",
              "  <thead>\n",
              "    <tr style=\"text-align: right;\">\n",
              "      <th></th>\n",
              "      <th>Class</th>\n",
              "      <th>Max_Similarity_Column</th>\n",
              "      <th>Similarity_Value</th>\n",
              "    </tr>\n",
              "  </thead>\n",
              "  <tbody>\n",
              "    <tr>\n",
              "      <th>0</th>\n",
              "      <td>acoustic blues</td>\n",
              "      <td>album rock</td>\n",
              "      <td>0.297304</td>\n",
              "    </tr>\n",
              "    <tr>\n",
              "      <th>1</th>\n",
              "      <td>afrobeat</td>\n",
              "      <td>brill building pop</td>\n",
              "      <td>0.638871</td>\n",
              "    </tr>\n",
              "    <tr>\n",
              "      <th>2</th>\n",
              "      <td>afropop</td>\n",
              "      <td>art rock</td>\n",
              "      <td>0.340023</td>\n",
              "    </tr>\n",
              "    <tr>\n",
              "      <th>3</th>\n",
              "      <td>alternative metal</td>\n",
              "      <td>europop</td>\n",
              "      <td>0.713971</td>\n",
              "    </tr>\n",
              "    <tr>\n",
              "      <th>4</th>\n",
              "      <td>alternative rock</td>\n",
              "      <td>bubblegum dance</td>\n",
              "      <td>0.922568</td>\n",
              "    </tr>\n",
              "    <tr>\n",
              "      <th>...</th>\n",
              "      <td>...</td>\n",
              "      <td>...</td>\n",
              "      <td>...</td>\n",
              "    </tr>\n",
              "    <tr>\n",
              "      <th>71</th>\n",
              "      <td>rock</td>\n",
              "      <td>brill building pop</td>\n",
              "      <td>0.872802</td>\n",
              "    </tr>\n",
              "    <tr>\n",
              "      <th>72</th>\n",
              "      <td>rock-and-roll</td>\n",
              "      <td>art rock</td>\n",
              "      <td>0.576826</td>\n",
              "    </tr>\n",
              "    <tr>\n",
              "      <th>73</th>\n",
              "      <td>soft rock</td>\n",
              "      <td>brill building pop</td>\n",
              "      <td>0.547278</td>\n",
              "    </tr>\n",
              "    <tr>\n",
              "      <th>74</th>\n",
              "      <td>uk garage</td>\n",
              "      <td>bubblegum dance</td>\n",
              "      <td>0.417652</td>\n",
              "    </tr>\n",
              "    <tr>\n",
              "      <th>75</th>\n",
              "      <td>yodeling</td>\n",
              "      <td>adult standards</td>\n",
              "      <td>0.804359</td>\n",
              "    </tr>\n",
              "  </tbody>\n",
              "</table>\n",
              "<p>76 rows × 3 columns</p>\n",
              "</div>\n",
              "    <div class=\"colab-df-buttons\">\n",
              "\n",
              "  <div class=\"colab-df-container\">\n",
              "    <button class=\"colab-df-convert\" onclick=\"convertToInteractive('df-07047ad7-3cbb-42c1-9c73-63fa41761a58')\"\n",
              "            title=\"Convert this dataframe to an interactive table.\"\n",
              "            style=\"display:none;\">\n",
              "\n",
              "  <svg xmlns=\"http://www.w3.org/2000/svg\" height=\"24px\" viewBox=\"0 -960 960 960\">\n",
              "    <path d=\"M120-120v-720h720v720H120Zm60-500h600v-160H180v160Zm220 220h160v-160H400v160Zm0 220h160v-160H400v160ZM180-400h160v-160H180v160Zm440 0h160v-160H620v160ZM180-180h160v-160H180v160Zm440 0h160v-160H620v160Z\"/>\n",
              "  </svg>\n",
              "    </button>\n",
              "\n",
              "  <style>\n",
              "    .colab-df-container {\n",
              "      display:flex;\n",
              "      gap: 12px;\n",
              "    }\n",
              "\n",
              "    .colab-df-convert {\n",
              "      background-color: #E8F0FE;\n",
              "      border: none;\n",
              "      border-radius: 50%;\n",
              "      cursor: pointer;\n",
              "      display: none;\n",
              "      fill: #1967D2;\n",
              "      height: 32px;\n",
              "      padding: 0 0 0 0;\n",
              "      width: 32px;\n",
              "    }\n",
              "\n",
              "    .colab-df-convert:hover {\n",
              "      background-color: #E2EBFA;\n",
              "      box-shadow: 0px 1px 2px rgba(60, 64, 67, 0.3), 0px 1px 3px 1px rgba(60, 64, 67, 0.15);\n",
              "      fill: #174EA6;\n",
              "    }\n",
              "\n",
              "    .colab-df-buttons div {\n",
              "      margin-bottom: 4px;\n",
              "    }\n",
              "\n",
              "    [theme=dark] .colab-df-convert {\n",
              "      background-color: #3B4455;\n",
              "      fill: #D2E3FC;\n",
              "    }\n",
              "\n",
              "    [theme=dark] .colab-df-convert:hover {\n",
              "      background-color: #434B5C;\n",
              "      box-shadow: 0px 1px 3px 1px rgba(0, 0, 0, 0.15);\n",
              "      filter: drop-shadow(0px 1px 2px rgba(0, 0, 0, 0.3));\n",
              "      fill: #FFFFFF;\n",
              "    }\n",
              "  </style>\n",
              "\n",
              "    <script>\n",
              "      const buttonEl =\n",
              "        document.querySelector('#df-07047ad7-3cbb-42c1-9c73-63fa41761a58 button.colab-df-convert');\n",
              "      buttonEl.style.display =\n",
              "        google.colab.kernel.accessAllowed ? 'block' : 'none';\n",
              "\n",
              "      async function convertToInteractive(key) {\n",
              "        const element = document.querySelector('#df-07047ad7-3cbb-42c1-9c73-63fa41761a58');\n",
              "        const dataTable =\n",
              "          await google.colab.kernel.invokeFunction('convertToInteractive',\n",
              "                                                    [key], {});\n",
              "        if (!dataTable) return;\n",
              "\n",
              "        const docLinkHtml = 'Like what you see? Visit the ' +\n",
              "          '<a target=\"_blank\" href=https://colab.research.google.com/notebooks/data_table.ipynb>data table notebook</a>'\n",
              "          + ' to learn more about interactive tables.';\n",
              "        element.innerHTML = '';\n",
              "        dataTable['output_type'] = 'display_data';\n",
              "        await google.colab.output.renderOutput(dataTable, element);\n",
              "        const docLink = document.createElement('div');\n",
              "        docLink.innerHTML = docLinkHtml;\n",
              "        element.appendChild(docLink);\n",
              "      }\n",
              "    </script>\n",
              "  </div>\n",
              "\n",
              "\n",
              "<div id=\"df-6131f93d-88c6-4d0c-a185-e49fdcdc19a1\">\n",
              "  <button class=\"colab-df-quickchart\" onclick=\"quickchart('df-6131f93d-88c6-4d0c-a185-e49fdcdc19a1')\"\n",
              "            title=\"Suggest charts\"\n",
              "            style=\"display:none;\">\n",
              "\n",
              "<svg xmlns=\"http://www.w3.org/2000/svg\" height=\"24px\"viewBox=\"0 0 24 24\"\n",
              "     width=\"24px\">\n",
              "    <g>\n",
              "        <path d=\"M19 3H5c-1.1 0-2 .9-2 2v14c0 1.1.9 2 2 2h14c1.1 0 2-.9 2-2V5c0-1.1-.9-2-2-2zM9 17H7v-7h2v7zm4 0h-2V7h2v10zm4 0h-2v-4h2v4z\"/>\n",
              "    </g>\n",
              "</svg>\n",
              "  </button>\n",
              "\n",
              "<style>\n",
              "  .colab-df-quickchart {\n",
              "      --bg-color: #E8F0FE;\n",
              "      --fill-color: #1967D2;\n",
              "      --hover-bg-color: #E2EBFA;\n",
              "      --hover-fill-color: #174EA6;\n",
              "      --disabled-fill-color: #AAA;\n",
              "      --disabled-bg-color: #DDD;\n",
              "  }\n",
              "\n",
              "  [theme=dark] .colab-df-quickchart {\n",
              "      --bg-color: #3B4455;\n",
              "      --fill-color: #D2E3FC;\n",
              "      --hover-bg-color: #434B5C;\n",
              "      --hover-fill-color: #FFFFFF;\n",
              "      --disabled-bg-color: #3B4455;\n",
              "      --disabled-fill-color: #666;\n",
              "  }\n",
              "\n",
              "  .colab-df-quickchart {\n",
              "    background-color: var(--bg-color);\n",
              "    border: none;\n",
              "    border-radius: 50%;\n",
              "    cursor: pointer;\n",
              "    display: none;\n",
              "    fill: var(--fill-color);\n",
              "    height: 32px;\n",
              "    padding: 0;\n",
              "    width: 32px;\n",
              "  }\n",
              "\n",
              "  .colab-df-quickchart:hover {\n",
              "    background-color: var(--hover-bg-color);\n",
              "    box-shadow: 0 1px 2px rgba(60, 64, 67, 0.3), 0 1px 3px 1px rgba(60, 64, 67, 0.15);\n",
              "    fill: var(--button-hover-fill-color);\n",
              "  }\n",
              "\n",
              "  .colab-df-quickchart-complete:disabled,\n",
              "  .colab-df-quickchart-complete:disabled:hover {\n",
              "    background-color: var(--disabled-bg-color);\n",
              "    fill: var(--disabled-fill-color);\n",
              "    box-shadow: none;\n",
              "  }\n",
              "\n",
              "  .colab-df-spinner {\n",
              "    border: 2px solid var(--fill-color);\n",
              "    border-color: transparent;\n",
              "    border-bottom-color: var(--fill-color);\n",
              "    animation:\n",
              "      spin 1s steps(1) infinite;\n",
              "  }\n",
              "\n",
              "  @keyframes spin {\n",
              "    0% {\n",
              "      border-color: transparent;\n",
              "      border-bottom-color: var(--fill-color);\n",
              "      border-left-color: var(--fill-color);\n",
              "    }\n",
              "    20% {\n",
              "      border-color: transparent;\n",
              "      border-left-color: var(--fill-color);\n",
              "      border-top-color: var(--fill-color);\n",
              "    }\n",
              "    30% {\n",
              "      border-color: transparent;\n",
              "      border-left-color: var(--fill-color);\n",
              "      border-top-color: var(--fill-color);\n",
              "      border-right-color: var(--fill-color);\n",
              "    }\n",
              "    40% {\n",
              "      border-color: transparent;\n",
              "      border-right-color: var(--fill-color);\n",
              "      border-top-color: var(--fill-color);\n",
              "    }\n",
              "    60% {\n",
              "      border-color: transparent;\n",
              "      border-right-color: var(--fill-color);\n",
              "    }\n",
              "    80% {\n",
              "      border-color: transparent;\n",
              "      border-right-color: var(--fill-color);\n",
              "      border-bottom-color: var(--fill-color);\n",
              "    }\n",
              "    90% {\n",
              "      border-color: transparent;\n",
              "      border-bottom-color: var(--fill-color);\n",
              "    }\n",
              "  }\n",
              "</style>\n",
              "\n",
              "  <script>\n",
              "    async function quickchart(key) {\n",
              "      const quickchartButtonEl =\n",
              "        document.querySelector('#' + key + ' button');\n",
              "      quickchartButtonEl.disabled = true;  // To prevent multiple clicks.\n",
              "      quickchartButtonEl.classList.add('colab-df-spinner');\n",
              "      try {\n",
              "        const charts = await google.colab.kernel.invokeFunction(\n",
              "            'suggestCharts', [key], {});\n",
              "      } catch (error) {\n",
              "        console.error('Error during call to suggestCharts:', error);\n",
              "      }\n",
              "      quickchartButtonEl.classList.remove('colab-df-spinner');\n",
              "      quickchartButtonEl.classList.add('colab-df-quickchart-complete');\n",
              "    }\n",
              "    (() => {\n",
              "      let quickchartButtonEl =\n",
              "        document.querySelector('#df-6131f93d-88c6-4d0c-a185-e49fdcdc19a1 button');\n",
              "      quickchartButtonEl.style.display =\n",
              "        google.colab.kernel.accessAllowed ? 'block' : 'none';\n",
              "    })();\n",
              "  </script>\n",
              "</div>\n",
              "    </div>\n",
              "  </div>\n"
            ]
          },
          "metadata": {},
          "execution_count": 49
        }
      ]
    },
    {
      "cell_type": "code",
      "source": [
        "replace_labels = result_df[result_df.Similarity_Value > 0.70]"
      ],
      "metadata": {
        "id": "vdExhMI3a4nl"
      },
      "id": "vdExhMI3a4nl",
      "execution_count": null,
      "outputs": []
    },
    {
      "cell_type": "code",
      "source": [
        "# Make a new dataset\n",
        "grouped_data = X_train_full.copy()\n",
        "grouped_data['genre'] = y_train_full\n",
        "grouped_data['genre'] = grouped_data['genre'].replace(replace_labels.set_index('Class')['Max_Similarity_Column'])"
      ],
      "metadata": {
        "id": "Fn685RAvb-sZ"
      },
      "id": "Fn685RAvb-sZ",
      "execution_count": null,
      "outputs": []
    },
    {
      "cell_type": "code",
      "source": [
        "# Dropping genre with too littles sample\n",
        "value_counts=grouped_data['genre'].value_counts()\n",
        "\n",
        "drop_genre = value_counts[value_counts < 5].index.tolist()\n",
        "grouped_data = grouped_data[~grouped_data['genre'].isin(drop_genre)]"
      ],
      "metadata": {
        "id": "L3DZY41ufTwr"
      },
      "id": "L3DZY41ufTwr",
      "execution_count": null,
      "outputs": []
    },
    {
      "cell_type": "code",
      "source": [
        "X_grouped = grouped_data.drop(['genre'], axis=1)\n",
        "y_grouped = grouped_data['genre']\n",
        "y_grouped = label_encoder1.transform(y_grouped)"
      ],
      "metadata": {
        "id": "Fhu7ry6WceAa"
      },
      "id": "Fhu7ry6WceAa",
      "execution_count": null,
      "outputs": []
    },
    {
      "cell_type": "code",
      "source": [
        "label_encoder2 = LabelEncoder()\n",
        "y_grouped = label_encoder2.fit_transform(y_grouped)"
      ],
      "metadata": {
        "id": "U6zdk8wMF3Ch"
      },
      "id": "U6zdk8wMF3Ch",
      "execution_count": null,
      "outputs": []
    },
    {
      "cell_type": "code",
      "source": [
        "from sklearn.utils.class_weight import compute_class_weight\n",
        "\n",
        "# Create and train the Random Forest model with class weights\n",
        "RFC_model = RandomForestClassifier(n_estimators=400, max_depth=17, random_state=42,\n",
        "                                  class_weight='balanced')\n",
        "\n",
        "# Fit the model\n",
        "RFC_model.fit(X_grouped, y_grouped)"
      ],
      "metadata": {
        "colab": {
          "base_uri": "https://localhost:8080/",
          "height": 92
        },
        "id": "qncQ6NR_ch-6",
        "outputId": "1dd1c2ff-e79d-4950-f219-c6a957b2abe0"
      },
      "id": "qncQ6NR_ch-6",
      "execution_count": null,
      "outputs": [
        {
          "output_type": "execute_result",
          "data": {
            "text/plain": [
              "RandomForestClassifier(class_weight='balanced', max_depth=17, n_estimators=400,\n",
              "                       random_state=42)"
            ],
            "text/html": [
              "<style>#sk-container-id-4 {color: black;background-color: white;}#sk-container-id-4 pre{padding: 0;}#sk-container-id-4 div.sk-toggleable {background-color: white;}#sk-container-id-4 label.sk-toggleable__label {cursor: pointer;display: block;width: 100%;margin-bottom: 0;padding: 0.3em;box-sizing: border-box;text-align: center;}#sk-container-id-4 label.sk-toggleable__label-arrow:before {content: \"▸\";float: left;margin-right: 0.25em;color: #696969;}#sk-container-id-4 label.sk-toggleable__label-arrow:hover:before {color: black;}#sk-container-id-4 div.sk-estimator:hover label.sk-toggleable__label-arrow:before {color: black;}#sk-container-id-4 div.sk-toggleable__content {max-height: 0;max-width: 0;overflow: hidden;text-align: left;background-color: #f0f8ff;}#sk-container-id-4 div.sk-toggleable__content pre {margin: 0.2em;color: black;border-radius: 0.25em;background-color: #f0f8ff;}#sk-container-id-4 input.sk-toggleable__control:checked~div.sk-toggleable__content {max-height: 200px;max-width: 100%;overflow: auto;}#sk-container-id-4 input.sk-toggleable__control:checked~label.sk-toggleable__label-arrow:before {content: \"▾\";}#sk-container-id-4 div.sk-estimator input.sk-toggleable__control:checked~label.sk-toggleable__label {background-color: #d4ebff;}#sk-container-id-4 div.sk-label input.sk-toggleable__control:checked~label.sk-toggleable__label {background-color: #d4ebff;}#sk-container-id-4 input.sk-hidden--visually {border: 0;clip: rect(1px 1px 1px 1px);clip: rect(1px, 1px, 1px, 1px);height: 1px;margin: -1px;overflow: hidden;padding: 0;position: absolute;width: 1px;}#sk-container-id-4 div.sk-estimator {font-family: monospace;background-color: #f0f8ff;border: 1px dotted black;border-radius: 0.25em;box-sizing: border-box;margin-bottom: 0.5em;}#sk-container-id-4 div.sk-estimator:hover {background-color: #d4ebff;}#sk-container-id-4 div.sk-parallel-item::after {content: \"\";width: 100%;border-bottom: 1px solid gray;flex-grow: 1;}#sk-container-id-4 div.sk-label:hover label.sk-toggleable__label {background-color: #d4ebff;}#sk-container-id-4 div.sk-serial::before {content: \"\";position: absolute;border-left: 1px solid gray;box-sizing: border-box;top: 0;bottom: 0;left: 50%;z-index: 0;}#sk-container-id-4 div.sk-serial {display: flex;flex-direction: column;align-items: center;background-color: white;padding-right: 0.2em;padding-left: 0.2em;position: relative;}#sk-container-id-4 div.sk-item {position: relative;z-index: 1;}#sk-container-id-4 div.sk-parallel {display: flex;align-items: stretch;justify-content: center;background-color: white;position: relative;}#sk-container-id-4 div.sk-item::before, #sk-container-id-4 div.sk-parallel-item::before {content: \"\";position: absolute;border-left: 1px solid gray;box-sizing: border-box;top: 0;bottom: 0;left: 50%;z-index: -1;}#sk-container-id-4 div.sk-parallel-item {display: flex;flex-direction: column;z-index: 1;position: relative;background-color: white;}#sk-container-id-4 div.sk-parallel-item:first-child::after {align-self: flex-end;width: 50%;}#sk-container-id-4 div.sk-parallel-item:last-child::after {align-self: flex-start;width: 50%;}#sk-container-id-4 div.sk-parallel-item:only-child::after {width: 0;}#sk-container-id-4 div.sk-dashed-wrapped {border: 1px dashed gray;margin: 0 0.4em 0.5em 0.4em;box-sizing: border-box;padding-bottom: 0.4em;background-color: white;}#sk-container-id-4 div.sk-label label {font-family: monospace;font-weight: bold;display: inline-block;line-height: 1.2em;}#sk-container-id-4 div.sk-label-container {text-align: center;}#sk-container-id-4 div.sk-container {/* jupyter's `normalize.less` sets `[hidden] { display: none; }` but bootstrap.min.css set `[hidden] { display: none !important; }` so we also need the `!important` here to be able to override the default hidden behavior on the sphinx rendered scikit-learn.org. See: https://github.com/scikit-learn/scikit-learn/issues/21755 */display: inline-block !important;position: relative;}#sk-container-id-4 div.sk-text-repr-fallback {display: none;}</style><div id=\"sk-container-id-4\" class=\"sk-top-container\"><div class=\"sk-text-repr-fallback\"><pre>RandomForestClassifier(class_weight=&#x27;balanced&#x27;, max_depth=17, n_estimators=400,\n",
              "                       random_state=42)</pre><b>In a Jupyter environment, please rerun this cell to show the HTML representation or trust the notebook. <br />On GitHub, the HTML representation is unable to render, please try loading this page with nbviewer.org.</b></div><div class=\"sk-container\" hidden><div class=\"sk-item\"><div class=\"sk-estimator sk-toggleable\"><input class=\"sk-toggleable__control sk-hidden--visually\" id=\"sk-estimator-id-4\" type=\"checkbox\" checked><label for=\"sk-estimator-id-4\" class=\"sk-toggleable__label sk-toggleable__label-arrow\">RandomForestClassifier</label><div class=\"sk-toggleable__content\"><pre>RandomForestClassifier(class_weight=&#x27;balanced&#x27;, max_depth=17, n_estimators=400,\n",
              "                       random_state=42)</pre></div></div></div></div></div>"
            ]
          },
          "metadata": {},
          "execution_count": 55
        }
      ]
    },
    {
      "cell_type": "code",
      "source": [
        "rfc_pred = RFC_model.predict(X_test_full)\n",
        "rfc_pred = label_encoder2.inverse_transform(rfc_pred)\n",
        "rfc_pred = label_encoder1.inverse_transform(rfc_pred)\n",
        "print(classification_report(y_test_true, rfc_pred))"
      ],
      "metadata": {
        "colab": {
          "base_uri": "https://localhost:8080/"
        },
        "id": "78YU69VNcnBH",
        "outputId": "56dbc930-a180-4482-b17b-68c981b2635f"
      },
      "id": "78YU69VNcnBH",
      "execution_count": null,
      "outputs": [
        {
          "output_type": "stream",
          "name": "stdout",
          "text": [
            "                      precision    recall  f1-score   support\n",
            "\n",
            "     adult standards       0.53      0.76      0.62        25\n",
            "          album rock       0.28      0.64      0.39        11\n",
            " alternative country       0.00      0.00      0.00         2\n",
            "   alternative metal       0.00      0.00      0.00         1\n",
            "    appalachian folk       0.00      0.00      0.00         1\n",
            "            art rock       0.00      0.00      0.00         2\n",
            "       barbadian pop       0.00      0.00      0.00         1\n",
            "         beach music       0.00      0.00      0.00         1\n",
            "            big beat       0.00      0.00      0.00         1\n",
            "            big room       0.00      0.00      0.00         1\n",
            "          blues rock       0.00      0.00      0.00         1\n",
            "            boy band       0.00      0.00      0.00         1\n",
            "  brill building pop       0.25      0.25      0.25         4\n",
            "    british invasion       0.00      0.00      0.00         1\n",
            "       bronx hip hop       0.00      0.00      0.00         1\n",
            "     bubblegum dance       0.25      0.17      0.20         6\n",
            "        canadian pop       0.00      0.00      0.00         1\n",
            " classic country pop       0.00      0.00      0.00         2\n",
            "        classic rock       0.00      0.00      0.00         1\n",
            "      cowboy western       0.00      0.00      0.00         1\n",
            "           dance pop       0.30      0.79      0.43        14\n",
            "          dance rock       0.00      0.00      0.00         2\n",
            "deep adult standards       0.00      0.00      0.00         1\n",
            "     dirty south rap       0.00      0.00      0.00         1\n",
            "               disco       0.00      0.00      0.00         3\n",
            "          diva house       0.00      0.00      0.00         1\n",
            "  east coast hip hop       0.00      0.00      0.00         4\n",
            "           eurodance       0.00      0.00      0.00         1\n",
            "             europop       0.00      0.00      0.00         3\n",
            "              g funk       0.00      0.00      0.00         1\n",
            "          glam metal       0.00      0.00      0.00         1\n",
            "           glam rock       0.00      0.00      0.00         7\n",
            "             hip hop       0.00      0.00      0.00         1\n",
            "           hollywood       0.00      0.00      0.00         1\n",
            "         jazz fusion       0.00      0.00      0.00         1\n",
            "         mellow gold       0.00      0.00      0.00         3\n",
            "         modern rock       0.00      0.00      0.00         1\n",
            "     native american       0.00      0.00      0.00         1\n",
            "          neo mellow       0.00      0.00      0.00         1\n",
            "\n",
            "            accuracy                           0.35       113\n",
            "           macro avg       0.04      0.07      0.05       113\n",
            "        weighted avg       0.20      0.35      0.25       113\n",
            "\n"
          ]
        },
        {
          "output_type": "stream",
          "name": "stderr",
          "text": [
            "/usr/local/lib/python3.10/dist-packages/sklearn/metrics/_classification.py:1344: UndefinedMetricWarning: Precision and F-score are ill-defined and being set to 0.0 in labels with no predicted samples. Use `zero_division` parameter to control this behavior.\n",
            "  _warn_prf(average, modifier, msg_start, len(result))\n",
            "/usr/local/lib/python3.10/dist-packages/sklearn/metrics/_classification.py:1344: UndefinedMetricWarning: Precision and F-score are ill-defined and being set to 0.0 in labels with no predicted samples. Use `zero_division` parameter to control this behavior.\n",
            "  _warn_prf(average, modifier, msg_start, len(result))\n",
            "/usr/local/lib/python3.10/dist-packages/sklearn/metrics/_classification.py:1344: UndefinedMetricWarning: Precision and F-score are ill-defined and being set to 0.0 in labels with no predicted samples. Use `zero_division` parameter to control this behavior.\n",
            "  _warn_prf(average, modifier, msg_start, len(result))\n"
          ]
        }
      ]
    },
    {
      "cell_type": "markdown",
      "source": [
        "## 4.5. Hyperparameter tuning"
      ],
      "metadata": {
        "id": "nxZU-QQb7Na6"
      },
      "id": "nxZU-QQb7Na6"
    },
    {
      "cell_type": "markdown",
      "source": [
        "### 4.5.1 Logistic model"
      ],
      "metadata": {
        "id": "VGMZFrKe7bQF"
      },
      "id": "VGMZFrKe7bQF"
    },
    {
      "cell_type": "code",
      "source": [
        "# Define the logistic regression model\n",
        "logistic_regression_model = LogisticRegression(max_iter=500, class_weight='balanced')\n",
        "\n",
        "# Define the parameter grid to search\n",
        "param_grid = {\n",
        "    'penalty': ['l2'],\n",
        "    'C': [0.001, 0.01, 0.1, 1, 10, 100],\n",
        "    'solver': ['lbfgs', 'liblinear', 'newton-cg', 'newton-cholesky', 'sag', 'saga']\n",
        "}\n",
        "\n",
        "# Create the GridSearchCV object\n",
        "grid_search = GridSearchCV(logistic_regression_model, param_grid, cv=5, scoring='accuracy')\n",
        "\n",
        "# Fit the grid search to the data\n",
        "grid_search.fit(X_grouped, y_grouped)\n",
        "\n",
        "# Print the best hyperparameters\n",
        "print(\"Best Hyperparameters:\", grid_search.best_params_)\n",
        "\n",
        "# Get the best model\n",
        "best_model = grid_search.best_estimator_\n",
        "\n",
        "# Make predictions on the testing data\n",
        "y_pred = best_model.predict(X_test_full)\n",
        "y_pred = label_encoder1.inverse_transform(y_pred)\n",
        "\n",
        "# Evaluate the model\n",
        "accuracy = accuracy_score(y_test_true, y_pred)\n",
        "print(f'Accuracy: {accuracy:.4f}')"
      ],
      "metadata": {
        "id": "Z-TmNRcirJVm"
      },
      "id": "Z-TmNRcirJVm",
      "execution_count": null,
      "outputs": []
    },
    {
      "cell_type": "markdown",
      "source": [
        "### 4.5.2. Linear SVC"
      ],
      "metadata": {
        "id": "xS4-fjtq7epa"
      },
      "id": "xS4-fjtq7epa"
    },
    {
      "cell_type": "code",
      "source": [
        "# Define the logistic regression model\n",
        "lsvc_model = LinearSVC(random_state = 42, class_weight='balanced')\n",
        "\n",
        "\n",
        "# Define the parameter grid to search\n",
        "param_grid = {\n",
        "    'penalty': ['l1','l2'],\n",
        "    'C': [0.001, 0.01, 0.1, 1, 10, 100],\n",
        "    'loss': ['hinge', 'squared_hinge']\n",
        "    }\n",
        "\n",
        "# Create the GridSearchCV object\n",
        "grid_search = GridSearchCV(lsvc_model, param_grid, cv=5, scoring='accuracy')\n",
        "\n",
        "# Fit the grid search to the data\n",
        "grid_search.fit(X_grouped, y_grouped)\n",
        "\n",
        "# Print the best hyperparameters\n",
        "print(\"Best Hyperparameters:\", grid_search.best_params_)\n",
        "\n",
        "# Get the best model\n",
        "best_model = grid_search.best_estimator_\n",
        "\n",
        "# Make predictions on the testing data\n",
        "y_pred = best_model.predict(X_test_full)\n",
        "y_pred = label_encoder1.inverse_transform(y_pred)\n",
        "\n",
        "# Evaluate the model\n",
        "accuracy = accuracy_score(y_test_true, y_pred)\n",
        "print(f'Accuracy: {accuracy:.4f}')"
      ],
      "metadata": {
        "id": "cD6nRfOhw-I3"
      },
      "id": "cD6nRfOhw-I3",
      "execution_count": null,
      "outputs": []
    },
    {
      "cell_type": "markdown",
      "source": [
        "### 4.5.3. SVC"
      ],
      "metadata": {
        "id": "qi58quME7h7y"
      },
      "id": "qi58quME7h7y"
    },
    {
      "cell_type": "code",
      "source": [
        "svc_model = SVC(random_state = 42, class_weight='balanced', max_iter=1000)\n",
        "\n",
        "# Define the parameter grid to search\n",
        "param_grid = {\n",
        "    'C': [0.001,0.1, 1, 10,100],\n",
        "    'kernel': ['linear', 'rbf', 'poly'],\n",
        "    'gamma': ['scale', 'auto'],\n",
        "    'degree': [1,2,3,4,5]\n",
        "}\n",
        "\n",
        "# Create the GridSearchCV object\n",
        "grid_search = GridSearchCV(svc_model, param_grid, cv=5, scoring='accuracy', n_jobs=-1)\n",
        "\n",
        "# Perform the grid search\n",
        "grid_search.fit(X_grouped, y_grouped)\n",
        "\n",
        "# Print the best hyperparameters\n",
        "print(\"Best Hyperparameters:\", grid_search.best_params_)\n",
        "\n",
        "# Print the mean and standard deviation of cross-validated scores\n",
        "print(f\"Mean Accuracy: {grid_search.best_score_:.4f}\")\n",
        "print(f\"Standard Deviation: {grid_search.cv_results_['std_test_score'][grid_search.best_index_]:.4f}\")\n",
        "\n",
        "# Evaluate the best model on the test set\n",
        "best_model = grid_search.best_estimator_\n",
        "y_pred = best_model.predict(X_test_full)\n",
        "y_pred = label_encoder1.inverse_transform(y_pred)\n",
        "\n",
        "accuracy = accuracy_score(y_test_true, y_pred)\n",
        "print(f'Test Set Accuracy: {accuracy:.2f}')"
      ],
      "metadata": {
        "colab": {
          "base_uri": "https://localhost:8080/"
        },
        "id": "J53F4Kqy1z2x",
        "outputId": "cfd8fd28-746e-4519-ed46-b9d85ee96550"
      },
      "id": "J53F4Kqy1z2x",
      "execution_count": null,
      "outputs": [
        {
          "output_type": "stream",
          "name": "stdout",
          "text": [
            "Best Hyperparameters: {'C': 10, 'degree': 1, 'gamma': 'auto', 'kernel': 'rbf'}\n",
            "Mean Accuracy: 0.4208\n",
            "Standard Deviation: 0.0382\n",
            "Test Set Accuracy: 0.30\n"
          ]
        }
      ]
    },
    {
      "cell_type": "markdown",
      "source": [
        "### 4.5.4. RandomForest"
      ],
      "metadata": {
        "id": "bVO-4HJ6HK-A"
      },
      "id": "bVO-4HJ6HK-A"
    },
    {
      "cell_type": "code",
      "source": [
        "rfc_model = RandomForestClassifier(random_state = 42, class_weight='balanced')\n",
        "\n",
        "# Define the parameter grid to search\n",
        "param_grid = {\n",
        "    'n_estimators': [50, 100, 200],\n",
        "    'max_depth': [None, 5,10,15,16,17,18,19,20],\n",
        "    'min_samples_split': [2, 5, 10],\n",
        "    'min_samples_leaf': [1, 2, 4],\n",
        "    'max_features': ['auto', 'sqrt', 'log2'],\n",
        "}\n",
        "\n",
        "# Create the GridSearchCV object\n",
        "grid_search = GridSearchCV(rfc_model, param_grid, cv=5, scoring='accuracy', n_jobs=-1)\n",
        "\n",
        "# Perform the grid search\n",
        "grid_search.fit(X_grouped, y_grouped)\n",
        "\n",
        "# Print the best hyperparameters\n",
        "print(\"Best Hyperparameters:\", grid_search.best_params_)\n",
        "\n",
        "# Print the mean and standard deviation of cross-validated scores\n",
        "print(f\"Mean Accuracy: {grid_search.best_score_:.4f}\")\n",
        "print(f\"Standard Deviation: {grid_search.cv_results_['std_test_score'][grid_search.best_index_]:.4f}\")\n",
        "\n",
        "# Evaluate the best model on the test set\n",
        "best_model = grid_search.best_estimator_\n",
        "y_pred = best_model.predict(X_test_full)\n",
        "y_pred = label_encoder2.inverse_transform(y_pred)\n",
        "y_pred = label_encoder1.inverse_transform(y_pred)\n",
        "\n",
        "accuracy = accuracy_score(y_test_true, y_pred)\n",
        "print(f'Test Set Accuracy: {accuracy:.2f}')"
      ],
      "metadata": {
        "colab": {
          "base_uri": "https://localhost:8080/"
        },
        "id": "Va7b9FzGHQ2X",
        "outputId": "d30935ed-27d1-42eb-ffc7-6890a433362a"
      },
      "id": "Va7b9FzGHQ2X",
      "execution_count": null,
      "outputs": [
        {
          "output_type": "stream",
          "name": "stderr",
          "text": [
            "/usr/local/lib/python3.10/dist-packages/sklearn/ensemble/_forest.py:424: FutureWarning: `max_features='auto'` has been deprecated in 1.1 and will be removed in 1.3. To keep the past behaviour, explicitly set `max_features='sqrt'` or remove this parameter as it is also the default value for RandomForestClassifiers and ExtraTreesClassifiers.\n",
            "  warn(\n"
          ]
        },
        {
          "output_type": "stream",
          "name": "stdout",
          "text": [
            "Best Hyperparameters: {'max_depth': 19, 'max_features': 'auto', 'min_samples_leaf': 1, 'min_samples_split': 2, 'n_estimators': 100}\n",
            "Mean Accuracy: 0.4883\n",
            "Standard Deviation: 0.0176\n",
            "Test Set Accuracy: 0.35\n"
          ]
        }
      ]
    },
    {
      "cell_type": "markdown",
      "source": [
        "### 4.5.5. XGBoost"
      ],
      "metadata": {
        "id": "mCnI4HKm7l_K"
      },
      "id": "mCnI4HKm7l_K"
    },
    {
      "cell_type": "code",
      "source": [
        "from xgboost import XGBClassifier\n",
        "\n",
        "# XGB model\n",
        "xgb_model = XGBClassifier(random_state = 42, class_weight='balanced', max_depth = 3)\n",
        "\n",
        "# Define the parameter grid to search\n",
        "param_grid = {\n",
        "    'learning_rate': [0.01, 0.005, 0.001],\n",
        "    'n_estimators': [50, 100],\n",
        "    'subsample': [0.8, 0.9, 1.0],\n",
        "    'colsample_bytree': [0.8, 0.9, 1.0],\n",
        "}\n",
        "\n",
        "# Create the GridSearchCV object\n",
        "grid_search = GridSearchCV(xgb_model, param_grid, cv=5, scoring='accuracy', n_jobs=-1)\n",
        "\n",
        "#Encoding the values a second time\n",
        "label_encoder2 = LabelEncoder()\n",
        "y_grouped_xgb = label_encoder2.fit_transform(y_grouped)\n",
        "\n",
        "\n",
        "# Perform the grid search\n",
        "grid_search.fit(X_grouped, y_grouped_xgb)\n",
        "\n",
        "# Print the best hyperparameters\n",
        "print(\"Best Hyperparameters:\", grid_search.best_params_)\n",
        "\n",
        "# Print the mean and standard deviation of cross-validated scores\n",
        "print(f\"Mean Accuracy: {grid_search.best_score_:.4f}\")\n",
        "print(f\"Standard Deviation: {grid_search.cv_results_['std_test_score'][grid_search.best_index_]:.4f}\")\n",
        "\n",
        "# Evaluate the best model on the test set\n",
        "best_model = grid_search.best_estimator_\n",
        "y_pred = best_model.predict(X_test_full)\n",
        "y_pred = label_encoder2.inverse_transform(y_pred)\n",
        "y_pred = label_encoder1.inverse_transform(y_pred)\n",
        "\n",
        "accuracy = accuracy_score(y_test_true, y_pred)\n",
        "print(f'Test Set Accuracy: {accuracy:.2f}')"
      ],
      "metadata": {
        "colab": {
          "base_uri": "https://localhost:8080/"
        },
        "id": "NYBVmUfv7Zn3",
        "outputId": "42ea8c28-7fed-4207-e873-909463b3b8f8"
      },
      "id": "NYBVmUfv7Zn3",
      "execution_count": null,
      "outputs": [
        {
          "output_type": "stream",
          "name": "stderr",
          "text": [
            "/usr/local/lib/python3.10/dist-packages/xgboost/core.py:160: UserWarning: [03:21:52] WARNING: /workspace/src/learner.cc:742: \n",
            "Parameters: { \"class_weight\", \"max_iter\" } are not used.\n",
            "\n",
            "  warnings.warn(smsg, UserWarning)\n"
          ]
        },
        {
          "output_type": "stream",
          "name": "stdout",
          "text": [
            "Best Hyperparameters: {'colsample_bytree': 0.9, 'learning_rate': 0.01, 'max_depth': 3, 'n_estimators': 100, 'subsample': 0.9}\n",
            "Mean Accuracy: 0.5039\n",
            "Standard Deviation: 0.0430\n",
            "Test Set Accuracy: 0.35\n"
          ]
        }
      ]
    },
    {
      "cell_type": "markdown",
      "source": [
        "## 4.6. Emsemble learning"
      ],
      "metadata": {
        "id": "RfwOnpNa5f88"
      },
      "id": "RfwOnpNa5f88"
    },
    {
      "cell_type": "code",
      "source": [
        "from sklearn.ensemble import RandomForestClassifier\n",
        "from sklearn.ensemble import VotingClassifier\n",
        "from sklearn.linear_model import LogisticRegression\n",
        "from sklearn.svm import SVC,LinearSVC\n",
        "from xgboost import XGBClassifier\n",
        "\n",
        "# Compute class weights\n",
        "class_weights = compute_class_weight('balanced', classes=np.unique(y_grouped), y=y_grouped)\n",
        "\n",
        "# Create and train the Random Forest model with class weights\n",
        "rfc_model = RandomForestClassifier(max_depth=19,\n",
        "                                   #max_features= 'auto',\n",
        "                                   random_state=42,\n",
        "                                    class_weight='balanced'\n",
        "                                   #dict(zip(np.unique(y_grouped), class_weights))\n",
        "                                   )\n",
        "log_model = LogisticRegression(max_iter=1000,\n",
        "                               penalty = \"l2\",\n",
        "                               C=0.01,\n",
        "                               random_state=42,\n",
        "                               class_weight='balanced',\n",
        "                               solver= 'liblinear')\n",
        "lsvc_model = LinearSVC(C=0.001, loss = \"squared_hinge\",\n",
        "                               random_state = 42,\n",
        "                              class_weight='balanced'\n",
        "                                          )\n",
        "svc_model = SVC(random_state = 42,\n",
        "                class_weight='balanced',\n",
        "                max_iter=1000,\n",
        "                C=10,\n",
        "                degree=1,\n",
        "                gamma='auto',\n",
        "                kernel='rbf',\n",
        "                probability=True)\n",
        "\n",
        "\n",
        "xgb_model = XGBClassifier(random_state = 42,\n",
        "                          colsample_bytree = 0.9,\n",
        "                          learning_rate = 0.01,\n",
        "                          max_depth= 3,\n",
        "                          n_estimators= 100,\n",
        "                          subsample= 0.9)"
      ],
      "metadata": {
        "id": "Pi_7sdVWfCms"
      },
      "id": "Pi_7sdVWfCms",
      "execution_count": null,
      "outputs": []
    },
    {
      "cell_type": "code",
      "source": [
        "voting_model = VotingClassifier(estimators=[('lr', log_model),\n",
        "                                            ('rf', rfc_model),\n",
        "                                             ('svc', lsvc_model),\n",
        "                                             ('xgb', xgb_model)\n",
        "                                             ],voting='hard')\n",
        "\n",
        "voting_model.fit(X_grouped, y_grouped)\n",
        "from sklearn.metrics import accuracy_score\n",
        "for clf in (log_model,\n",
        "            rfc_model,\n",
        "            lsvc_model,\n",
        "            xgb_model,\n",
        "            voting_model):\n",
        "    clf.fit(X_grouped, y_grouped)\n",
        "    y_pred = clf.predict(X_test_full)\n",
        "    y_pred = label_encoder2.inverse_transform(y_pred)\n",
        "    y_pred = label_encoder1.inverse_transform(y_pred)\n",
        "    print(clf.__class__.__name__, accuracy_score(y_test_true, y_pred))"
      ],
      "metadata": {
        "colab": {
          "base_uri": "https://localhost:8080/"
        },
        "id": "qwW7y1nUsEVL",
        "outputId": "a65fb666-5135-4da7-b3df-e1e21edb9859"
      },
      "id": "qwW7y1nUsEVL",
      "execution_count": null,
      "outputs": [
        {
          "output_type": "stream",
          "name": "stdout",
          "text": [
            "LogisticRegression 0.336283185840708\n",
            "RandomForestClassifier 0.336283185840708\n",
            "LinearSVC 0.336283185840708\n",
            "XGBClassifier 0.36283185840707965\n",
            "VotingClassifier 0.35398230088495575\n"
          ]
        }
      ]
    },
    {
      "cell_type": "code",
      "source": [
        "voting_model = VotingClassifier(estimators=[('lr', log_model),\n",
        "                                            ('rf', rfc_model),\n",
        "                                           ('svc', svc_model),\n",
        "                                             ('xgb', xgb_model)\n",
        "                                            ],voting='soft')\n",
        "voting_model.fit(X_grouped, y_grouped)\n",
        "from sklearn.metrics import accuracy_score\n",
        "for clf in (log_model,\n",
        "            rfc_model,\n",
        "            svc_model,\n",
        "            xgb_model,\n",
        "            voting_model):\n",
        "    clf.fit(X_grouped, y_grouped)\n",
        "    y_pred = clf.predict(X_test_full)\n",
        "    y_pred = label_encoder2.inverse_transform(y_pred)\n",
        "    y_pred = label_encoder1.inverse_transform(y_pred)\n",
        "    print(clf.__class__.__name__, accuracy_score(y_test_true, y_pred))"
      ],
      "metadata": {
        "colab": {
          "base_uri": "https://localhost:8080/"
        },
        "id": "-7skbdR96AJs",
        "outputId": "12667d6e-b431-4b2b-8a4b-2a7ad667040c"
      },
      "id": "-7skbdR96AJs",
      "execution_count": null,
      "outputs": [
        {
          "output_type": "stream",
          "name": "stdout",
          "text": [
            "LogisticRegression 0.336283185840708\n",
            "RandomForestClassifier 0.336283185840708\n",
            "SVC 0.24778761061946902\n",
            "XGBClassifier 0.36283185840707965\n",
            "VotingClassifier 0.3805309734513274\n"
          ]
        }
      ]
    },
    {
      "cell_type": "markdown",
      "source": [
        "## 4.6 Oversampling"
      ],
      "metadata": {
        "id": "_3lWdseueKac"
      },
      "id": "_3lWdseueKac"
    },
    {
      "cell_type": "markdown",
      "source": [
        "### 4.6.1. Oversampling"
      ],
      "metadata": {
        "id": "9vVWK9QIemPn"
      },
      "id": "9vVWK9QIemPn"
    },
    {
      "cell_type": "code",
      "source": [
        "X_resampled, y_resampled = X_train_scaled, y_train_full"
      ],
      "metadata": {
        "id": "_bDH2ugKeS33"
      },
      "id": "_bDH2ugKeS33",
      "execution_count": null,
      "outputs": []
    },
    {
      "cell_type": "code",
      "source": [
        "data = X_resampled\n",
        "data['genre'] = y_resampled"
      ],
      "metadata": {
        "colab": {
          "base_uri": "https://localhost:8080/",
          "height": 338
        },
        "id": "Ne29SLjreqab",
        "outputId": "17911d99-edd9-46ef-cce9-1506e933bde9"
      },
      "id": "Ne29SLjreqab",
      "execution_count": null,
      "outputs": [
        {
          "output_type": "error",
          "ename": "ValueError",
          "evalue": "Length of values (451) does not match length of index (338)",
          "traceback": [
            "\u001b[0;31m---------------------------------------------------------------------------\u001b[0m",
            "\u001b[0;31mValueError\u001b[0m                                Traceback (most recent call last)",
            "\u001b[0;32m<ipython-input-44-0ff3ed4dcd84>\u001b[0m in \u001b[0;36m<cell line: 2>\u001b[0;34m()\u001b[0m\n\u001b[1;32m      1\u001b[0m \u001b[0mdata\u001b[0m \u001b[0;34m=\u001b[0m \u001b[0mX_resampled\u001b[0m\u001b[0;34m\u001b[0m\u001b[0;34m\u001b[0m\u001b[0m\n\u001b[0;32m----> 2\u001b[0;31m \u001b[0mdata\u001b[0m\u001b[0;34m[\u001b[0m\u001b[0;34m'genre'\u001b[0m\u001b[0;34m]\u001b[0m \u001b[0;34m=\u001b[0m \u001b[0my_resampled\u001b[0m\u001b[0;34m\u001b[0m\u001b[0;34m\u001b[0m\u001b[0m\n\u001b[0m",
            "\u001b[0;32m/usr/local/lib/python3.10/dist-packages/pandas/core/frame.py\u001b[0m in \u001b[0;36m__setitem__\u001b[0;34m(self, key, value)\u001b[0m\n\u001b[1;32m   3978\u001b[0m         \u001b[0;32melse\u001b[0m\u001b[0;34m:\u001b[0m\u001b[0;34m\u001b[0m\u001b[0;34m\u001b[0m\u001b[0m\n\u001b[1;32m   3979\u001b[0m             \u001b[0;31m# set column\u001b[0m\u001b[0;34m\u001b[0m\u001b[0;34m\u001b[0m\u001b[0m\n\u001b[0;32m-> 3980\u001b[0;31m             \u001b[0mself\u001b[0m\u001b[0;34m.\u001b[0m\u001b[0m_set_item\u001b[0m\u001b[0;34m(\u001b[0m\u001b[0mkey\u001b[0m\u001b[0;34m,\u001b[0m \u001b[0mvalue\u001b[0m\u001b[0;34m)\u001b[0m\u001b[0;34m\u001b[0m\u001b[0;34m\u001b[0m\u001b[0m\n\u001b[0m\u001b[1;32m   3981\u001b[0m \u001b[0;34m\u001b[0m\u001b[0m\n\u001b[1;32m   3982\u001b[0m     \u001b[0;32mdef\u001b[0m \u001b[0m_setitem_slice\u001b[0m\u001b[0;34m(\u001b[0m\u001b[0mself\u001b[0m\u001b[0;34m,\u001b[0m \u001b[0mkey\u001b[0m\u001b[0;34m:\u001b[0m \u001b[0mslice\u001b[0m\u001b[0;34m,\u001b[0m \u001b[0mvalue\u001b[0m\u001b[0;34m)\u001b[0m\u001b[0;34m:\u001b[0m\u001b[0;34m\u001b[0m\u001b[0;34m\u001b[0m\u001b[0m\n",
            "\u001b[0;32m/usr/local/lib/python3.10/dist-packages/pandas/core/frame.py\u001b[0m in \u001b[0;36m_set_item\u001b[0;34m(self, key, value)\u001b[0m\n\u001b[1;32m   4172\u001b[0m         \u001b[0mensure\u001b[0m \u001b[0mhomogeneity\u001b[0m\u001b[0;34m.\u001b[0m\u001b[0;34m\u001b[0m\u001b[0;34m\u001b[0m\u001b[0m\n\u001b[1;32m   4173\u001b[0m         \"\"\"\n\u001b[0;32m-> 4174\u001b[0;31m         \u001b[0mvalue\u001b[0m \u001b[0;34m=\u001b[0m \u001b[0mself\u001b[0m\u001b[0;34m.\u001b[0m\u001b[0m_sanitize_column\u001b[0m\u001b[0;34m(\u001b[0m\u001b[0mvalue\u001b[0m\u001b[0;34m)\u001b[0m\u001b[0;34m\u001b[0m\u001b[0;34m\u001b[0m\u001b[0m\n\u001b[0m\u001b[1;32m   4175\u001b[0m \u001b[0;34m\u001b[0m\u001b[0m\n\u001b[1;32m   4176\u001b[0m         if (\n",
            "\u001b[0;32m/usr/local/lib/python3.10/dist-packages/pandas/core/frame.py\u001b[0m in \u001b[0;36m_sanitize_column\u001b[0;34m(self, value)\u001b[0m\n\u001b[1;32m   4913\u001b[0m \u001b[0;34m\u001b[0m\u001b[0m\n\u001b[1;32m   4914\u001b[0m         \u001b[0;32mif\u001b[0m \u001b[0mis_list_like\u001b[0m\u001b[0;34m(\u001b[0m\u001b[0mvalue\u001b[0m\u001b[0;34m)\u001b[0m\u001b[0;34m:\u001b[0m\u001b[0;34m\u001b[0m\u001b[0;34m\u001b[0m\u001b[0m\n\u001b[0;32m-> 4915\u001b[0;31m             \u001b[0mcom\u001b[0m\u001b[0;34m.\u001b[0m\u001b[0mrequire_length_match\u001b[0m\u001b[0;34m(\u001b[0m\u001b[0mvalue\u001b[0m\u001b[0;34m,\u001b[0m \u001b[0mself\u001b[0m\u001b[0;34m.\u001b[0m\u001b[0mindex\u001b[0m\u001b[0;34m)\u001b[0m\u001b[0;34m\u001b[0m\u001b[0;34m\u001b[0m\u001b[0m\n\u001b[0m\u001b[1;32m   4916\u001b[0m         \u001b[0;32mreturn\u001b[0m \u001b[0msanitize_array\u001b[0m\u001b[0;34m(\u001b[0m\u001b[0mvalue\u001b[0m\u001b[0;34m,\u001b[0m \u001b[0mself\u001b[0m\u001b[0;34m.\u001b[0m\u001b[0mindex\u001b[0m\u001b[0;34m,\u001b[0m \u001b[0mcopy\u001b[0m\u001b[0;34m=\u001b[0m\u001b[0;32mTrue\u001b[0m\u001b[0;34m,\u001b[0m \u001b[0mallow_2d\u001b[0m\u001b[0;34m=\u001b[0m\u001b[0;32mTrue\u001b[0m\u001b[0;34m)\u001b[0m\u001b[0;34m\u001b[0m\u001b[0;34m\u001b[0m\u001b[0m\n\u001b[1;32m   4917\u001b[0m \u001b[0;34m\u001b[0m\u001b[0m\n",
            "\u001b[0;32m/usr/local/lib/python3.10/dist-packages/pandas/core/common.py\u001b[0m in \u001b[0;36mrequire_length_match\u001b[0;34m(data, index)\u001b[0m\n\u001b[1;32m    569\u001b[0m     \"\"\"\n\u001b[1;32m    570\u001b[0m     \u001b[0;32mif\u001b[0m \u001b[0mlen\u001b[0m\u001b[0;34m(\u001b[0m\u001b[0mdata\u001b[0m\u001b[0;34m)\u001b[0m \u001b[0;34m!=\u001b[0m \u001b[0mlen\u001b[0m\u001b[0;34m(\u001b[0m\u001b[0mindex\u001b[0m\u001b[0;34m)\u001b[0m\u001b[0;34m:\u001b[0m\u001b[0;34m\u001b[0m\u001b[0;34m\u001b[0m\u001b[0m\n\u001b[0;32m--> 571\u001b[0;31m         raise ValueError(\n\u001b[0m\u001b[1;32m    572\u001b[0m             \u001b[0;34m\"Length of values \"\u001b[0m\u001b[0;34m\u001b[0m\u001b[0;34m\u001b[0m\u001b[0m\n\u001b[1;32m    573\u001b[0m             \u001b[0;34mf\"({len(data)}) \"\u001b[0m\u001b[0;34m\u001b[0m\u001b[0;34m\u001b[0m\u001b[0m\n",
            "\u001b[0;31mValueError\u001b[0m: Length of values (451) does not match length of index (338)"
          ]
        }
      ]
    },
    {
      "cell_type": "code",
      "source": [
        "genre_count = data['genre'].value_counts()\n",
        "selected_genres = genre_count[genre_count > 5].index.tolist()\n",
        "\n",
        "# Filtering out the genre\n",
        "data = data[data['genre'].isin(selected_genres)]"
      ],
      "metadata": {
        "id": "9I18rAmYfrGU"
      },
      "id": "9I18rAmYfrGU",
      "execution_count": null,
      "outputs": []
    },
    {
      "cell_type": "code",
      "source": [
        "X_resampled = data.drop(['genre'], axis=1)\n",
        "y_resampled = data['genre']"
      ],
      "metadata": {
        "id": "gTe8VlJlgv2u"
      },
      "id": "gTe8VlJlgv2u",
      "execution_count": null,
      "outputs": []
    },
    {
      "cell_type": "code",
      "source": [
        "from imblearn.over_sampling import SMOTE\n",
        "smote=SMOTE(sampling_strategy='auto',\n",
        "            random_state=42 ,k_neighbors=5\n",
        "            )\n",
        "X_resampled, y_resampled = smote.fit_resample(X_resampled, y_resampled)"
      ],
      "metadata": {
        "id": "q9azgeU3eKCa"
      },
      "id": "q9azgeU3eKCa",
      "execution_count": null,
      "outputs": []
    },
    {
      "cell_type": "markdown",
      "source": [
        "### 4.6.2. Applying on model"
      ],
      "metadata": {
        "id": "I2lkFNySejNN"
      },
      "id": "I2lkFNySejNN"
    },
    {
      "cell_type": "code",
      "source": [
        "RFC_model = RandomForestClassifier(n_estimators=400, max_depth=17, random_state=42)\n",
        "RFC_model.fit(X_resampled, y_resampled )"
      ],
      "metadata": {
        "id": "QxP2jdAcehCw"
      },
      "execution_count": null,
      "outputs": [],
      "id": "QxP2jdAcehCw"
    },
    {
      "cell_type": "code",
      "source": [
        "y_rfc = RFC_model.predict(X_test_scaled)\n",
        "y_rfc = label_encoder1.inverse_transform(y_rfc)\n",
        "accuracy_rfc = accuracy_score(y_test_true, y_rfc)\n",
        "accuracy_rfc"
      ],
      "metadata": {
        "id": "Fii__1A0ehCy"
      },
      "execution_count": null,
      "outputs": [],
      "id": "Fii__1A0ehCy"
    },
    {
      "cell_type": "code",
      "source": [
        "from sklearn.metrics import classification_report\n",
        "print(classification_report(y_test_true, y_rfc))"
      ],
      "metadata": {
        "id": "CBO3JtSzehCz"
      },
      "execution_count": null,
      "outputs": [],
      "id": "CBO3JtSzehCz"
    },
    {
      "cell_type": "markdown",
      "source": [
        "# 6. Saving prediction"
      ],
      "metadata": {
        "id": "ESIidNelQs5o"
      },
      "id": "ESIidNelQs5o"
    },
    {
      "cell_type": "code",
      "source": [
        "# save Kaggle predictions to csv file\n",
        "#\n",
        "file_path = 'output.csv'\n",
        "\n",
        "# Save the NumPy array to a CSV file\n",
        "np.savetxt(file_path, y_pred, fmt='%s', delimiter=',')\n",
        "\n",
        "# Verify that the file has been saved successfully\n",
        "loaded_arr = np.loadtxt(file_path, delimiter=',',  dtype=str)\n",
        "print(\"Loaded Array from CSV File:\\n\", loaded_arr)"
      ],
      "metadata": {
        "colab": {
          "base_uri": "https://localhost:8080/"
        },
        "id": "-TlzKjozQ3I4",
        "outputId": "1b0709f5-8944-4b99-d538-adaded6b0246"
      },
      "id": "-TlzKjozQ3I4",
      "execution_count": null,
      "outputs": [
        {
          "output_type": "stream",
          "name": "stdout",
          "text": [
            "Loaded Array from CSV File:\n",
            " ['dance pop' 'album rock' 'adult standards' 'bubblegum dance'\n",
            " 'adult standards' 'album rock' 'adult standards' 'brill building pop'\n",
            " 'dance pop' 'album rock' 'adult standards' 'dance pop' 'adult standards'\n",
            " 'adult standards' 'dance pop' 'dance pop' 'album rock' 'dance pop'\n",
            " 'dance pop' 'dance pop' 'album rock' 'adult standards' 'adult standards'\n",
            " 'adult standards' 'adult standards' 'album rock' 'bubblegum dance'\n",
            " 'adult standards' 'brill building pop' 'dance pop' 'dance pop'\n",
            " 'adult standards' 'album rock' 'dance pop' 'album rock' 'dance pop'\n",
            " 'dance pop' 'adult standards' 'dance pop' 'dance pop' 'album rock'\n",
            " 'album rock' 'album rock' 'adult standards' 'adult standards'\n",
            " 'adult standards' 'album rock' 'dance pop' 'album rock' 'album rock'\n",
            " 'adult standards' 'album rock' 'album rock' 'adult standards'\n",
            " 'album rock' 'album rock' 'album rock' 'adult standards' 'dance pop'\n",
            " 'adult standards' 'album rock' 'adult standards' 'album rock'\n",
            " 'album rock' 'dance pop' 'dance pop' 'adult standards' 'album rock'\n",
            " 'album rock' 'dance pop' 'adult standards' 'adult standards' 'dance pop'\n",
            " 'adult standards' 'dance pop' 'dance pop' 'dance pop' 'album rock'\n",
            " 'adult standards' 'dance pop' 'album rock' 'adult standards' 'album rock'\n",
            " 'adult standards' 'dance pop' 'dance pop' 'dance pop'\n",
            " 'brill building pop' 'adult standards' 'adult standards' 'dance pop'\n",
            " 'album rock' 'dance pop' 'glam rock' 'dance pop' 'dance pop'\n",
            " 'adult standards' 'adult standards' 'adult standards' 'album rock'\n",
            " 'bubblegum dance' 'adult standards' 'adult standards'\n",
            " 'brill building pop' 'album rock' 'album rock' 'bubblegum dance'\n",
            " 'adult standards' 'dance pop' 'dance pop' 'dance pop' 'album rock'\n",
            " 'europop']\n"
          ]
        }
      ]
    }
  ],
  "metadata": {
    "kernelspec": {
      "display_name": "Python 3",
      "language": "python",
      "name": "python3"
    },
    "language_info": {
      "codemirror_mode": {
        "name": "ipython",
        "version": 2
      },
      "file_extension": ".py",
      "mimetype": "text/x-python",
      "name": "python",
      "nbconvert_exporter": "python",
      "pygments_lexer": "ipython2",
      "version": "2.7.6"
    },
    "colab": {
      "provenance": [],
      "include_colab_link": true
    }
  },
  "nbformat": 4,
  "nbformat_minor": 5
}